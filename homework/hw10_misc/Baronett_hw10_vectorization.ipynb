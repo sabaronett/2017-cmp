{
 "cells": [
  {
   "cell_type": "markdown",
   "metadata": {},
   "source": [
    "# Homework #10:\n",
    "|Author| Stanley A. Baronett|\n",
    "|--|-------------------------------|\n",
    "|Created | 11/2/2019|\n",
    "|Updated | 11/3/2019|"
   ]
  },
  {
   "cell_type": "markdown",
   "metadata": {},
   "source": [
    "## 17.5 Global Optimization I\n",
    "We wish to find the ground state energy between three neutral atoms or molecules, $N=3$. To simplify the calculation, we'll use the _Lennard-Jones (LJ) potential_:\n",
    "\n",
    "$$ V = 4\\varepsilon \\left[ \\left(\\frac{\\sigma}{r}\\right)^{12} - \\left(\\frac{\\sigma}{r}\\right)^{6} \\right] \\tag{1},$$\n",
    "\n",
    "where $\\varepsilon$ is the depth of the potential well, $\\sigma$ is the finite distance at which the interparticle potential is zero, and $r$ is the distance between the particles. We will also assume $\\varepsilon$ = $\\sigma$ = 1."
   ]
  },
  {
   "cell_type": "code",
   "execution_count": 1,
   "metadata": {},
   "outputs": [],
   "source": [
    "def LJ(r):\n",
    "    \"\"\"\n",
    "    Calculate and return the Lennard-Jones potential between two\n",
    "    atoms as a function of separation distance.\n",
    "    Input:\n",
    "        r: interatomic separation distance.\n",
    "    Output:\n",
    "        Lennard-Jones potential with ε = σ = 1\n",
    "    \"\"\"\n",
    "    r6 = r**6\n",
    "    r12 = r6*r6\n",
    "    return 4*(1/r12 - 1/r6)"
   ]
  },
  {
   "cell_type": "markdown",
   "metadata": {},
   "source": [
    "Since $N=3$, the number of interatomic pairs will be\n",
    "\n",
    "$$ \\frac{N\\times(N-1)}{2} = 3 \\tag{2}.$$\n",
    "\n",
    "Thus, we'll need to calculate the distance $r$ for each pair and evaluate its corresponding LJ$_3$ potential."
   ]
  },
  {
   "cell_type": "code",
   "execution_count": 2,
   "metadata": {},
   "outputs": [],
   "source": [
    "import numpy as np\n",
    "\n",
    "def total_LJ_V(positions):\n",
    "    \"\"\"\n",
    "    Calculate the total potential energy of N number of atoms using\n",
    "    the Lennard-Jones potential.\n",
    "    Input:\n",
    "        positions: 3*N 1-D array which represents the atomic positions\n",
    "                   (e.g., [x0, y0, z0, x1, y2, z1, ..., xn, yn, zn])\n",
    "    Output:\n",
    "        E: the total energy\n",
    "    \"\"\"\n",
    "    E = 0\n",
    "    N_atom = int(len(positions)/3)\n",
    "\n",
    "    for i in range(N_atom - 1):\n",
    "        for j in range(i + 1, N_atom):\n",
    "            pos1 = positions[i*3:(i+1)*3]\n",
    "            pos2 = positions[j*3:(j+1)*3]\n",
    "            dist = np.linalg.norm(pos1 - pos2)\n",
    "            E += LJ(dist)\n",
    "            \n",
    "    return E"
   ]
  },
  {
   "cell_type": "markdown",
   "metadata": {},
   "source": [
    "Now that we have a way to calculate the total energy of $N$ atoms, using the LJ potential, next we need to randomly generate positions for these $N$ atoms. To do so, we'll generate a random sample for the $x, y,$ and $z$ coordinates of each atom to be within some cubic box with set length $L$."
   ]
  },
  {
   "cell_type": "code",
   "execution_count": 3,
   "metadata": {},
   "outputs": [],
   "source": [
    "def init_pos(N, L=1):\n",
    "    \"\"\"\n",
    "    Randomly initialize the 3-D position of N atoms within a cube\n",
    "    of length L.\n",
    "    Input:\n",
    "        N: the number of atoms\n",
    "        L: 3-D boundary of random sample (e.g., length of cube)\n",
    "    Output:\n",
    "        3*N 1-D array of atomic positions\n",
    "        (e.g., [x0, y0, z0, x1, y2, z1, ..., xn, yn, zn])\n",
    "    \"\"\"\n",
    "    return L*np.random.random_sample((N*3,))"
   ]
  },
  {
   "cell_type": "markdown",
   "metadata": {},
   "source": [
    "Before we attempt to find the _gound state_ of the LJ$_3$ potential for three atoms, let's go ahead and generate a random configuration of three atoms and visualize it using the ___Atomic Simulation Environment___ (ASE) library."
   ]
  },
  {
   "cell_type": "code",
   "execution_count": 15,
   "metadata": {},
   "outputs": [],
   "source": [
    "pos = init_pos(3)"
   ]
  },
  {
   "cell_type": "code",
   "execution_count": null,
   "metadata": {},
   "outputs": [],
   "source": [
    "# Visulization of the LJ clusters\n",
    "from ase.visualize import view\n",
    "from ase import Atoms\n",
    "\n",
    "N = 3\n",
    "cluster = Atoms('N'+str(N), positions=np.reshape(pos*2.0,[N,3]))\n",
    "view(cluster, viewer='x3d')"
   ]
  },
  {
   "cell_type": "markdown",
   "metadata": {},
   "source": [
    "<h4 align=\"center\">$N = 3$ (random)</h4> "
   ]
  },
  {
   "cell_type": "markdown",
   "metadata": {},
   "source": [
    "Of course, the configuration isn't symmetric. Nonetheless, let's calculate it's LJ potential energy."
   ]
  },
  {
   "cell_type": "code",
   "execution_count": 6,
   "metadata": {},
   "outputs": [
    {
     "name": "stdout",
     "output_type": "stream",
     "text": [
      "Total energy:  2329663.3428622326\n"
     ]
    }
   ],
   "source": [
    "print(\"Total energy: \", total_LJ_V(pos))"
   ]
  },
  {
   "cell_type": "markdown",
   "metadata": {},
   "source": [
    "As we might have expected, this configuration corresponds to a high (positive) potential energy, and definitely does not represent the ground state configuration for three atoms.\n",
    "\n",
    "Now let's see if we can _minimize_ the total energy _function_ to determine a minimum, hopefully corresponding to the ground state configuration (the global minimum)."
   ]
  },
  {
   "cell_type": "code",
   "execution_count": 16,
   "metadata": {},
   "outputs": [
    {
     "name": "stdout",
     "output_type": "stream",
     "text": [
      "Total energy:  -2.999999999999962\n"
     ]
    }
   ],
   "source": [
    "from scipy.optimize import minimize\n",
    "\n",
    "res = minimize(total_LJ_V, pos, method='CG', tol=1e-4)\n",
    "print(\"Total energy: \", res.fun)"
   ]
  },
  {
   "cell_type": "markdown",
   "metadata": {},
   "source": [
    "This is using a single minimization pass, using the randomly generated spatial configuration. For reference, the energy value tabulated at the Cambridge LJ cluster database ([link](http://doye.chem.ox.ac.uk/jon/structures/LJ/tables.150.html)) for $N=3$ is \"-3.000000.\"\n",
    "\n",
    "Now let's visualize what this ground state configuration looks like."
   ]
  },
  {
   "cell_type": "code",
   "execution_count": null,
   "metadata": {},
   "outputs": [],
   "source": [
    "ground = res.x # extract the spatial coordinates of the three atoms\n",
    "               # corresponding to the minimum (ground state)\n",
    "N = 3\n",
    "cluster = Atoms('N'+str(N), positions=np.reshape(ground*2.0,[N,3]))\n",
    "view(cluster, viewer='x3d')"
   ]
  },
  {
   "cell_type": "markdown",
   "metadata": {},
   "source": [
    "<h4 align=\"center\">$N = 3$ (ground state)</h4> "
   ]
  },
  {
   "cell_type": "markdown",
   "metadata": {},
   "source": [
    "We now see the expected symmetry that was missing in the earlier, purely random, configuration. The ground state for $N=3$ corresponds to each atom at the point of an _equilateral triangle_."
   ]
  },
  {
   "cell_type": "markdown",
   "metadata": {},
   "source": [
    "## 18.3 Global Optimization II\n",
    "\n",
    "Now let's try to deteremine the ground state for $N=12$ atoms.\n",
    "\n",
    "Try different minimization methods in scipy on larger systems ($N$ up to 20), and show \n",
    "1. the average number of attempts to find the ground state\n",
    "2. the time costs\n",
    "\n",
    "\n",
    "### Optional\n",
    "try to improve the code to make it run faster, analyze the most time consuming part and give your solution"
   ]
  },
  {
   "cell_type": "code",
   "execution_count": 18,
   "metadata": {},
   "outputs": [
    {
     "name": "stdout",
     "output_type": "stream",
     "text": [
      "Total energy:  -3.0000055851423038\n"
     ]
    }
   ],
   "source": [
    "N = 12\n",
    "pos = init_pos(N)\n",
    "res = minimize(total_LJ_V, pos, method='CG', tol=1e-4)\n",
    "print(\"Total energy: \", res.fun)"
   ]
  },
  {
   "cell_type": "markdown",
   "metadata": {},
   "source": [
    "This is for a single minimization pass, using a randomly generated spatial configuration for twelve atoms. For reference, the energy value tabulated at the Cambridge LJ cluster database ([link](http://doye.chem.ox.ac.uk/jon/structures/LJ/tables.150.html)) for $N=12$ is -37.967600. This discrepancy suggests we likely found a _local_ minimum (the one closest to the random starting configuration), but not the _global_ minimum (i.e., ground state).\n",
    "\n",
    "Before we try again, let's visualize what this state looks like."
   ]
  },
  {
   "cell_type": "code",
   "execution_count": null,
   "metadata": {},
   "outputs": [],
   "source": [
    "ground = res.x\n",
    "cluster = Atoms('N'+str(N), positions=np.reshape(ground*2.0,[N,3]))\n",
    "view(cluster, viewer='x3d')"
   ]
  },
  {
   "cell_type": "markdown",
   "metadata": {},
   "source": [
    "<h4 align=\"center\">$N = 12$ (local min.)</h4> "
   ]
  },
  {
   "cell_type": "markdown",
   "metadata": {},
   "source": [
    "Since we're not guaranteed to reach the _global_ minimum with any single random configuration (as we do not know what the energy \"landscape\" of the potential function looks like), we should try multiple times, and hopefully the minimum of _that set_ will be closer to the true, global minimum (ground state). Of course, the more times we do this, the more confident we can be of finding the global minimum (i.e., as $N_{runs}\\rightarrow \\infty$)."
   ]
  },
  {
   "cell_type": "code",
   "execution_count": 19,
   "metadata": {},
   "outputs": [
    {
     "name": "stdout",
     "output_type": "stream",
     "text": [
      "RUN 49 OUT OF 50: Total Energy = -18.7782\n",
      "Ground state energy: -37.96759956221908\n",
      "Total calculation time: 267 sec\n"
     ]
    }
   ],
   "source": [
    "import time\n",
    "\n",
    "f_values = []\n",
    "pos_values = []\n",
    "N_runs = 50\n",
    "\n",
    "timer_start = time.perf_counter() # start of timer\n",
    "for i in range(N_runs):\n",
    "    pos = init_pos(N)\n",
    "    res = minimize(total_LJ_V, pos, method='CG', tol=1e-4)\n",
    "    f_values.append(res.fun)\n",
    "    pos_values.append(res.x)\n",
    "    print('\\rRUN {:d} OUT OF {:d}: Total Energy = {:.4f}'.format(i, N_runs, res.fun), flush=True, end='')\n",
    "timer_end = time.perf_counter() # end timer\n",
    "time = timer_end - timer_start\n",
    "    \n",
    "print('\\nGround state energy:', min(f_values))\n",
    "print(\"Total calculation time: {:.0f} sec\".format(time, ))"
   ]
  },
  {
   "cell_type": "markdown",
   "metadata": {},
   "source": [
    "For reference, the Cambridge Cluster Database lists -37.967600.\n",
    "\n",
    "We can plot a historgram of all our runs to start getting a picture of the energy landscape."
   ]
  },
  {
   "cell_type": "code",
   "execution_count": 20,
   "metadata": {},
   "outputs": [
    {
     "data": {
      "image/png": "[encoded data removed]",
      "text/plain": [
       "<Figure size 576x432 with 1 Axes>"
      ]
     },
     "metadata": {
      "needs_background": "light"
     },
     "output_type": "display_data"
    }
   ],
   "source": [
    "%matplotlib inline\n",
    "import matplotlib.pyplot as plt\n",
    "\n",
    "plt.figure(figsize=[8,6])\n",
    "plt.title('LJ cluster:'+ str(N_runs)+ ' trials (N = ' + str(N)+' atoms)')\n",
    "plt.hist(f_values,50)\n",
    "plt.xlabel(\"Energy\")\n",
    "plt.ylabel(\"Frequency\")\n",
    "plt.show()"
   ]
  },
  {
   "cell_type": "markdown",
   "metadata": {},
   "source": [
    "As we can see, the local minimum corresponding largest energy \"basin\" appears to center somwhere around -13. Meanwhile, the global minimum basin (ground state energy) is among the smallest.\n",
    "\n",
    "Let's see what the ground state configuration of 12 atoms looks like."
   ]
  },
  {
   "cell_type": "code",
   "execution_count": 21,
   "metadata": {},
   "outputs": [
    {
     "ename": "NameError",
     "evalue": "name 'Atoms' is not defined",
     "output_type": "error",
     "traceback": [
      "\u001b[0;31m---------------------------------------------------------------------------\u001b[0m",
      "\u001b[0;31mNameError\u001b[0m                                 Traceback (most recent call last)",
      "\u001b[0;32m<ipython-input-21-12f7939de949>\u001b[0m in \u001b[0;36m<module>\u001b[0;34m\u001b[0m\n\u001b[1;32m      1\u001b[0m \u001b[0mmin_index\u001b[0m \u001b[0;34m=\u001b[0m \u001b[0mf_values\u001b[0m\u001b[0;34m.\u001b[0m\u001b[0mindex\u001b[0m\u001b[0;34m(\u001b[0m\u001b[0mmin\u001b[0m\u001b[0;34m(\u001b[0m\u001b[0mf_values\u001b[0m\u001b[0;34m)\u001b[0m\u001b[0;34m)\u001b[0m\u001b[0;34m\u001b[0m\u001b[0;34m\u001b[0m\u001b[0m\n\u001b[1;32m      2\u001b[0m \u001b[0mground\u001b[0m \u001b[0;34m=\u001b[0m \u001b[0mpos_values\u001b[0m\u001b[0;34m[\u001b[0m\u001b[0mmin_index\u001b[0m\u001b[0;34m]\u001b[0m\u001b[0;34m\u001b[0m\u001b[0;34m\u001b[0m\u001b[0m\n\u001b[0;32m----> 3\u001b[0;31m \u001b[0mcluster\u001b[0m \u001b[0;34m=\u001b[0m \u001b[0mAtoms\u001b[0m\u001b[0;34m(\u001b[0m\u001b[0;34m'N'\u001b[0m\u001b[0;34m+\u001b[0m\u001b[0mstr\u001b[0m\u001b[0;34m(\u001b[0m\u001b[0mN\u001b[0m\u001b[0;34m)\u001b[0m\u001b[0;34m,\u001b[0m \u001b[0mpositions\u001b[0m\u001b[0;34m=\u001b[0m\u001b[0mnp\u001b[0m\u001b[0;34m.\u001b[0m\u001b[0mreshape\u001b[0m\u001b[0;34m(\u001b[0m\u001b[0mground\u001b[0m\u001b[0;34m*\u001b[0m\u001b[0;36m2.0\u001b[0m\u001b[0;34m,\u001b[0m\u001b[0;34m[\u001b[0m\u001b[0mN\u001b[0m\u001b[0;34m,\u001b[0m\u001b[0;36m3\u001b[0m\u001b[0;34m]\u001b[0m\u001b[0;34m)\u001b[0m\u001b[0;34m)\u001b[0m\u001b[0;34m\u001b[0m\u001b[0;34m\u001b[0m\u001b[0m\n\u001b[0m\u001b[1;32m      4\u001b[0m \u001b[0mview\u001b[0m\u001b[0;34m(\u001b[0m\u001b[0mcluster\u001b[0m\u001b[0;34m,\u001b[0m \u001b[0mviewer\u001b[0m\u001b[0;34m=\u001b[0m\u001b[0;34m'x3d'\u001b[0m\u001b[0;34m)\u001b[0m\u001b[0;34m\u001b[0m\u001b[0;34m\u001b[0m\u001b[0m\n",
      "\u001b[0;31mNameError\u001b[0m: name 'Atoms' is not defined"
     ]
    }
   ],
   "source": [
    "min_index = f_values.index(min(f_values))\n",
    "ground = pos_values[min_index]\n",
    "cluster = Atoms('N'+str(N), positions=np.reshape(ground*2.0,[N,3]))\n",
    "view(cluster, viewer='x3d')"
   ]
  },
  {
   "cell_type": "markdown",
   "metadata": {},
   "source": [
    "<h4 align=\"center\">$N = 12$ (ground state)</h4> "
   ]
  },
  {
   "cell_type": "markdown",
   "metadata": {},
   "source": [
    "As a comparison, we can visualize the configuration found at the Cambridge Cluster Database (CCD)."
   ]
  },
  {
   "cell_type": "code",
   "execution_count": null,
   "metadata": {},
   "outputs": [],
   "source": [
    "# data from http://doye.chem.ox.ac.uk/jon/structures/LJ/points/12\n",
    "CCD = np.array([  0.2554245657,       -0.7597155830,        0.8059835272,\n",
    "                  0.5283253377,        0.9897998883,        0.1821754467,\n",
    "                 -0.5997802033,        0.8673465165,        0.4242568675,\n",
    "                  1.0568739378,       -0.0157847459,        0.4180799298,\n",
    "                 -0.7684429943,       -0.2139178301,        0.8097866524,\n",
    "                 -0.2229503268,        0.7895914511,       -0.6395424769,\n",
    "                  0.6115264731,       -0.7980514036,       -0.2670688620,\n",
    "                 -0.4892364945,       -0.9175362229,       -0.0308514186,\n",
    "                  0.7761020388,        0.2570139805,       -0.6432655993,\n",
    "                 -1.0049747907,        0.0636802183,       -0.2610548345,\n",
    "                 -0.1634049827,       -0.3001501148,       -0.9132836927,\n",
    "                  0.0205374392,        0.0377238456,        0.1147844603])\n",
    "\n",
    "cluster = Atoms('N'+str(N), positions=np.reshape(CCD*2.0,[N,3]))\n",
    "view(cluster, viewer='x3d')"
   ]
  },
  {
   "cell_type": "markdown",
   "metadata": {},
   "source": [
    "<h4 align=\"center\">$N = 12$ (CCD ground state)</h4> "
   ]
  },
  {
   "cell_type": "markdown",
   "metadata": {},
   "source": [
    "### Just-in-time Optimization from _Numba_\n",
    "\n",
    "Now that we must perform several minimizations from random starting configurations, for larger values of $N$, computational performance becomes extremely important. For example, it took 240 seconds to complete 50 runs for $N = 12$; that's roughly 5 seconds per minimization. Let's see how much performance we can leverage by simply using _just-in-time_ (JIT) compilation using the ___Numba___ library."
   ]
  },
  {
   "cell_type": "code",
   "execution_count": 22,
   "metadata": {},
   "outputs": [],
   "source": [
    "from numba import jit\n",
    "\n",
    "@jit\n",
    "def LJ(r):\n",
    "    \"\"\"\n",
    "    Calculate and return the Lennard-Jones potential between two\n",
    "    atoms as a function of separation distance.\n",
    "    Input:\n",
    "        r: interatomic separation distance.\n",
    "    Output:\n",
    "        Lennard-Jones potential with ε = σ = 1\n",
    "    \"\"\"\n",
    "    r6 = r**6\n",
    "    r12 = r6*r6\n",
    "    return 4*(1/r12 - 1/r6)\n",
    "\n",
    "@jit\n",
    "def total_LJ_V(positions):\n",
    "    \"\"\"\n",
    "    Calculate the total potential energy of N number of atoms using\n",
    "    the Lennard-Jones potential.\n",
    "    Input:\n",
    "        positions: 3*N 1-D array which represents the atomic positions\n",
    "                   (e.g., [x0, y0, z0, x1, y2, z1, ..., xn, yn, zn])\n",
    "    Output:\n",
    "        E: the total energy\n",
    "    \"\"\"\n",
    "    E = 0\n",
    "    N_atom = int(len(positions)/3)\n",
    "\n",
    "    for i in range(N_atom - 1):\n",
    "        for j in range(i + 1, N_atom):\n",
    "            pos1 = positions[i*3:(i+1)*3]\n",
    "            pos2 = positions[j*3:(j+1)*3]\n",
    "            dist = np.linalg.norm(pos1 - pos2)\n",
    "            E += LJ(dist)\n",
    "            \n",
    "    return E\n",
    "\n",
    "@jit\n",
    "def init_pos(N, L=1):\n",
    "    \"\"\"\n",
    "    Randomly initialize the 3-D position of N atoms within a cube\n",
    "    of length L.\n",
    "    Input:\n",
    "        N: the number of atoms\n",
    "        L: 3-D boundary of random sample (e.g., length of cube)\n",
    "    Output:\n",
    "        3*N 1-D array of atomic positions\n",
    "        (e.g., [x0, y0, z0, x1, y2, z1, ..., xn, yn, zn])\n",
    "    \"\"\"\n",
    "    return L*np.random.random_sample((N*3,))"
   ]
  },
  {
   "cell_type": "code",
   "execution_count": 23,
   "metadata": {},
   "outputs": [
    {
     "name": "stdout",
     "output_type": "stream",
     "text": [
      "RUN 49 OUT OF 50: Total Energy = -0.00006\n",
      "Ground state energy: -37.967599562328054\n",
      "Total calculation time: 16 sec\n"
     ]
    }
   ],
   "source": [
    "import time\n",
    "\n",
    "f_values = []\n",
    "pos_values = []\n",
    "N_runs = 50\n",
    "\n",
    "timer_start = time.perf_counter()\n",
    "for i in range(N_runs):\n",
    "    pos = init_pos(N)\n",
    "    res = minimize(total_LJ_V, pos, method='CG', tol=1e-4)\n",
    "    f_values.append(res.fun)\n",
    "    pos_values.append(res.x)\n",
    "    print('\\rRUN {:d} OUT OF {:d}: Total Energy = {:.4f}'.format(i, N_runs, res.fun), flush=True, end='')\n",
    "timer_end = time.perf_counter()\n",
    "time = timer_end - timer_start\n",
    "    \n",
    "print('\\nGround state energy:', min(f_values))\n",
    "print(\"Total calculation time: {:.0f} sec\".format(time, ))"
   ]
  },
  {
   "cell_type": "markdown",
   "metadata": {},
   "source": [
    "Applying Numba's JIT compilation alone yields a __16x__ increase in performance."
   ]
  },
  {
   "cell_type": "markdown",
   "metadata": {},
   "source": [
    "### Vectorization Optimization\n",
    "\n",
    "Similarly, we can increase the performance by replacing the nested for-loop in total LJ potential energy function (for each pair) with aggregate Numpy array manipulation."
   ]
  },
  {
   "cell_type": "code",
   "execution_count": 49,
   "metadata": {
    "jupyter": {
     "source_hidden": true
    }
   },
   "outputs": [],
   "source": [
    "CCD = np.array([  0.4391356726,        0.1106588251,       -0.4635601962,\n",
    "                 -0.5185079933,        0.3850176090,        0.0537084789,\n",
    "                  0.0793723207,       -0.4956764341,        0.4098517173,])"
   ]
  },
  {
   "cell_type": "code",
   "execution_count": 96,
   "metadata": {},
   "outputs": [],
   "source": [
    "CCD = np.array([  0.2554245657,       -0.7597155830,        0.8059835272,\n",
    "                  0.5283253377,        0.9897998883,        0.1821754467,\n",
    "                 -0.5997802033,        0.8673465165,        0.4242568675,\n",
    "                  1.0568739378,       -0.0157847459,        0.4180799298,\n",
    "                 -0.7684429943,       -0.2139178301,        0.8097866524,\n",
    "                 -0.2229503268,        0.7895914511,       -0.6395424769,\n",
    "                  0.6115264731,       -0.7980514036,       -0.2670688620,\n",
    "                 -0.4892364945,       -0.9175362229,       -0.0308514186,\n",
    "                  0.7761020388,        0.2570139805,       -0.6432655993,\n",
    "                 -1.0049747907,        0.0636802183,       -0.2610548345,\n",
    "                 -0.1634049827,       -0.3001501148,       -0.9132836927,\n",
    "                  0.0205374392,        0.0377238456,        0.1147844603])"
   ]
  },
  {
   "cell_type": "code",
   "execution_count": 98,
   "metadata": {},
   "outputs": [],
   "source": [
    "from scipy.spatial.distance import cdist\n",
    "           \n",
    "def init_dist(N, L=1):\n",
    "    \"\"\"\n",
    "    Randomly initialize the 3-D positions of N atoms within a cube\n",
    "    of length L and return their pair-wise distances.\n",
    "    Input:\n",
    "        N: the number of atoms\n",
    "        L: 3-D boundary of random sample (e.g., length of cube)\n",
    "    Output:\n",
    "        (N*(N-1)/2) array of interatomic distances\n",
    "    \"\"\"\n",
    "#     pos = L*np.random.random_sample((N*3,))\n",
    "#     pos = np.reshape(pos, [N, 3])\n",
    "    pos = np.reshape(CCD, [N, 3])\n",
    "    dist = cdist(pos, pos, 'euclidean')\n",
    "    iu = np.triu_indices(N)\n",
    "    dist = dist[iu]\n",
    "    index = np.argwhere(dist == 0)\n",
    "    dist = np.delete(dist, index)\n",
    "    return dist"
   ]
  },
  {
   "cell_type": "code",
   "execution_count": 99,
   "metadata": {},
   "outputs": [
    {
     "data": {
      "text/plain": [
       "array([1.87734273, 1.87734427, 1.16026867, 1.16026481, 2.17226616,\n",
       "       1.13124694, 1.13124718, 1.84530948, 1.84530703, 1.82825009,\n",
       "       1.081128  , 1.16026736, 1.16026506, 1.87734927, 1.13124661,\n",
       "       1.84530624, 2.17226692, 1.13124772, 1.84530756, 1.8282485 ,\n",
       "       1.08112852, 1.87735503, 1.16026417, 1.13124518, 2.17226733,\n",
       "       1.84530481, 1.8453081 , 1.13124458, 1.82824683, 1.08112947,\n",
       "       1.87735792, 1.8453038 , 1.13124018, 1.84530554, 1.13124106,\n",
       "       2.17227045, 1.82824326, 1.08113119, 1.84530433, 1.84530365,\n",
       "       1.13124157, 2.17227001, 1.13124244, 1.82824463, 1.08112983,\n",
       "       1.83185642, 1.83185644, 1.13214763, 1.13214941, 1.12517402,\n",
       "       1.09252017, 1.13214593, 1.13215373, 1.83185531, 1.12517468,\n",
       "       1.09252014, 1.83185723, 1.13215074, 1.12517487, 1.09252051,\n",
       "       1.83185635, 1.12517334, 1.09252273, 1.1251732 , 1.09252196,\n",
       "       1.09768746])"
      ]
     },
     "execution_count": 99,
     "metadata": {},
     "output_type": "execute_result"
    }
   ],
   "source": [
    "init_dist(12)"
   ]
  },
  {
   "cell_type": "code",
   "execution_count": 100,
   "metadata": {
    "collapsed": true,
    "jupyter": {
     "outputs_hidden": true,
     "source_hidden": true
    }
   },
   "outputs": [
    {
     "name": "stdout",
     "output_type": "stream",
     "text": [
      "1.8773427329535095\n",
      "1.8773442719105655\n",
      "1.160268670310309\n",
      "1.1602648108308422\n",
      "2.172266155933807\n",
      "1.1312469374821847\n",
      "1.1312471769992278\n",
      "1.8453094772827985\n",
      "1.845307033680689\n",
      "1.8282500878155339\n",
      "1.081128001008554\n",
      "1.1602673632385936\n",
      "1.1602650578008007\n",
      "1.8773492690462188\n",
      "1.1312466081104855\n",
      "1.8453062401075029\n",
      "2.17226691932122\n",
      "1.1312477185390666\n",
      "1.8453075649021213\n",
      "1.828248498632876\n",
      "1.0811285242718849\n",
      "1.8773550341934118\n",
      "1.1602641679123227\n",
      "1.1312451772998784\n",
      "2.1722673318064074\n",
      "1.8453048141269743\n",
      "1.8453080950749312\n",
      "1.1312445807246478\n",
      "1.8282468289130647\n",
      "1.081129467032589\n",
      "1.8773579249028656\n",
      "1.84530380211688\n",
      "1.131240184474034\n",
      "1.8453055439993717\n",
      "1.131241060311235\n",
      "2.1722704453712\n",
      "1.8282432557410409\n",
      "1.0811311897795046\n",
      "1.845304325250527\n",
      "1.8453036502266527\n",
      "1.1312415651096028\n",
      "2.172270005243205\n",
      "1.1312424396432017\n",
      "1.8282446271132582\n",
      "1.0811298277352064\n",
      "1.8318564238083679\n",
      "1.8318564416731398\n",
      "1.1321476286430383\n",
      "1.132149405110831\n",
      "1.1251740228435037\n",
      "1.092520167583879\n",
      "1.1321459329296484\n",
      "1.1321537292729822\n",
      "1.8318553143128342\n",
      "1.1251746806579137\n",
      "1.0925201440325598\n",
      "1.8318572304858336\n",
      "1.1321507440886571\n",
      "1.1251748748217036\n",
      "1.0925205129303395\n",
      "1.8318563494218587\n",
      "1.125173339224957\n",
      "1.0925227321629203\n",
      "1.1251732028846446\n",
      "1.0925219642981887\n",
      "1.0976874577509073\n"
     ]
    }
   ],
   "source": [
    "E = 0\n",
    "N_atom = int(len(CCD)/3)\n",
    "arr = np.ndarray(0)\n",
    "\n",
    "for i in range(N_atom - 1):\n",
    "        for j in range(i + 1, N_atom):\n",
    "            pos1 = CCD[i*3:(i+1)*3]\n",
    "            pos2 = CCD[j*3:(j+1)*3]\n",
    "            dist = np.linalg.norm(pos1 - pos2)\n",
    "            print(dist)"
   ]
  },
  {
   "cell_type": "code",
   "execution_count": 101,
   "metadata": {},
   "outputs": [],
   "source": [
    "@jit\n",
    "def LJ(r):\n",
    "    \"\"\"\n",
    "    Calculate and return the Lennard-Jones potential between two\n",
    "    atoms as a function of separation distance.\n",
    "    Input:\n",
    "        r: ndarray of interatomic separation distances.\n",
    "    Output:\n",
    "        ndarray of Lennard-Jones potentials with ε = σ = 1\n",
    "    \"\"\"\n",
    "    r6 = np.power(r, 6)\n",
    "    r12 = np.multiply(r6, r6)\n",
    "    return 4*(1/r12 - 1/r6)\n",
    "\n",
    "@jit\n",
    "def total_LJ_V(positions):\n",
    "    \"\"\"\n",
    "    Calculate the total potential energy of N number of atoms using\n",
    "    the Lennard-Jones potential and NumPy vectorization.\n",
    "    Input:\n",
    "        positions: 3*N 1-D array which represents the atomic positions\n",
    "                   (e.g., [x0, y0, z0, x1, y2, z1, ..., xn, yn, zn])\n",
    "    Output:\n",
    "        E: the total energy\n",
    "    \"\"\"    \n",
    "    return np.sum(LJ(positions))"
   ]
  },
  {
   "cell_type": "code",
   "execution_count": 108,
   "metadata": {},
   "outputs": [
    {
     "data": {
      "text/plain": [
       "-37.96759955862121"
      ]
     },
     "execution_count": 108,
     "metadata": {},
     "output_type": "execute_result"
    }
   ],
   "source": [
    "total_LJ_V(init_dist(12))"
   ]
  },
  {
   "cell_type": "code",
   "execution_count": 1,
   "metadata": {},
   "outputs": [
    {
     "ename": "NameError",
     "evalue": "name 'minimize' is not defined",
     "output_type": "error",
     "traceback": [
      "\u001b[0;31m---------------------------------------------------------------------------\u001b[0m",
      "\u001b[0;31mNameError\u001b[0m                                 Traceback (most recent call last)",
      "\u001b[0;32m<ipython-input-1-d42d6506b7ee>\u001b[0m in \u001b[0;36m<module>\u001b[0;34m\u001b[0m\n\u001b[0;32m----> 1\u001b[0;31m \u001b[0mminimize\u001b[0m\u001b[0;34m(\u001b[0m\u001b[0mtotal_LJ_V\u001b[0m\u001b[0;34m,\u001b[0m \u001b[0minit_dist\u001b[0m\u001b[0;34m(\u001b[0m\u001b[0;36m12\u001b[0m\u001b[0;34m)\u001b[0m\u001b[0;34m,\u001b[0m \u001b[0mmethod\u001b[0m\u001b[0;34m=\u001b[0m\u001b[0;34m'CG'\u001b[0m\u001b[0;34m,\u001b[0m \u001b[0mtol\u001b[0m\u001b[0;34m=\u001b[0m\u001b[0;36m1e-4\u001b[0m\u001b[0;34m)\u001b[0m\u001b[0;34m.\u001b[0m\u001b[0mfun\u001b[0m\u001b[0;34m\u001b[0m\u001b[0;34m\u001b[0m\u001b[0m\n\u001b[0m",
      "\u001b[0;31mNameError\u001b[0m: name 'minimize' is not defined"
     ]
    }
   ],
   "source": [
    "minimize(total_LJ_V, init_dist(12), method='CG', tol=1e-4).fun"
   ]
  },
  {
   "cell_type": "code",
   "execution_count": 95,
   "metadata": {},
   "outputs": [
    {
     "name": "stdout",
     "output_type": "stream",
     "text": [
      "RUN 49 OUT OF 50: Total Energy = -59.0001\n",
      "Ground state energy: -65.99999999999983\n",
      "Total calculation time: 7 sec\n"
     ]
    }
   ],
   "source": [
    "import time\n",
    "\n",
    "N = 12\n",
    "f_values = []\n",
    "pos_values = []\n",
    "N_runs = 50\n",
    "\n",
    "timer_start = time.perf_counter()\n",
    "for i in range(N_runs):\n",
    "    pos = init_dist(N, 2)\n",
    "    res = minimize(total_LJ_V, pos, method='CG', tol=1e-4)\n",
    "    f_values.append(res.fun)\n",
    "    pos_values.append(res.x)\n",
    "    print('\\rRUN {:d} OUT OF {:d}: Total Energy = {:.4f}'.format(i, N_runs, res.fun), flush=True, end='')\n",
    "timer_end = time.perf_counter()\n",
    "time = timer_end - timer_start\n",
    "    \n",
    "print('\\nGround state energy:', min(f_values))\n",
    "print(\"Total calculation time: {:.0f} sec\".format(time, ))"
   ]
  },
  {
   "cell_type": "markdown",
   "metadata": {},
   "source": [
    "### Analytic Jacobian Optimization\n",
    "\n",
    "**"
   ]
  },
  {
   "cell_type": "code",
   "execution_count": null,
   "metadata": {},
   "outputs": [],
   "source": [
    "def LJ_jac(r):\n",
    "    \"\"\"\n",
    "    Calculate and return the Jacobian of the Lennard-Jones potential\n",
    "    between two atoms as a function of separation distance.\n",
    "    Input:\n",
    "        r: interatomic separation distance.\n",
    "    Output:\n",
    "        Lennard-Jones potential with ε = σ = 1\n",
    "    \"\"\"\n",
    "    r6 = r**6\n",
    "    r12 = r6*r6\n",
    "    return 4*(1/r12 - 1/r6)"
   ]
  },
  {
   "cell_type": "code",
   "execution_count": null,
   "metadata": {},
   "outputs": [],
   "source": [
    "def total_LJ_V_jac(positions):\n",
    "    \"\"\"\n",
    "    Calculate the Jacobian of the total potential energy \n",
    "    of N number of atoms using the Lennard-Jones potential.\n",
    "    Input:\n",
    "        positions: 3*N 1-D array which represents the atomic positions\n",
    "                   (e.g., [x0, y0, z0, x1, y2, z1, ..., xn, yn, zn])\n",
    "    Output:\n",
    "        E: the total energy\n",
    "    \"\"\"\n",
    "    E = 0\n",
    "    N_atom = int(len(positions)/3)\n",
    "\n",
    "    for i in range(N_atom - 1):\n",
    "        for j in range(i + 1, N_atom):\n",
    "            pos1 = positions[i*3:(i+1)*3]\n",
    "            pos2 = positions[j*3:(j+1)*3]\n",
    "            dist = np.linalg.norm(pos1 - pos2)\n",
    "            E += LJ_jac(dist)\n",
    "            \n",
    "    return E"
   ]
  }
 ],
 "metadata": {
  "kernelspec": {
   "display_name": "Python 3",
   "language": "python",
   "name": "python3"
  },
  "language_info": {
   "codemirror_mode": {
    "name": "ipython",
    "version": 3
   },
   "file_extension": ".py",
   "mimetype": "text/x-python",
   "name": "python",
   "nbconvert_exporter": "python",
   "pygments_lexer": "ipython3",
   "version": "3.7.3"
  }
 },
 "nbformat": 4,
 "nbformat_minor": 4
}
