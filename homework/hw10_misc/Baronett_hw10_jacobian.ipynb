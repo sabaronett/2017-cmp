{
 "cells": [
  {
   "cell_type": "markdown",
   "metadata": {},
   "source": [
    "# Homework #10:\n",
    "|Author| Stanley A. Baronett|\n",
    "|--|-------------------------------|\n",
    "|Created | 11/2/2019|\n",
    "|Updated | 11/3/2019|"
   ]
  },
  {
   "cell_type": "markdown",
   "metadata": {},
   "source": [
    "## 17.5 Global Optimization I\n",
    "We wish to find the ground state energy between three neutral atoms or molecules, $N=3$. To simplify the calculation, we'll use the _Lennard-Jones (LJ) potential_:\n",
    "\n",
    "$$ V = 4\\varepsilon \\left[ \\left(\\frac{\\sigma}{r}\\right)^{12} - \\left(\\frac{\\sigma}{r}\\right)^{6} \\right] \\tag{1},$$\n",
    "\n",
    "where $\\varepsilon$ is the depth of the potential well, $\\sigma$ is the finite distance at which the interparticle potential is zero, and $r$ is the distance between the particles. We will also assume $\\varepsilon$ = $\\sigma$ = 1."
   ]
  },
  {
   "cell_type": "code",
   "execution_count": 1,
   "metadata": {},
   "outputs": [],
   "source": [
    "def LJ(r):\n",
    "    \"\"\"\n",
    "    Calculate and return the Lennard-Jones potential between two\n",
    "    atoms as a function of separation distance.\n",
    "    Input:\n",
    "        r: interatomic separation distance.\n",
    "    Output:\n",
    "        Lennard-Jones potential with ε = σ = 1\n",
    "    \"\"\"\n",
    "    r6 = r**6\n",
    "    r12 = r6*r6\n",
    "    return 4*(1/r12 - 1/r6)"
   ]
  },
  {
   "cell_type": "markdown",
   "metadata": {},
   "source": [
    "Since $N=3$, the number of interatomic pairs will be\n",
    "\n",
    "$$ \\frac{N\\times(N-1)}{2} = 3 \\tag{2}.$$\n",
    "\n",
    "Thus, we'll need to calculate the distance $r$ for each pair and evaluate its corresponding LJ$_3$ potential."
   ]
  },
  {
   "cell_type": "code",
   "execution_count": 2,
   "metadata": {},
   "outputs": [],
   "source": [
    "import numpy as np\n",
    "\n",
    "def total_LJ_V(positions):\n",
    "    \"\"\"\n",
    "    Calculate the total potential energy of N number of atoms using\n",
    "    the Lennard-Jones potential.\n",
    "    Input:\n",
    "        positions: 3*N 1-D array which represents the atomic positions\n",
    "                   (e.g., [x0, y0, z0, x1, y2, z1, ..., xn, yn, zn])\n",
    "    Output:\n",
    "        E: the total energy\n",
    "    \"\"\"\n",
    "    E = 0\n",
    "    N_atom = int(len(positions)/3)\n",
    "\n",
    "    for i in range(N_atom - 1):\n",
    "        for j in range(i + 1, N_atom):\n",
    "            pos1 = positions[i*3:(i+1)*3]\n",
    "            pos2 = positions[j*3:(j+1)*3]\n",
    "            dist = np.linalg.norm(pos1 - pos2)\n",
    "            E += LJ(dist)\n",
    "            \n",
    "    return E"
   ]
  },
  {
   "cell_type": "markdown",
   "metadata": {},
   "source": [
    "Now that we have a way to calculate the total energy of $N$ atoms, using the LJ potential, next we need to randomly generate positions for these $N$ atoms. To do so, we'll generate a random sample for the $x, y,$ and $z$ coordinates of each atom to be within some cubic box with set length $L$."
   ]
  },
  {
   "cell_type": "code",
   "execution_count": 3,
   "metadata": {},
   "outputs": [],
   "source": [
    "def init_pos(N, L=1):\n",
    "    \"\"\"\n",
    "    Randomly initialize the 3-D position of N atoms within a cube\n",
    "    of length L.\n",
    "    Input:\n",
    "        N: the number of atoms\n",
    "        L: 3-D boundary of random sample (e.g., length of cube)\n",
    "    Output:\n",
    "        3*N 1-D array of atomic positions\n",
    "        (e.g., [x0, y0, z0, x1, y2, z1, ..., xn, yn, zn])\n",
    "    \"\"\"\n",
    "    return L*np.random.random_sample((N*3,))"
   ]
  },
  {
   "cell_type": "markdown",
   "metadata": {},
   "source": [
    "Before we attempt to find the _gound state_ of the LJ$_3$ potential for three atoms, let's go ahead and generate a random configuration of three atoms and visualize it using the ___Atomic Simulation Environment___ (ASE) library."
   ]
  },
  {
   "cell_type": "code",
   "execution_count": 7,
   "metadata": {},
   "outputs": [],
   "source": [
    "pos = init_pos(3)"
   ]
  },
  {
   "cell_type": "code",
   "execution_count": null,
   "metadata": {},
   "outputs": [],
   "source": [
    "# Visulization of the LJ clusters\n",
    "from ase.visualize import view\n",
    "from ase import Atoms\n",
    "\n",
    "N = 3\n",
    "cluster = Atoms('N'+str(N), positions=np.reshape(pos*2.0,[N,3]))\n",
    "view(cluster, viewer='x3d')"
   ]
  },
  {
   "cell_type": "markdown",
   "metadata": {},
   "source": [
    "<h4 align=\"center\">$N = 3$ (random)</h4> "
   ]
  },
  {
   "cell_type": "markdown",
   "metadata": {},
   "source": [
    "Of course, the configuration isn't symmetric. Nonetheless, let's calculate it's LJ potential energy."
   ]
  },
  {
   "cell_type": "code",
   "execution_count": 5,
   "metadata": {},
   "outputs": [
    {
     "name": "stdout",
     "output_type": "stream",
     "text": [
      "Total energy:  203273.32843114267\n"
     ]
    }
   ],
   "source": [
    "print(\"Total energy: \", total_LJ_V(pos))"
   ]
  },
  {
   "cell_type": "markdown",
   "metadata": {},
   "source": [
    "As we might have expected, this configuration corresponds to a high (positive) potential energy, and definitely does not represent the ground state configuration for three atoms.\n",
    "\n",
    "Now let's see if we can _minimize_ the total energy _function_ to determine a minimum, hopefully corresponding to the ground state configuration (the global minimum)."
   ]
  },
  {
   "cell_type": "code",
   "execution_count": 8,
   "metadata": {},
   "outputs": [
    {
     "name": "stdout",
     "output_type": "stream",
     "text": [
      "Total energy:  -2.999999999972571\n"
     ]
    }
   ],
   "source": [
    "from scipy.optimize import minimize\n",
    "\n",
    "res = minimize(total_LJ_V, pos, method='CG', tol=1e-4)\n",
    "print(\"Total energy: \", res.fun)"
   ]
  },
  {
   "cell_type": "markdown",
   "metadata": {},
   "source": [
    "This is using a single minimization pass, using the randomly generated spatial configuration. For reference, the energy value tabulated at the Cambridge LJ cluster database ([link](http://doye.chem.ox.ac.uk/jon/structures/LJ/tables.150.html)) for $N=3$ is \"-3.000000.\"\n",
    "\n",
    "Now let's visualize what this ground state configuration looks like."
   ]
  },
  {
   "cell_type": "code",
   "execution_count": 9,
   "metadata": {
    "collapsed": true,
    "jupyter": {
     "outputs_hidden": true
    }
   },
   "outputs": [
    {
     "ename": "NameError",
     "evalue": "name 'Atoms' is not defined",
     "output_type": "error",
     "traceback": [
      "\u001b[0;31m---------------------------------------------------------------------------\u001b[0m",
      "\u001b[0;31mNameError\u001b[0m                                 Traceback (most recent call last)",
      "\u001b[0;32m<ipython-input-9-fe6695f123b1>\u001b[0m in \u001b[0;36m<module>\u001b[0;34m\u001b[0m\n\u001b[1;32m      2\u001b[0m                \u001b[0;31m# corresponding to the minimum (ground state)\u001b[0m\u001b[0;34m\u001b[0m\u001b[0;34m\u001b[0m\u001b[0;34m\u001b[0m\u001b[0m\n\u001b[1;32m      3\u001b[0m \u001b[0mN\u001b[0m \u001b[0;34m=\u001b[0m \u001b[0;36m3\u001b[0m\u001b[0;34m\u001b[0m\u001b[0;34m\u001b[0m\u001b[0m\n\u001b[0;32m----> 4\u001b[0;31m \u001b[0mcluster\u001b[0m \u001b[0;34m=\u001b[0m \u001b[0mAtoms\u001b[0m\u001b[0;34m(\u001b[0m\u001b[0;34m'N'\u001b[0m\u001b[0;34m+\u001b[0m\u001b[0mstr\u001b[0m\u001b[0;34m(\u001b[0m\u001b[0mN\u001b[0m\u001b[0;34m)\u001b[0m\u001b[0;34m,\u001b[0m \u001b[0mpositions\u001b[0m\u001b[0;34m=\u001b[0m\u001b[0mnp\u001b[0m\u001b[0;34m.\u001b[0m\u001b[0mreshape\u001b[0m\u001b[0;34m(\u001b[0m\u001b[0mground\u001b[0m\u001b[0;34m*\u001b[0m\u001b[0;36m2.0\u001b[0m\u001b[0;34m,\u001b[0m\u001b[0;34m[\u001b[0m\u001b[0mN\u001b[0m\u001b[0;34m,\u001b[0m\u001b[0;36m3\u001b[0m\u001b[0;34m]\u001b[0m\u001b[0;34m)\u001b[0m\u001b[0;34m)\u001b[0m\u001b[0;34m\u001b[0m\u001b[0;34m\u001b[0m\u001b[0m\n\u001b[0m\u001b[1;32m      5\u001b[0m \u001b[0mview\u001b[0m\u001b[0;34m(\u001b[0m\u001b[0mcluster\u001b[0m\u001b[0;34m,\u001b[0m \u001b[0mviewer\u001b[0m\u001b[0;34m=\u001b[0m\u001b[0;34m'x3d'\u001b[0m\u001b[0;34m)\u001b[0m\u001b[0;34m\u001b[0m\u001b[0;34m\u001b[0m\u001b[0m\n",
      "\u001b[0;31mNameError\u001b[0m: name 'Atoms' is not defined"
     ]
    }
   ],
   "source": [
    "ground = res.x # extract the spatial coordinates of the three atoms\n",
    "               # corresponding to the minimum (ground state)\n",
    "N = 3\n",
    "cluster = Atoms('N'+str(N), positions=np.reshape(ground*2.0,[N,3]))\n",
    "view(cluster, viewer='x3d')"
   ]
  },
  {
   "cell_type": "markdown",
   "metadata": {},
   "source": [
    "<h4 align=\"center\">$N = 3$ (ground state)</h4> "
   ]
  },
  {
   "cell_type": "markdown",
   "metadata": {},
   "source": [
    "We now see the expected symmetry that was missing in the earlier, purely random, configuration. The ground state for $N=3$ corresponds to each atom at the point of an _equilateral triangle_."
   ]
  },
  {
   "cell_type": "markdown",
   "metadata": {},
   "source": [
    "## 18.3 Global Optimization II\n",
    "\n",
    "Now let's try to deteremine the ground state for $N=12$ atoms.\n",
    "\n",
    "Try different minimization methods in scipy on larger systems ($N$ up to 20), and show \n",
    "1. the average number of attempts to find the ground state\n",
    "2. the time costs\n",
    "\n",
    "\n",
    "### Optional\n",
    "try to improve the code to make it run faster, analyze the most time consuming part and give your solution"
   ]
  },
  {
   "cell_type": "code",
   "execution_count": 10,
   "metadata": {},
   "outputs": [
    {
     "name": "stdout",
     "output_type": "stream",
     "text": [
      "Total energy:  -3.0002198454973947\n"
     ]
    }
   ],
   "source": [
    "N = 12\n",
    "pos = init_pos(N)\n",
    "res = minimize(total_LJ_V, pos, method='CG', tol=1e-4)\n",
    "print(\"Total energy: \", res.fun)"
   ]
  },
  {
   "cell_type": "markdown",
   "metadata": {},
   "source": [
    "This is for a single minimization pass, using a randomly generated spatial configuration for twelve atoms. For reference, the energy value tabulated at the Cambridge LJ cluster database ([link](http://doye.chem.ox.ac.uk/jon/structures/LJ/tables.150.html)) for $N=12$ is -37.967600. This discrepancy suggests we likely found a _local_ minimum (the one closest to the random starting configuration), but not the _global_ minimum (i.e., ground state).\n",
    "\n",
    "Before we try again, let's visualize what this state looks like."
   ]
  },
  {
   "cell_type": "code",
   "execution_count": null,
   "metadata": {},
   "outputs": [],
   "source": [
    "ground = res.x\n",
    "cluster = Atoms('N'+str(N), positions=np.reshape(ground*2.0,[N,3]))\n",
    "view(cluster, viewer='x3d')"
   ]
  },
  {
   "cell_type": "markdown",
   "metadata": {},
   "source": [
    "<h4 align=\"center\">$N = 12$ (local min.)</h4> "
   ]
  },
  {
   "cell_type": "markdown",
   "metadata": {},
   "source": [
    "Since we're not guaranteed to reach the _global_ minimum with any single random configuration (as we do not know what the energy \"landscape\" of the potential function looks like), we should try multiple times, and hopefully the minimum of _that set_ will be closer to the true, global minimum (ground state). Of course, the more times we do this, the more confident we can be of finding the global minimum (i.e., as $N_{runs}\\rightarrow \\infty$)."
   ]
  },
  {
   "cell_type": "code",
   "execution_count": 14,
   "metadata": {},
   "outputs": [
    {
     "name": "stdout",
     "output_type": "stream",
     "text": [
      "RUN 49 OUT OF 50: Total Energy = -35.7842\n",
      "Ground state energy: -37.96759956227736\n",
      "Total calculation time: 20 sec\n"
     ]
    }
   ],
   "source": [
    "import time\n",
    "\n",
    "f_values = []\n",
    "pos_values = []\n",
    "N_runs = 50\n",
    "\n",
    "timer_start = time.perf_counter() # start of timer\n",
    "for i in range(N_runs):\n",
    "    pos = init_pos(N)\n",
    "    res = minimize(total_LJ_V, pos, method='CG', tol=1e-4)\n",
    "    f_values.append(res.fun)\n",
    "    pos_values.append(res.x)\n",
    "    print('\\rRUN {:d} OUT OF {:d}: Total Energy = {:.4f}'.format(i, N_runs, res.fun), flush=True, end='')\n",
    "timer_end = time.perf_counter() # end timer\n",
    "time = timer_end - timer_start\n",
    "    \n",
    "print('\\nGround state energy:', min(f_values))\n",
    "print(\"Total calculation time: {:.0f} sec\".format(time, ))"
   ]
  },
  {
   "cell_type": "markdown",
   "metadata": {},
   "source": [
    "For reference, the Cambridge Cluster Database lists -37.967600.\n",
    "\n",
    "We can plot a historgram of all our runs to start getting a picture of the energy landscape."
   ]
  },
  {
   "cell_type": "code",
   "execution_count": null,
   "metadata": {},
   "outputs": [],
   "source": [
    "%matplotlib inline\n",
    "import matplotlib.pyplot as plt\n",
    "\n",
    "plt.figure(figsize=[8,6])\n",
    "plt.title('LJ cluster:'+ str(N_runs)+ ' trials (N = ' + str(N)+' atoms)')\n",
    "plt.hist(f_values,50)\n",
    "plt.xlabel(\"Energy\")\n",
    "plt.ylabel(\"Frequency\")\n",
    "plt.show()"
   ]
  },
  {
   "cell_type": "markdown",
   "metadata": {},
   "source": [
    "As we can see, the local minimum corresponding largest energy \"basin\" appears to center somwhere around -13. Meanwhile, the global minimum basin (ground state energy) is among the smallest.\n",
    "\n",
    "Let's see what the ground state configuration of 12 atoms looks like."
   ]
  },
  {
   "cell_type": "code",
   "execution_count": null,
   "metadata": {},
   "outputs": [],
   "source": [
    "min_index = f_values.index(min(f_values))\n",
    "ground = pos_values[min_index]\n",
    "cluster = Atoms('N'+str(N), positions=np.reshape(ground*2.0,[N,3]))\n",
    "view(cluster, viewer='x3d')"
   ]
  },
  {
   "cell_type": "markdown",
   "metadata": {},
   "source": [
    "<h4 align=\"center\">$N = 12$ (ground state)</h4> "
   ]
  },
  {
   "cell_type": "markdown",
   "metadata": {},
   "source": [
    "As a comparison, we can visualize the configuration found at the Cambridge Cluster Database (CCD)."
   ]
  },
  {
   "cell_type": "code",
   "execution_count": null,
   "metadata": {},
   "outputs": [],
   "source": [
    "# data from http://doye.chem.ox.ac.uk/jon/structures/LJ/points/12\n",
    "CCD = np.array([  0.2554245657,       -0.7597155830,        0.8059835272,\n",
    "                  0.5283253377,        0.9897998883,        0.1821754467,\n",
    "                 -0.5997802033,        0.8673465165,        0.4242568675,\n",
    "                  1.0568739378,       -0.0157847459,        0.4180799298,\n",
    "                 -0.7684429943,       -0.2139178301,        0.8097866524,\n",
    "                 -0.2229503268,        0.7895914511,       -0.6395424769,\n",
    "                  0.6115264731,       -0.7980514036,       -0.2670688620,\n",
    "                 -0.4892364945,       -0.9175362229,       -0.0308514186,\n",
    "                  0.7761020388,        0.2570139805,       -0.6432655993,\n",
    "                 -1.0049747907,        0.0636802183,       -0.2610548345,\n",
    "                 -0.1634049827,       -0.3001501148,       -0.9132836927,\n",
    "                  0.0205374392,        0.0377238456,        0.1147844603])\n",
    "\n",
    "cluster = Atoms('N'+str(N), positions=np.reshape(CCD*2.0,[N,3]))\n",
    "view(cluster, viewer='x3d')"
   ]
  },
  {
   "cell_type": "markdown",
   "metadata": {},
   "source": [
    "<h4 align=\"center\">$N = 12$ (CCD ground state)</h4> "
   ]
  },
  {
   "cell_type": "markdown",
   "metadata": {},
   "source": [
    "### Just-in-time Optimization from _Numba_\n",
    "\n",
    "Now that we must perform several minimizations from random starting configurations, for larger values of $N$, computational performance becomes extremely important. For example, __it took 240 seconds to complete 50 runs for $N = 12$; that's roughly 5 seconds per minimization.__ Let's see how much performance we can leverage by simply using _just-in-time_ (JIT) compilation using the ___Numba___ library."
   ]
  },
  {
   "cell_type": "code",
   "execution_count": 18,
   "metadata": {},
   "outputs": [],
   "source": [
    "from numba import jit\n",
    "\n",
    "@jit\n",
    "def LJ(r):\n",
    "    \"\"\"\n",
    "    Calculate and return the Lennard-Jones potential between two\n",
    "    atoms as a function of separation distance.\n",
    "    Input:\n",
    "        r: interatomic separation distance.\n",
    "    Output:\n",
    "        Lennard-Jones potential with ε = σ = 1\n",
    "    \"\"\"\n",
    "    r6 = r**6\n",
    "    r12 = r6*r6\n",
    "    return 4*(1/r12 - 1/r6)\n",
    "\n",
    "@jit\n",
    "def total_LJ_V(positions):\n",
    "    \"\"\"\n",
    "    Calculate the total potential energy of N number of atoms using\n",
    "    the Lennard-Jones potential.\n",
    "    Input:\n",
    "        positions: 3*N 1-D array which represents the atomic positions\n",
    "                   (e.g., [x0, y0, z0, x1, y2, z1, ..., xn, yn, zn])\n",
    "    Output:\n",
    "        E: the total energy\n",
    "    \"\"\"\n",
    "    E = 0\n",
    "    N_atom = int(len(positions)/3)\n",
    "\n",
    "    for i in range(N_atom - 1):\n",
    "        for j in range(i + 1, N_atom):\n",
    "            pos1 = positions[i*3:(i+1)*3]\n",
    "            pos2 = positions[j*3:(j+1)*3]\n",
    "            dist = np.linalg.norm(pos1 - pos2)\n",
    "            E += LJ(dist)\n",
    "            \n",
    "    return E\n",
    "\n",
    "@jit\n",
    "def init_pos(N, L=1):\n",
    "    \"\"\"\n",
    "    Randomly initialize the 3-D position of N atoms within a cube\n",
    "    of length L.\n",
    "    Input:\n",
    "        N: the number of atoms\n",
    "        L: 3-D boundary of random sample (e.g., length of cube)\n",
    "    Output:\n",
    "        3*N 1-D array of atomic positions\n",
    "        (e.g., [x0, y0, z0, x1, y2, z1, ..., xn, yn, zn])\n",
    "    \"\"\"\n",
    "    return L*np.random.random_sample((N*3,))"
   ]
  },
  {
   "cell_type": "code",
   "execution_count": 19,
   "metadata": {},
   "outputs": [
    {
     "name": "stdout",
     "output_type": "stream",
     "text": [
      "RUN 49 OUT OF 50: Total Energy = -29.8121966.0068\n",
      "Ground state energy: -37.967599562266734\n",
      "Total calculation time: 17 sec\n"
     ]
    }
   ],
   "source": [
    "import time\n",
    "\n",
    "f_values = []\n",
    "pos_values = []\n",
    "N_runs = 50\n",
    "\n",
    "timer_start = time.perf_counter()\n",
    "for i in range(N_runs):\n",
    "    pos = init_pos(N)\n",
    "    res = minimize(total_LJ_V, pos, method='CG', tol=1e-4)\n",
    "    f_values.append(res.fun)\n",
    "    pos_values.append(res.x)\n",
    "    print('\\rRUN {:d} OUT OF {:d}: Total Energy = {:.4f}'.format(i, N_runs, res.fun), flush=True, end='')\n",
    "timer_end = time.perf_counter()\n",
    "time = timer_end - timer_start\n",
    "    \n",
    "print('\\nGround state energy:', min(f_values))\n",
    "print(\"Total calculation time: {:.0f} sec\".format(time, ))"
   ]
  },
  {
   "cell_type": "markdown",
   "metadata": {},
   "source": [
    "__**Applying Numba's JIT compilation alone yields a 16x increase in performance.__"
   ]
  },
  {
   "cell_type": "markdown",
   "metadata": {},
   "source": [
    "### Analytic Jacobian Optimization\n",
    "\n",
    "**"
   ]
  },
  {
   "cell_type": "code",
   "execution_count": 38,
   "metadata": {},
   "outputs": [],
   "source": [
    "@jit\n",
    "def dLJ(r):\n",
    "    \"\"\"\n",
    "    Calculate and return the first derivative of the Lennard-Jones\n",
    "    potential between two atoms as a function of separation distance.\n",
    "    Input:\n",
    "        r: interatomic separation distance.\n",
    "    Output:\n",
    "        First derivative Lennard-Jones potential with ε = σ = 1\n",
    "    \"\"\"\n",
    "    r7 = r**7\n",
    "    r13 = r**13\n",
    "    return 24*(1/r7 - 2/r13)\n",
    "\n",
    "def LJ_jac(positions):\n",
    "    \"\"\"\n",
    "    Calculate the Jacobian of the total potential energy of N number \n",
    "    of atoms using the Lennard-Jones potential.\n",
    "    Input:\n",
    "        positions: 3*N 1-D array which represents the atomic positions\n",
    "                   (e.g., [x0, y0, z0, x1, y2, z1, ..., xn, yn, zn])\n",
    "    Output:\n",
    "        J: the Jacobian.\n",
    "    \"\"\"\n",
    "    J = np.empty(1)\n",
    "    N_atom = int(len(positions)/3)\n",
    "\n",
    "    for i in range(N_atom - 1):\n",
    "        for j in range(i + 1, N_atom):\n",
    "            pos1 = positions[i*3:(i+1)*3]\n",
    "            pos2 = positions[j*3:(j+1)*3]\n",
    "            dist = np.linalg.norm(pos1 - pos2)\n",
    "            np.append(J, dV_dr(dist))\n",
    "            \n",
    "    return J"
   ]
  },
  {
   "cell_type": "code",
   "execution_count": 51,
   "metadata": {},
   "outputs": [
    {
     "name": "stdout",
     "output_type": "stream",
     "text": [
      "RUN 99 OUT OF 100: Total Energy = 1700012.973518635750\n",
      "Ground state energy: -0.8891512873499543\n",
      "Total calculation time: 0 sec\n"
     ]
    }
   ],
   "source": [
    "import time\n",
    "\n",
    "N = 3\n",
    "f_values = []\n",
    "pos_values = []\n",
    "N_runs = 100\n",
    "\n",
    "timer_start = time.perf_counter()\n",
    "for i in range(N_runs):\n",
    "    pos = init_pos(N)\n",
    "    res = minimize(total_LJ_V, pos, jac=dLJ, method='CG', tol=1e-4)\n",
    "    f_values.append(res.fun)\n",
    "    pos_values.append(res.x)\n",
    "    print('\\rRUN {:d} OUT OF {:d}: Total Energy = {:.4f}'.format(i, N_runs, res.fun), flush=True, end='')\n",
    "timer_end = time.perf_counter()\n",
    "time = timer_end - timer_start\n",
    "    \n",
    "print('\\nGround state energy:', min(f_values))\n",
    "print(\"Total calculation time: {:.0f} sec\".format(time, ))"
   ]
  },
  {
   "cell_type": "code",
   "execution_count": null,
   "metadata": {},
   "outputs": [],
   "source": [
    "def LJ_force(pos, dim, mu=0.1, shift=False):\n",
    "    N_atom = int(len(pos)/dim)\n",
    "    pos = np.reshape(pos,[N_atom, dim])\n",
    "    force = np.zeros([N_atom, dim])\n",
    "    for i, pos0 in enumerate(pos):\n",
    "        pos1 = pos.copy()\n",
    "        pos1 = np.delete(pos1, i, 0)\n",
    "        distance = cdist([pos0], pos1)\n",
    "        r = pos1 - pos0\n",
    "        r2 = np.power(distance, 2)\n",
    "        r6 = np.power(r2, 3)\n",
    "        r12 = np.power(r6, 2)\n",
    "        force[i] = np.dot((48/r12-24/r6)/r2, r)\n",
    "        # force from the punish function mu*sum([x-mean(x)]^2)\n",
    "        if dim > 3:\n",
    "            for j in range(3,dim):\n",
    "                if shift:\n",
    "                    force[i, j] += mu*(pos[i, j] - np.mean(pos[:, j]))\n",
    "                else:\n",
    "                    force[i, j] += mu*pos[i, j] \n",
    "    return force.flatten()"
   ]
  }
 ],
 "metadata": {
  "kernelspec": {
   "display_name": "Python 3",
   "language": "python",
   "name": "python3"
  },
  "language_info": {
   "codemirror_mode": {
    "name": "ipython",
    "version": 3
   },
   "file_extension": ".py",
   "mimetype": "text/x-python",
   "name": "python",
   "nbconvert_exporter": "python",
   "pygments_lexer": "ipython3",
   "version": "3.7.3"
  }
 },
 "nbformat": 4,
 "nbformat_minor": 4
}
