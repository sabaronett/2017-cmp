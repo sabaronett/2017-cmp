{
 "cells": [
  {
   "cell_type": "markdown",
   "metadata": {},
   "source": [
    "# Homework #10.2 (Jacobian Supplement):\n",
    "|Author| Stanley A. Baronett|\n",
    "|--|-------------------------------|\n",
    "|Created | 11/3/2019|\n",
    "|Updated | 11/6/2019|"
   ]
  },
  {
   "cell_type": "markdown",
   "metadata": {},
   "source": [
    "## 18.3 Global Optimization II+\n",
    "### Analytic Jacobian Optimization\n",
    "Another way we can optimize our methods to find the ground state energy is to pass an explicit function for the _Jacobian_ of our objective function to SciPy's `minimize` function. Thus far, calls to SciPy's `minimize` require it to _numerically_ calculate the gradient of our objective function at some set of parameters (in our case, the series of $x, y,$ and $z$ coordinates of each atom). In some cases, e.g., when the Jacobian of the objective function cannot be expressed analytically, doing this numerically is the only way, but it comes at substantial computational cost.\n",
    "\n",
    "$$ \\mathbf J = \\left[ \\begin{array} { c c c } { \\frac { \\partial f } { \\partial x _ { 1 } } } & { \\cdots } & { \\frac { \\partial f } { \\partial x _ { n } } } \\end{array} \\right],\\tag{1}$$\n",
    "\n",
    "where $x_i$ are each variable (parameter) of our objective function, $f$. Now, our objective function, $E$, for $N$ atoms, is\n",
    "\n",
    "$$ E(x_1, y_1, z_1, ..., x_n, y_n, z_n) = \\sum_{i=1}^{N-1}\\sum_{j=2}^{N}V(r_{ij}), \\tag{2}$$\n",
    "\n",
    "where,\n",
    "\n",
    "$$ r_{ij} = \\sqrt{(x_i - x_j)^2 + (y_i - y_j)^2 + (z_i - z_j)^2}.\\tag{3} $$\n",
    "\n",
    "Let's calculate the first term of the of the Jacobian for $E$, $\\mathbf J_1$:\n",
    "\n",
    "$$ \\mathbf J_1 = \\frac{\\partial E}{\\partial x_1} = \\sum_{j=2}^{N}\\frac{\\partial V(r_{1j})}{\\partial r_{1j}}\\frac{\\partial r_{1j}}{\\partial x_1}, \\tag{4} $$\n",
    "\n",
    "but,\n",
    "\n",
    "$$ \\frac{\\partial V(r)}{\\partial r} = 24 \\left( \\frac{1}{r^7} - \\frac{2}{r^{13}} \\right) \\tag{5} $$\n",
    "\n",
    "and,\n",
    "\n",
    "$$ \\frac{\\partial r_{1j}}{\\partial x_1} = \\frac{x_1 - x_j}{r_{1j}} \\tag{6}. $$\n",
    "\n",
    "Thus, for the $i^{th}$ term in the Jacobian for $N$ atoms,\n",
    "\n",
    "$$ \\mathbf J_i = \\frac{\\partial E}{\\partial x_i} = \\sum_{j=i+1}^{N} \\left( \\frac{24}{r_{ij}^7} - \\frac{48}{r_{ij}^{13}} \\right)\\frac{x_i - x_j}{r_{ij}}, \\tag{4} $$\n",
    "\n",
    "Thus, we can define a function to return the Jacobian for $N$ atoms."
   ]
  },
  {
   "cell_type": "code",
   "execution_count": null,
   "metadata": {},
   "outputs": [],
   "source": [
    "from Numba import jit"
   ]
  },
  {
   "cell_type": "code",
   "execution_count": null,
   "metadata": {},
   "outputs": [],
   "source": [
    "@jit\n",
    "def E_jac(pos):\n",
    "    \"\"\"\n",
    "    ***\n",
    "    \"\"\""
   ]
  },
  {
   "cell_type": "markdown",
   "metadata": {},
   "source": [
    "Together with our originally defined functions..."
   ]
  },
  {
   "cell_type": "code",
   "execution_count": 1,
   "metadata": {},
   "outputs": [],
   "source": [
    "@jit\n",
    "def V(r):\n",
    "    \"\"\"\n",
    "    Calculate and return the Lennard-Jones potential between two\n",
    "    atoms as a function of separation distance.\n",
    "    Input:\n",
    "        r: interatomic separation distance.\n",
    "    Output:\n",
    "        Lennard-Jones potential with ε = σ = 1\n",
    "    \"\"\"\n",
    "    r6 = r**6\n",
    "    r12 = r6*r6\n",
    "    return 4*(1/r12 - 1/r6)\n",
    "\n",
    "@jit\n",
    "def E(positions):\n",
    "    \"\"\"\n",
    "    Calculate the total potential energy of N number of atoms using\n",
    "    the Lennard-Jones potential.\n",
    "    Input:\n",
    "        positions: 3*N 1-D array which represents the atomic positions\n",
    "                   (e.g., [x0, y0, z0, x1, y2, z1, ..., xn, yn, zn])\n",
    "    Output:\n",
    "        E: the total energy\n",
    "    \"\"\"\n",
    "    E = 0\n",
    "    N_atom = int(len(positions)/3)\n",
    "\n",
    "    for i in range(N_atom - 1):\n",
    "        for j in range(i + 1, N_atom):\n",
    "            pos1 = positions[i*3:(i+1)*3]\n",
    "            pos2 = positions[j*3:(j+1)*3]\n",
    "            dist = np.linalg.norm(pos1 - pos2)\n",
    "            E += LJ(dist)\n",
    "            \n",
    "    return E\n",
    "\n",
    "@jit\n",
    "def init_pos(N, L=1):\n",
    "    \"\"\"\n",
    "    Randomly initialize the 3-D position of N atoms within a cube\n",
    "    of length L.\n",
    "    Input:\n",
    "        N: the number of atoms\n",
    "        L: 3-D boundary of random sample (e.g., length of cube)\n",
    "    Output:\n",
    "        3*N 1-D array of atomic positions\n",
    "        (e.g., [x0, y0, z0, x1, y2, z1, ..., xn, yn, zn])\n",
    "    \"\"\"\n",
    "    return L*np.random.random_sample((N*3,))"
   ]
  }
 ],
 "metadata": {
  "kernelspec": {
   "display_name": "Python 3",
   "language": "python",
   "name": "python3"
  },
  "language_info": {
   "codemirror_mode": {
    "name": "ipython",
    "version": 3
   },
   "file_extension": ".py",
   "mimetype": "text/x-python",
   "name": "python",
   "nbconvert_exporter": "python",
   "pygments_lexer": "ipython3",
   "version": "3.7.3"
  }
 },
 "nbformat": 4,
 "nbformat_minor": 4
}
