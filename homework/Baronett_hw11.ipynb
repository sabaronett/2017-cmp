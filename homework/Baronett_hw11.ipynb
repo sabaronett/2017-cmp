{
 "cells": [
  {
   "cell_type": "markdown",
   "metadata": {},
   "source": [
    "# Homework #11:\n",
    "|Author| Stanley A. Baronett|\n",
    "|--|-------------------------------|\n",
    "|Created | 10/22/2019|\n",
    "|Updated | 10/24/2019|"
   ]
  },
  {
   "cell_type": "markdown",
   "metadata": {},
   "source": [
    "## 21.6 Machine Learning I\n",
    "### \"One Rule\" Algorithm (OneR)\n",
    "Let's first load in and display the famous _iris flower set data_."
   ]
  },
  {
   "cell_type": "code",
   "execution_count": 1,
   "metadata": {},
   "outputs": [
    {
     "data": {
      "text/html": [
       "<div>\n",
       "<style scoped>\n",
       "    .dataframe tbody tr th:only-of-type {\n",
       "        vertical-align: middle;\n",
       "    }\n",
       "\n",
       "    .dataframe tbody tr th {\n",
       "        vertical-align: top;\n",
       "    }\n",
       "\n",
       "    .dataframe thead th {\n",
       "        text-align: right;\n",
       "    }\n",
       "</style>\n",
       "<table border=\"1\" class=\"dataframe\">\n",
       "  <thead>\n",
       "    <tr style=\"text-align: right;\">\n",
       "      <th></th>\n",
       "      <th>Sepal Length</th>\n",
       "      <th>Sepal Width</th>\n",
       "      <th>Petal Length</th>\n",
       "      <th>Petal Width</th>\n",
       "      <th>Label</th>\n",
       "    </tr>\n",
       "  </thead>\n",
       "  <tbody>\n",
       "    <tr>\n",
       "      <th>0</th>\n",
       "      <td>5.1</td>\n",
       "      <td>3.5</td>\n",
       "      <td>1.4</td>\n",
       "      <td>0.2</td>\n",
       "      <td>0</td>\n",
       "    </tr>\n",
       "    <tr>\n",
       "      <th>1</th>\n",
       "      <td>4.9</td>\n",
       "      <td>3.0</td>\n",
       "      <td>1.4</td>\n",
       "      <td>0.2</td>\n",
       "      <td>0</td>\n",
       "    </tr>\n",
       "    <tr>\n",
       "      <th>2</th>\n",
       "      <td>4.7</td>\n",
       "      <td>3.2</td>\n",
       "      <td>1.3</td>\n",
       "      <td>0.2</td>\n",
       "      <td>0</td>\n",
       "    </tr>\n",
       "    <tr>\n",
       "      <th>3</th>\n",
       "      <td>4.6</td>\n",
       "      <td>3.1</td>\n",
       "      <td>1.5</td>\n",
       "      <td>0.2</td>\n",
       "      <td>0</td>\n",
       "    </tr>\n",
       "    <tr>\n",
       "      <th>4</th>\n",
       "      <td>5.0</td>\n",
       "      <td>3.6</td>\n",
       "      <td>1.4</td>\n",
       "      <td>0.2</td>\n",
       "      <td>0</td>\n",
       "    </tr>\n",
       "    <tr>\n",
       "      <th>...</th>\n",
       "      <td>...</td>\n",
       "      <td>...</td>\n",
       "      <td>...</td>\n",
       "      <td>...</td>\n",
       "      <td>...</td>\n",
       "    </tr>\n",
       "    <tr>\n",
       "      <th>145</th>\n",
       "      <td>6.7</td>\n",
       "      <td>3.0</td>\n",
       "      <td>5.2</td>\n",
       "      <td>2.3</td>\n",
       "      <td>2</td>\n",
       "    </tr>\n",
       "    <tr>\n",
       "      <th>146</th>\n",
       "      <td>6.3</td>\n",
       "      <td>2.5</td>\n",
       "      <td>5.0</td>\n",
       "      <td>1.9</td>\n",
       "      <td>2</td>\n",
       "    </tr>\n",
       "    <tr>\n",
       "      <th>147</th>\n",
       "      <td>6.5</td>\n",
       "      <td>3.0</td>\n",
       "      <td>5.2</td>\n",
       "      <td>2.0</td>\n",
       "      <td>2</td>\n",
       "    </tr>\n",
       "    <tr>\n",
       "      <th>148</th>\n",
       "      <td>6.2</td>\n",
       "      <td>3.4</td>\n",
       "      <td>5.4</td>\n",
       "      <td>2.3</td>\n",
       "      <td>2</td>\n",
       "    </tr>\n",
       "    <tr>\n",
       "      <th>149</th>\n",
       "      <td>5.9</td>\n",
       "      <td>3.0</td>\n",
       "      <td>5.1</td>\n",
       "      <td>1.8</td>\n",
       "      <td>2</td>\n",
       "    </tr>\n",
       "  </tbody>\n",
       "</table>\n",
       "<p>150 rows × 5 columns</p>\n",
       "</div>"
      ],
      "text/plain": [
       "     Sepal Length  Sepal Width  Petal Length  Petal Width  Label\n",
       "0             5.1          3.5           1.4          0.2      0\n",
       "1             4.9          3.0           1.4          0.2      0\n",
       "2             4.7          3.2           1.3          0.2      0\n",
       "3             4.6          3.1           1.5          0.2      0\n",
       "4             5.0          3.6           1.4          0.2      0\n",
       "..            ...          ...           ...          ...    ...\n",
       "145           6.7          3.0           5.2          2.3      2\n",
       "146           6.3          2.5           5.0          1.9      2\n",
       "147           6.5          3.0           5.2          2.0      2\n",
       "148           6.2          3.4           5.4          2.3      2\n",
       "149           5.9          3.0           5.1          1.8      2\n",
       "\n",
       "[150 rows x 5 columns]"
      ]
     },
     "execution_count": 1,
     "metadata": {},
     "output_type": "execute_result"
    }
   ],
   "source": [
    "from sklearn.datasets import load_iris\n",
    "from collections import OrderedDict\n",
    "import pandas as pd\n",
    "import numpy as np\n",
    "import matplotlib.pyplot as plt\n",
    "\n",
    "att = ['Sepal Length',\n",
    "              'Sepal Width',\n",
    "              'Petal Length',\n",
    "              'Petal Width']\n",
    "\n",
    "dataset = load_iris()\n",
    "X = dataset.data\n",
    "Y = dataset.target\n",
    "iris_data = OrderedDict({att[0]: X[:,0],\n",
    "                         att[1]: X[:,1],\n",
    "                         att[2]: X[:,2],\n",
    "                         att[3]: X[:,3],\n",
    "                         'Label': Y})\n",
    "df = pd.DataFrame(iris_data)\n",
    "#pd.set_option('display.max_rows', None) # uncomment to see untruncated dataframe\n",
    "pd.set_option('display.max_rows', 10)\n",
    "pd.options.display.float_format = '{:,.1f}'.format\n",
    "df"
   ]
  },
  {
   "cell_type": "markdown",
   "metadata": {},
   "source": [
    "### Discretization\n",
    "In order to establish any \"rules,\" we first need to reduce this more or less _continuous_ data into _discrete_ sets. For each property (e.g., sepal length), we need to separate the species into their own _exclusive_ range of values, or \"bin.\" The resulting _rule_ is such that, e.g., if the sepal length of a new flower falls within one of these three bins (i.e., range of values), then we'll classify it accordingly.\n",
    "\n",
    "_Optimal binning_ is a data analysis problem in its own right. However, for our purposes, we can start off by finding the mean value of each property—for each species—which we can then use as their respective \"bin centers.\" Let's start with sepal length. Luckily, our data is already grouped by species: the first 50 instances are _setosa_, the middle 50 are _versicolor_ and the last 50 are _virginica_. "
   ]
  },
  {
   "cell_type": "code",
   "execution_count": 2,
   "metadata": {},
   "outputs": [],
   "source": [
    "def rule(a):\n",
    "    \"\"\"\n",
    "    Returns rule values based on optimal bin edges derived\n",
    "    from a species' mean value for a given attribute.\n",
    "    \n",
    "    Parameters\n",
    "    ----------\n",
    "    a : array_like\n",
    "        Array containing attribute values grouped by species\n",
    "    \n",
    "    Returns\n",
    "    -------\n",
    "    edges : array_like\n",
    "        Array containing rule values based on bin edges\n",
    "    \"\"\"\n",
    "    means = [] # hold attribute means for each species\n",
    "    means.append(np.mean(a[:50]))     # setosa\n",
    "    means.append(np.mean(a[50:100]))  # versicolor\n",
    "    means.append(np.mean(a[100:150])) # virginica\n",
    "    # take the average value between means to be edges\n",
    "    edges = [(means[0] + (means[1] - means[0])/2),\n",
    "             (means[1] + (means[2] - means[1])/2)]\n",
    "    # correct for cases where edges are decreasing\n",
    "    if edges[0] > edges[1]:\n",
    "        temp = edges[0]\n",
    "        edges[0] = edges[1]\n",
    "        edges[1] = temp\n",
    "    return edges\n",
    "\n",
    "def freqs(a, rule):\n",
    "    \"\"\"\n",
    "    Returns rule-based predictor frequencies.\n",
    "    \n",
    "    Parameters\n",
    "    ----------\n",
    "    a : array_like\n",
    "        Array containing attribute values grouped by species\n",
    "    rule : array_like\n",
    "        Array containing rule values based on bin edges used\n",
    "        to calculate frequencies.\n",
    "    \n",
    "    Returns\n",
    "    -------\n",
    "    table : array_like\n",
    "        Array containing frequencies of 'rule' applied to 'a'\n",
    "    \"\"\"\n",
    "    bins = np.zeros([3,3]) # hold bin counts\n",
    "    counts = np.zeros(3)\n",
    "    start, end = 0, 50\n",
    "\n",
    "    for i in range(3): # for each species\n",
    "        counts[0] = np.where(a[start:end] < rule[0])[0].size\n",
    "        counts[2] = np.where(a[start:end] >= rule[1])[0].size\n",
    "        counts[1] = np.where(a[start:end] >= rule[0])[0].size - counts[2]\n",
    "        bins[i,:] = counts\n",
    "        start += 50\n",
    "        end += 50\n",
    "        \n",
    "    return bins"
   ]
  },
  {
   "cell_type": "code",
   "execution_count": 3,
   "metadata": {},
   "outputs": [],
   "source": [
    "# Determine rule for sepal length and calculate frequencies\n",
    "sl_rule = rule(X[:,0])\n",
    "sl_bins = freqs(X[:,0], sl_rule)"
   ]
  },
  {
   "cell_type": "code",
   "execution_count": 4,
   "metadata": {},
   "outputs": [
    {
     "data": {
      "image/png": "[encoded data removed]",
      "text/plain": [
       "<Figure size 432x288 with 1 Axes>"
      ]
     },
     "metadata": {
      "needs_background": "light"
     },
     "output_type": "display_data"
    }
   ],
   "source": [
    "labels = ['(0, '+f'{sl_rule[0]:.2f}'+')',\n",
    "         '['+f'{sl_rule[0]:.2f}'+', '+f'{sl_rule[1]:.2f}'+')',\n",
    "         '['+f'{sl_rule[1]:.2f}'+', max.)']\n",
    "\n",
    "x = np.arange(len(labels))  # the label locations\n",
    "width = 0.25  # the width of the bars\n",
    "\n",
    "fig, ax = plt.subplots()\n",
    "rects1 = ax.bar(x - width, sl_bins[0,:], width, label='Setosa')\n",
    "rects2 = ax.bar(x,         sl_bins[1,:], width, label='Versicolor')\n",
    "rects3 = ax.bar(x + width, sl_bins[2,:], width, label='Virginica')\n",
    "\n",
    "# Add some text for labels, title and custom x-axis tick labels, etc.\n",
    "ax.set_title('Sepal Length Predictor')\n",
    "ax.set_xlabel('Bin (Rule)')\n",
    "ax.set_xticks(x)\n",
    "ax.set_xticklabels(labels)\n",
    "ax.set_ylabel('Count')\n",
    "ax.set_ylim(0,50)\n",
    "ax.legend(loc='upper center')\n",
    "\n",
    "def autolabel(rects):\n",
    "    \"\"\"Attach a text label above each bar in *rects*, displaying its height.\"\"\"\n",
    "    for rect in rects:\n",
    "        height = rect.get_height()\n",
    "        ax.annotate(f'{height:.0f}',\n",
    "                    xy=(rect.get_x() + rect.get_width() / 2, height),\n",
    "                    xytext=(0, 3),  # 3 points vertical offset\n",
    "                    textcoords=\"offset points\",\n",
    "                    ha='center', va='bottom')\n",
    "                \n",
    "autolabel(rects1)\n",
    "autolabel(rects2)\n",
    "autolabel(rects3)\n",
    "fig.tight_layout()\n",
    "plt.show()"
   ]
  },
  {
   "cell_type": "markdown",
   "metadata": {},
   "source": [
    "### Frequency Tables\n",
    "If we repeat the process above for the other three flower attributes, we can generate frequency tables that indicate the success rate of each rule. "
   ]
  },
  {
   "cell_type": "code",
   "execution_count": 5,
   "metadata": {},
   "outputs": [],
   "source": [
    "def freq_table(a, rule, prop):\n",
    "    \"\"\"\n",
    "    Displays frequency table formated in an ordered dictionary\n",
    "    with Pandas.\n",
    "    \n",
    "    Parameters\n",
    "    ----------\n",
    "    a : array_like\n",
    "        Array containing frequencies\n",
    "    rule : array_like\n",
    "        Array containing rule values based on bin edges used\n",
    "        to calculate frequencies.\n",
    "    att : string\n",
    "        String containing the predictor (attribute)\n",
    "        \n",
    "    Returns\n",
    "    -------\n",
    "    Pandas Data Frame\n",
    "    \"\"\"\n",
    "    labels = ['(0, '+f'{rule[0]:.2f}'+')',\n",
    "              '['+f'{rule[0]:.2f}'+', '+f'{rule[1]:.2f}'+')',\n",
    "              '['+f'{rule[1]:.2f}'+', max.)']\n",
    "    data = OrderedDict({prop: labels,\n",
    "                        'Setosa': a[:,0],\n",
    "                        'Versicolor': a[:,1],\n",
    "                        'Virginica': a[:,2],})\n",
    "    pd.options.display.float_format = '{:,.0f}'.format\n",
    "    return pd.DataFrame(data)"
   ]
  },
  {
   "cell_type": "code",
   "execution_count": 6,
   "metadata": {},
   "outputs": [
    {
     "data": {
      "text/html": [
       "<div>\n",
       "<style scoped>\n",
       "    .dataframe tbody tr th:only-of-type {\n",
       "        vertical-align: middle;\n",
       "    }\n",
       "\n",
       "    .dataframe tbody tr th {\n",
       "        vertical-align: top;\n",
       "    }\n",
       "\n",
       "    .dataframe thead th {\n",
       "        text-align: right;\n",
       "    }\n",
       "</style>\n",
       "<table border=\"1\" class=\"dataframe\">\n",
       "  <thead>\n",
       "    <tr style=\"text-align: right;\">\n",
       "      <th></th>\n",
       "      <th>Sepal Length</th>\n",
       "      <th>Setosa</th>\n",
       "      <th>Versicolor</th>\n",
       "      <th>Virginica</th>\n",
       "    </tr>\n",
       "  </thead>\n",
       "  <tbody>\n",
       "    <tr>\n",
       "      <th>0</th>\n",
       "      <td>(0, 5.47)</td>\n",
       "      <td>45</td>\n",
       "      <td>5</td>\n",
       "      <td>0</td>\n",
       "    </tr>\n",
       "    <tr>\n",
       "      <th>1</th>\n",
       "      <td>[5.47, 6.26)</td>\n",
       "      <td>6</td>\n",
       "      <td>30</td>\n",
       "      <td>14</td>\n",
       "    </tr>\n",
       "    <tr>\n",
       "      <th>2</th>\n",
       "      <td>[6.26, max.)</td>\n",
       "      <td>1</td>\n",
       "      <td>12</td>\n",
       "      <td>37</td>\n",
       "    </tr>\n",
       "  </tbody>\n",
       "</table>\n",
       "</div>"
      ],
      "text/plain": [
       "   Sepal Length  Setosa  Versicolor  Virginica\n",
       "0     (0, 5.47)      45           5          0\n",
       "1  [5.47, 6.26)       6          30         14\n",
       "2  [6.26, max.)       1          12         37"
      ]
     },
     "execution_count": 6,
     "metadata": {},
     "output_type": "execute_result"
    }
   ],
   "source": [
    "freq_table(sl_bins, sl_rule, att[0])"
   ]
  },
  {
   "cell_type": "code",
   "execution_count": 7,
   "metadata": {},
   "outputs": [
    {
     "data": {
      "text/html": [
       "<div>\n",
       "<style scoped>\n",
       "    .dataframe tbody tr th:only-of-type {\n",
       "        vertical-align: middle;\n",
       "    }\n",
       "\n",
       "    .dataframe tbody tr th {\n",
       "        vertical-align: top;\n",
       "    }\n",
       "\n",
       "    .dataframe thead th {\n",
       "        text-align: right;\n",
       "    }\n",
       "</style>\n",
       "<table border=\"1\" class=\"dataframe\">\n",
       "  <thead>\n",
       "    <tr style=\"text-align: right;\">\n",
       "      <th></th>\n",
       "      <th>Sepal Width</th>\n",
       "      <th>Setosa</th>\n",
       "      <th>Versicolor</th>\n",
       "      <th>Virginica</th>\n",
       "    </tr>\n",
       "  </thead>\n",
       "  <tbody>\n",
       "    <tr>\n",
       "      <th>0</th>\n",
       "      <td>(0, 2.87)</td>\n",
       "      <td>1</td>\n",
       "      <td>7</td>\n",
       "      <td>42</td>\n",
       "    </tr>\n",
       "    <tr>\n",
       "      <th>1</th>\n",
       "      <td>[2.87, 3.10)</td>\n",
       "      <td>27</td>\n",
       "      <td>15</td>\n",
       "      <td>8</td>\n",
       "    </tr>\n",
       "    <tr>\n",
       "      <th>2</th>\n",
       "      <td>[3.10, max.)</td>\n",
       "      <td>19</td>\n",
       "      <td>14</td>\n",
       "      <td>17</td>\n",
       "    </tr>\n",
       "  </tbody>\n",
       "</table>\n",
       "</div>"
      ],
      "text/plain": [
       "    Sepal Width  Setosa  Versicolor  Virginica\n",
       "0     (0, 2.87)       1           7         42\n",
       "1  [2.87, 3.10)      27          15          8\n",
       "2  [3.10, max.)      19          14         17"
      ]
     },
     "execution_count": 7,
     "metadata": {},
     "output_type": "execute_result"
    }
   ],
   "source": [
    "sw_rule = rule(X[:,1])\n",
    "sw_bins = freqs(X[:,1], sw_rule)\n",
    "freq_table(sw_bins, sw_rule, att[1])"
   ]
  },
  {
   "cell_type": "code",
   "execution_count": 8,
   "metadata": {},
   "outputs": [
    {
     "data": {
      "text/html": [
       "<div>\n",
       "<style scoped>\n",
       "    .dataframe tbody tr th:only-of-type {\n",
       "        vertical-align: middle;\n",
       "    }\n",
       "\n",
       "    .dataframe tbody tr th {\n",
       "        vertical-align: top;\n",
       "    }\n",
       "\n",
       "    .dataframe thead th {\n",
       "        text-align: right;\n",
       "    }\n",
       "</style>\n",
       "<table border=\"1\" class=\"dataframe\">\n",
       "  <thead>\n",
       "    <tr style=\"text-align: right;\">\n",
       "      <th></th>\n",
       "      <th>Petal Length</th>\n",
       "      <th>Setosa</th>\n",
       "      <th>Versicolor</th>\n",
       "      <th>Virginica</th>\n",
       "    </tr>\n",
       "  </thead>\n",
       "  <tbody>\n",
       "    <tr>\n",
       "      <th>0</th>\n",
       "      <td>(0, 2.86)</td>\n",
       "      <td>50</td>\n",
       "      <td>0</td>\n",
       "      <td>0</td>\n",
       "    </tr>\n",
       "    <tr>\n",
       "      <th>1</th>\n",
       "      <td>[2.86, 4.91)</td>\n",
       "      <td>0</td>\n",
       "      <td>48</td>\n",
       "      <td>2</td>\n",
       "    </tr>\n",
       "    <tr>\n",
       "      <th>2</th>\n",
       "      <td>[4.91, max.)</td>\n",
       "      <td>0</td>\n",
       "      <td>6</td>\n",
       "      <td>44</td>\n",
       "    </tr>\n",
       "  </tbody>\n",
       "</table>\n",
       "</div>"
      ],
      "text/plain": [
       "   Petal Length  Setosa  Versicolor  Virginica\n",
       "0     (0, 2.86)      50           0          0\n",
       "1  [2.86, 4.91)       0          48          2\n",
       "2  [4.91, max.)       0           6         44"
      ]
     },
     "execution_count": 8,
     "metadata": {},
     "output_type": "execute_result"
    }
   ],
   "source": [
    "pl_rule = rule(X[:,2])\n",
    "pl_bins = freqs(X[:,2], pl_rule)\n",
    "freq_table(pl_bins, pl_rule, att[2])"
   ]
  },
  {
   "cell_type": "code",
   "execution_count": 9,
   "metadata": {},
   "outputs": [
    {
     "data": {
      "text/html": [
       "<div>\n",
       "<style scoped>\n",
       "    .dataframe tbody tr th:only-of-type {\n",
       "        vertical-align: middle;\n",
       "    }\n",
       "\n",
       "    .dataframe tbody tr th {\n",
       "        vertical-align: top;\n",
       "    }\n",
       "\n",
       "    .dataframe thead th {\n",
       "        text-align: right;\n",
       "    }\n",
       "</style>\n",
       "<table border=\"1\" class=\"dataframe\">\n",
       "  <thead>\n",
       "    <tr style=\"text-align: right;\">\n",
       "      <th></th>\n",
       "      <th>Petal Width</th>\n",
       "      <th>Setosa</th>\n",
       "      <th>Versicolor</th>\n",
       "      <th>Virginica</th>\n",
       "    </tr>\n",
       "  </thead>\n",
       "  <tbody>\n",
       "    <tr>\n",
       "      <th>0</th>\n",
       "      <td>(0, 0.79)</td>\n",
       "      <td>50</td>\n",
       "      <td>0</td>\n",
       "      <td>0</td>\n",
       "    </tr>\n",
       "    <tr>\n",
       "      <th>1</th>\n",
       "      <td>[0.79, 1.68)</td>\n",
       "      <td>0</td>\n",
       "      <td>48</td>\n",
       "      <td>2</td>\n",
       "    </tr>\n",
       "    <tr>\n",
       "      <th>2</th>\n",
       "      <td>[1.68, max.)</td>\n",
       "      <td>0</td>\n",
       "      <td>4</td>\n",
       "      <td>46</td>\n",
       "    </tr>\n",
       "  </tbody>\n",
       "</table>\n",
       "</div>"
      ],
      "text/plain": [
       "    Petal Width  Setosa  Versicolor  Virginica\n",
       "0     (0, 0.79)      50           0          0\n",
       "1  [0.79, 1.68)       0          48          2\n",
       "2  [1.68, max.)       0           4         46"
      ]
     },
     "execution_count": 9,
     "metadata": {},
     "output_type": "execute_result"
    }
   ],
   "source": [
    "pw_rule = rule(X[:,3])\n",
    "pw_bins = freqs(X[:,3], pw_rule)\n",
    "freq_table(pw_bins, pw_rule, att[3])"
   ]
  },
  {
   "cell_type": "markdown",
   "metadata": {},
   "source": [
    "### Accuracy\n",
    "With the frequency tables in hand, let's now calculate the accuracy of each predictor, or _single rule_."
   ]
  },
  {
   "cell_type": "code",
   "execution_count": 10,
   "metadata": {},
   "outputs": [],
   "source": [
    "def acc(a):\n",
    "    \"\"\"\n",
    "    Calculates and returns the accuracy of a rule-based\n",
    "    frequency table for a particular predictor\n",
    "    \n",
    "    Parameters\n",
    "    ----------\n",
    "    a : array_like\n",
    "        Array containing rule-based frequencies by species\n",
    "    \n",
    "    Returns\n",
    "    -------\n",
    "    accuracy : float\n",
    "        Percentage accuracy of predictor classification\n",
    "    \"\"\"\n",
    "    return np.amax(a, axis=1).sum() / a.sum()"
   ]
  },
  {
   "cell_type": "code",
   "execution_count": 11,
   "metadata": {},
   "outputs": [
    {
     "data": {
      "text/html": [
       "<div>\n",
       "<style scoped>\n",
       "    .dataframe tbody tr th:only-of-type {\n",
       "        vertical-align: middle;\n",
       "    }\n",
       "\n",
       "    .dataframe tbody tr th {\n",
       "        vertical-align: top;\n",
       "    }\n",
       "\n",
       "    .dataframe thead th {\n",
       "        text-align: right;\n",
       "    }\n",
       "</style>\n",
       "<table border=\"1\" class=\"dataframe\">\n",
       "  <thead>\n",
       "    <tr style=\"text-align: right;\">\n",
       "      <th></th>\n",
       "      <th>Predictor</th>\n",
       "      <th>Accuracy</th>\n",
       "    </tr>\n",
       "  </thead>\n",
       "  <tbody>\n",
       "    <tr>\n",
       "      <th>0</th>\n",
       "      <td>Sepal Length</td>\n",
       "      <td>74.67 %</td>\n",
       "    </tr>\n",
       "    <tr>\n",
       "      <th>1</th>\n",
       "      <td>Sepal Width</td>\n",
       "      <td>58.67 %</td>\n",
       "    </tr>\n",
       "    <tr>\n",
       "      <th>2</th>\n",
       "      <td>Petal Length</td>\n",
       "      <td>94.67 %</td>\n",
       "    </tr>\n",
       "    <tr>\n",
       "      <th>3</th>\n",
       "      <td>Petal Width</td>\n",
       "      <td>96.00 %</td>\n",
       "    </tr>\n",
       "  </tbody>\n",
       "</table>\n",
       "</div>"
      ],
      "text/plain": [
       "      Predictor  Accuracy\n",
       "0  Sepal Length   74.67 %\n",
       "1   Sepal Width   58.67 %\n",
       "2  Petal Length   94.67 %\n",
       "3   Petal Width   96.00 %"
      ]
     },
     "execution_count": 11,
     "metadata": {},
     "output_type": "execute_result"
    }
   ],
   "source": [
    "results = np.asarray([acc(sl_bins),\n",
    "                      acc(sw_bins),\n",
    "                      acc(pl_bins),\n",
    "                      acc(pw_bins)])\n",
    "accuracies = OrderedDict({'Predictor': att,\n",
    "                            'Accuracy': results*100,})\n",
    "pd.options.display.float_format = '{:,.2f} %'.format\n",
    "pd.DataFrame(accuracies)"
   ]
  },
  {
   "cell_type": "markdown",
   "metadata": {},
   "source": [
    "As we can see, ___petal width___ alone is the single best predictor for classification—the ___one rule___."
   ]
  },
  {
   "cell_type": "markdown",
   "metadata": {},
   "source": [
    "## 22.5 Machine Learning II\n",
    "### Workflow\n",
    "Our ML workflow begins with loading the data. I've chosen a \"letter recognition\" dataset, comprised of 20,000 instances of 16 integer attributes, for our _classification_ task. Specifically:\n",
    "\n",
    "* _\"The objective is to identify each of a large number of black-and-white rectangular pixel displays as one of the 26 capital letters in the English alphabet. The character images were based on 20 different fonts and each letter within these 20 fonts was randomly distorted to produce a file of 20,000 unique stimuli. Each stimulus was converted into 16 primitive numerical attributes (statistical moments and edge counts) which were then scaled to fit into a range of integer values from 0 through 15.\"_ ([Source](http://archive.ics.uci.edu/ml/datasets/Letter+Recognition))"
   ]
  },
  {
   "cell_type": "code",
   "execution_count": 12,
   "metadata": {},
   "outputs": [],
   "source": [
    "data = np.loadtxt(\"hw11/letter-recognition.data\",\n",
    "                  dtype=int,\n",
    "                  delimiter=\",\",\n",
    "                  usecols=(1,2,3,4,5,6,7,8,9,10,11,12,13,14,15,16)) # Skip the first col containing target data\n",
    "target = np.loadtxt(\"hw11/letter-recognition.data\",\n",
    "                    dtype=str, # Contains capital letters, e.g. \"A\"\n",
    "                    delimiter=\",\",\n",
    "                    usecols=0)"
   ]
  },
  {
   "cell_type": "markdown",
   "metadata": {},
   "source": [
    "### Split Data"
   ]
  },
  {
   "cell_type": "code",
   "execution_count": 13,
   "metadata": {},
   "outputs": [],
   "source": [
    "from sklearn.model_selection import train_test_split\n",
    "\n",
    "data_train, data_test, target_train, target_test = train_test_split(data, target)"
   ]
  },
  {
   "cell_type": "markdown",
   "metadata": {},
   "source": [
    "### k-Nearest Neighbors Algorithm (k-NN)"
   ]
  },
  {
   "cell_type": "code",
   "execution_count": 14,
   "metadata": {},
   "outputs": [
    {
     "data": {
      "text/plain": [
       "KNeighborsClassifier(algorithm='auto', leaf_size=30, metric='minkowski',\n",
       "                     metric_params=None, n_jobs=None, n_neighbors=5, p=2,\n",
       "                     weights='uniform')"
      ]
     },
     "execution_count": 14,
     "metadata": {},
     "output_type": "execute_result"
    }
   ],
   "source": [
    "from sklearn.neighbors import KNeighborsClassifier\n",
    "\n",
    "estimator = KNeighborsClassifier()\n",
    "estimator.fit(data_train, target_train)"
   ]
  },
  {
   "cell_type": "code",
   "execution_count": 15,
   "metadata": {},
   "outputs": [
    {
     "name": "stdout",
     "output_type": "stream",
     "text": [
      "Accuracy: 95.0 %\n"
     ]
    }
   ],
   "source": [
    "target_pred = estimator.predict(data_test)\n",
    "accuracy = np.mean(target_test == target_pred)*100\n",
    "print(\"Accuracy: {0:.1f} %\".format(accuracy))"
   ]
  },
  {
   "cell_type": "markdown",
   "metadata": {},
   "source": [
    "### Cross Vaildation"
   ]
  },
  {
   "cell_type": "code",
   "execution_count": 16,
   "metadata": {},
   "outputs": [
    {
     "name": "stdout",
     "output_type": "stream",
     "text": [
      "Average accuracy: 95.2%\n"
     ]
    }
   ],
   "source": [
    "from sklearn.model_selection import cross_val_score\n",
    "\n",
    "scores = cross_val_score(estimator, data, target, scoring='accuracy', cv=5)\n",
    "average_accuracy = np.mean(scores)*100\n",
    "print(\"Average accuracy: {0:.1f}%\".format(average_accuracy))"
   ]
  },
  {
   "cell_type": "markdown",
   "metadata": {},
   "source": [
    "### Parameters"
   ]
  },
  {
   "cell_type": "code",
   "execution_count": 17,
   "metadata": {},
   "outputs": [
    {
     "data": {
      "image/png": "[encoded data removed]",
      "text/plain": [
       "<Figure size 432x288 with 1 Axes>"
      ]
     },
     "metadata": {
      "needs_background": "light"
     },
     "output_type": "display_data"
    }
   ],
   "source": [
    "avg_scores = []\n",
    "all_scores = []\n",
    "parameters = list(range(1,11))\n",
    "\n",
    "for n_neighbors in parameters:\n",
    "    estimator = KNeighborsClassifier(n_neighbors=n_neighbors)\n",
    "    scores = cross_val_score(estimator, data, target, scoring = 'accuracy', cv=5)\n",
    "    avg_scores.append(np.mean(scores))\n",
    "    accuracies = np.asarray(avg_scores)*100\n",
    "    all_scores.append(scores)\n",
    "    \n",
    "plt.plot(parameters, accuracies, '-o')\n",
    "plt.xlabel('N-Neighbours')\n",
    "plt.ylabel('Accuracy (%)')\n",
    "plt.ylim([92,98])\n",
    "plt.show()"
   ]
  },
  {
   "cell_type": "markdown",
   "metadata": {},
   "source": [
    "Interestingly, for this particular dataset, simply calculating the _nearest, single_ neighbor for classification produces the most accurate reults."
   ]
  }
 ],
 "metadata": {
  "kernelspec": {
   "display_name": "Python 3",
   "language": "python",
   "name": "python3"
  },
  "language_info": {
   "codemirror_mode": {
    "name": "ipython",
    "version": 3
   },
   "file_extension": ".py",
   "mimetype": "text/x-python",
   "name": "python",
   "nbconvert_exporter": "python",
   "pygments_lexer": "ipython3",
   "version": "3.7.3"
  }
 },
 "nbformat": 4,
 "nbformat_minor": 4
}
