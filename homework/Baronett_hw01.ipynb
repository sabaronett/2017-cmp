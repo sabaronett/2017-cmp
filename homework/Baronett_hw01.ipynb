{
 "cells": [
  {
   "cell_type": "code",
   "execution_count": 31,
   "metadata": {},
   "outputs": [
    {
     "name": "stdin",
     "output_type": "stream",
     "text": [
      "\n",
      "Enter the number of oscillators (N) for an Einstein Solid: 1\n"
     ]
    },
    {
     "name": "stdout",
     "output_type": "stream",
     "text": [
      "\n",
      "For 1 oscillator(s):\n",
      "--When the total energy is 0 units, the multiplicity is 1.0\n",
      "--When the total energy is 1 units, the multiplicity is 1.0\n"
     ]
    },
    {
     "name": "stdin",
     "output_type": "stream",
     "text": [
      "\n",
      "Do you want to try another calculation? (y/n): Yes\n",
      "\n",
      "Enter the number of oscillators (N) for an Einstein Solid: 2\n"
     ]
    },
    {
     "name": "stdout",
     "output_type": "stream",
     "text": [
      "\n",
      "For 2 oscillator(s):\n",
      "--When the total energy is 0 units, the multiplicity is 1.0\n",
      "--When the total energy is 1 units, the multiplicity is 2.0\n",
      "--When the total energy is 2 units, the multiplicity is 3.0\n"
     ]
    },
    {
     "name": "stdin",
     "output_type": "stream",
     "text": [
      "\n",
      "Do you want to try another calculation? (y/n): Y\n",
      "\n",
      "Enter the number of oscillators (N) for an Einstein Solid: 3\n"
     ]
    },
    {
     "name": "stdout",
     "output_type": "stream",
     "text": [
      "\n",
      "For 3 oscillator(s):\n",
      "--When the total energy is 0 units, the multiplicity is 1.0\n",
      "--When the total energy is 1 units, the multiplicity is 3.0\n",
      "--When the total energy is 2 units, the multiplicity is 6.0\n",
      "--When the total energy is 3 units, the multiplicity is 10.0\n"
     ]
    },
    {
     "name": "stdin",
     "output_type": "stream",
     "text": [
      "\n",
      "Do you want to try another calculation? (y/n): y\n",
      "\n",
      "Enter the number of oscillators (N) for an Einstein Solid: 4\n"
     ]
    },
    {
     "name": "stdout",
     "output_type": "stream",
     "text": [
      "\n",
      "For 4 oscillator(s):\n",
      "--When the total energy is 0 units, the multiplicity is 1.0\n",
      "--When the total energy is 1 units, the multiplicity is 4.0\n",
      "--When the total energy is 2 units, the multiplicity is 10.0\n",
      "--When the total energy is 3 units, the multiplicity is 20.0\n",
      "--When the total energy is 4 units, the multiplicity is 35.0\n"
     ]
    },
    {
     "name": "stdin",
     "output_type": "stream",
     "text": [
      "\n",
      "Do you want to try another calculation? (y/n): a\n"
     ]
    },
    {
     "name": "stdout",
     "output_type": "stream",
     "text": [
      ">> Invalid response. Please try again.\n"
     ]
    },
    {
     "name": "stdin",
     "output_type": "stream",
     "text": [
      "\n",
      "Do you want to try another calculation? (y/n): 2\n"
     ]
    },
    {
     "name": "stdout",
     "output_type": "stream",
     "text": [
      ">> Invalid response. Please try again.\n"
     ]
    },
    {
     "name": "stdin",
     "output_type": "stream",
     "text": [
      "\n",
      "Do you want to try another calculation? (y/n): yesdf\n"
     ]
    },
    {
     "name": "stdout",
     "output_type": "stream",
     "text": [
      ">> Invalid response. Please try again.\n"
     ]
    },
    {
     "name": "stdin",
     "output_type": "stream",
     "text": [
      "\n",
      "Do you want to try another calculation? (y/n): No\n"
     ]
    },
    {
     "name": "stdout",
     "output_type": "stream",
     "text": [
      ">> Thank you! Goodbye.\n"
     ]
    }
   ],
   "source": [
    "# Author: Stanley A. Baronett\n",
    "# Created on 7/24/19\n",
    "# Last updated on 8/31/19\n",
    "# \n",
    "# Homework 01: Einstein Model of a Solid\n",
    "def Factorial(N):\n",
    "    '''\n",
    "    Returns the factorial of given N.\n",
    "    '''\n",
    "    if N == 0 or N == 1:\n",
    "        return 1\n",
    "    else:\n",
    "        product = 1\n",
    "        for i in range(2, N+1):\n",
    "            product *= i\n",
    "        return product\n",
    "\n",
    "def EinsteinMultiplicity(N, q):\n",
    "    '''\n",
    "    Return the multiplicity of an Einstein solid with N oscillators and q units of energy.\n",
    "    '''\n",
    "    return Factorial(q + N - 1)/Factorial(q)/Factorial(N - 1)\n",
    "\n",
    "def Switcher(response):\n",
    "    '''\n",
    "    Simple switch statement function that returns 1 if paramter is \"Yes\" and 0 if parameter is \"No.\"\n",
    "    '''\n",
    "    switcher = {\n",
    "        'y': 1,\n",
    "        'Y': 1,\n",
    "        'yes': 1,\n",
    "        'Yes': 1,\n",
    "        'n': 0,\n",
    "        'N': 0,\n",
    "        'no': 0,\n",
    "        'No': 0\n",
    "    }\n",
    "    return switcher.get(response, 2)\n",
    "\n",
    "done = False\n",
    "while done is False:\n",
    "    good_input = False\n",
    "    while good_input is False:\n",
    "        N = int(input(\"\\nEnter the number of oscillators (N) for an Einstein Solid:\"))\n",
    "        if N <= 0:\n",
    "            print(\">> N must be a positive integer. Please try again.\\n\")\n",
    "        else:\n",
    "            good_input = True\n",
    "    print(\"\")\n",
    "    \n",
    "    # Print results of multiplicity calculation\n",
    "    print(\"For\", N, \"oscillator(s):\")\n",
    "    for q in range(N+1):\n",
    "        print('--When the total energy is', q, 'units, the multiplicity is', EinsteinMultiplicity(N, q))\n",
    "        \n",
    "    switch = 2\n",
    "    while switch == 2:\n",
    "        response = input(\"\\nDo you want to try another calculation? (y/n):\")\n",
    "        switch = Switcher(response)\n",
    "        if switch == 2:\n",
    "            print('>> Invalid response. Please try again.')\n",
    "    if switch == 0:\n",
    "        done = True\n",
    "        print(\">> Thank you! Goodbye.\")"
   ]
  },
  {
   "cell_type": "code",
   "execution_count": null,
   "metadata": {},
   "outputs": [],
   "source": []
  }
 ],
 "metadata": {
  "kernelspec": {
   "display_name": "Python 3",
   "language": "python",
   "name": "python3"
  },
  "language_info": {
   "codemirror_mode": {
    "name": "ipython",
    "version": 3
   },
   "file_extension": ".py",
   "mimetype": "text/x-python",
   "name": "python",
   "nbconvert_exporter": "python",
   "pygments_lexer": "ipython3",
   "version": "3.7.3"
  }
 },
 "nbformat": 4,
 "nbformat_minor": 4
}
