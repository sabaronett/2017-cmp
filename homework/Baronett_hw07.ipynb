{
 "cells": [
  {
   "cell_type": "markdown",
   "metadata": {},
   "source": [
    "# Homework #7:\n",
    "|Author| Stanley A. Baronett|\n",
    "|--|-------------------------------|\n",
    "|Created | 10/12/2019|\n",
    "|Updated | 10/12/2019|"
   ]
  },
  {
   "cell_type": "markdown",
   "metadata": {},
   "source": [
    "## 11.5 Monte Carlo"
   ]
  },
  {
   "cell_type": "markdown",
   "metadata": {},
   "source": [
    "### 1. \"Integrate\"\n",
    "First, let's generate some curves and a region for which we would like to calculate the area."
   ]
  },
  {
   "cell_type": "code",
   "execution_count": 16,
   "metadata": {},
   "outputs": [
    {
     "data": {
      "image/png": "[encoded data removed]",
      "text/plain": [
       "<Figure size 432x288 with 1 Axes>"
      ]
     },
     "metadata": {
      "needs_background": "light"
     },
     "output_type": "display_data"
    }
   ],
   "source": [
    "import matplotlib.pyplot as plt\n",
    "import numpy as np\n",
    "\n",
    "def f(x):\n",
    "    return np.sqrt(1-(x-1)**2)\n",
    "def g(x):\n",
    "    return 2-np.sqrt(4-x**2)\n",
    "\n",
    "x1 = np.linspace(0,2,100)\n",
    "y1 = f(x1)\n",
    "y2 = g(x1)\n",
    "\n",
    "fig1 = plt.figure()\n",
    "ax1 = fig1.add_subplot(111, aspect='equal')\n",
    "ax1.plot(x1, y1, label=\"$f(x)$\")\n",
    "ax1.plot(x1, y2, label=\"$g(x)$\")\n",
    "ax1.legend(loc=\"upper left\")\n",
    "ax1.set_xlim(0,2)\n",
    "ax1.set_ylim(0,2)\n",
    "ax1.fill_between(x1, y1, y2, where=y1>y2, facecolor='lightgreen')\n",
    "plt.show()"
   ]
  },
  {
   "cell_type": "markdown",
   "metadata": {},
   "source": [
    "To calculate the area shaded in green using _Monte Carlo Integration_ we will:\n",
    "- Generate a large number of $N$ random points in the bounded square.\n",
    "- Count the number of points $k$ that fall inside the shaded region .\n",
    "- If the probability is $P = k/N \\approx I/A$, then $I \\approx kA/N$"
   ]
  },
  {
   "cell_type": "code",
   "execution_count": 2,
   "metadata": {},
   "outputs": [],
   "source": [
    "# Monte Carlo intergral\n",
    "from random import random\n",
    "\n",
    "def MC(N, f, g, x_start, x_end, y_start, y_end):\n",
    "    \"\"\"\n",
    "    Calculate and return the area between two functions, f(x) and \n",
    "    g(x), using the Monte Carlo method, by generating N random points\n",
    "    in the bounded rectange defined by a width (x_start and x_end)\n",
    "    and a height (y_start, y_end)\n",
    "    \"\"\"\n",
    "    width = x_end - x_start\n",
    "    height = y_end - y_start\n",
    "    count = 0\n",
    "    \n",
    "    for i in range(N):\n",
    "        x = width*random() + x_start\n",
    "        y = height*random() + y_start\n",
    "        if y < f(x) and y > g(x):\n",
    "            count += 1\n",
    "    I = width*height*count/N\n",
    "    \n",
    "    return I"
   ]
  },
  {
   "cell_type": "code",
   "execution_count": 3,
   "metadata": {},
   "outputs": [
    {
     "name": "stdout",
     "output_type": "stream",
     "text": [
      "The area shaded in green is 0.9611308\n",
      "Time to calculate: 16.29866889999903 seconds\n"
     ]
    }
   ],
   "source": [
    "import time\n",
    "\n",
    "timer_start = time.perf_counter() # start of timer\n",
    "area = MC(int(1e7), f, g, 0, 2, 0, 2)\n",
    "timer_end = time.perf_counter() # end timer\n",
    "time = timer_end - timer_start\n",
    "\n",
    "print(\"The area shaded in green is\", area)\n",
    "print(\"Time to calculate:\", time, \"seconds\")"
   ]
  },
  {
   "cell_type": "markdown",
   "metadata": {},
   "source": [
    "In fact, for comparison, the exact, analytic solution to this definite integral is$^1$\n",
    "\n",
    "$$ I = 2\\arcsin\\left(\\frac{4}{5}\\right) - 2 + \\frac{\\pi}{4} + \\frac{1}{2}\\arcsin\\left(\\frac{3}{5}\\right), $$\n",
    "\n",
    "which we can calculate as...\n",
    "\n",
    "$^1$ See https://www.symbolab.com/solver/area-between-curves-calculator/area%20%5Csqrt%7B1-%5Cleft(x-1%5Cright)%5E%7B2%7D%7D%2C%202-%5Csqrt%7B4-x%5E%7B2%7D%7D%20"
   ]
  },
  {
   "cell_type": "code",
   "execution_count": 4,
   "metadata": {},
   "outputs": [
    {
     "data": {
      "text/plain": [
       "0.961739153797315"
      ]
     },
     "execution_count": 4,
     "metadata": {},
     "output_type": "execute_result"
    }
   ],
   "source": [
    "from math import pi\n",
    "\n",
    "2*np.arcsin(4/5) - 2 + (pi/4) + (1/2)*np.arcsin(3/5)"
   ]
  },
  {
   "cell_type": "markdown",
   "metadata": {},
   "source": [
    "### 2. Error Analysis\n",
    "Let's now calculate the area many times (e.g., 100) for different values of $N$ (e.g., 100, 1000, 10,000, 100,000), collect the data and determine their variances."
   ]
  },
  {
   "cell_type": "code",
   "execution_count": 5,
   "metadata": {},
   "outputs": [],
   "source": [
    "def MCstats(N, f, g, x_start, x_end, y_start, y_end, runs, plot):\n",
    "    \"\"\"\n",
    "    Repeatedly calculate an area using the Monte Carlo method, MC(),\n",
    "    for as many \"runs,\" compile the dataset and return its variance.\n",
    "    \"\"\"\n",
    "    \n",
    "    data = np.zeros(runs)\n",
    "    \n",
    "    for i in range(runs):\n",
    "        data[i] = MC(N, f, g, x_start, x_end, y_start, y_end)\n",
    "        \n",
    "    title = \"Statistics for \" + str(runs) + \" runs with $N =$\" + str(N)\n",
    "    \n",
    "    if plot:\n",
    "        plt.figure()\n",
    "        plt.plot(data, \".\")\n",
    "        plt.title(title)\n",
    "        plt.xlabel(\"Run No.\")\n",
    "        plt.ylabel(\"Calc'd Area\")\n",
    "        plt.ylim(0.5,1.5)\n",
    "        plt.show()\n",
    "    \n",
    "    return np.var(data)"
   ]
  },
  {
   "cell_type": "code",
   "execution_count": 6,
   "metadata": {},
   "outputs": [
    {
     "data": {
      "image/png": "[encoded data removed]",
      "text/plain": [
       "<Figure size 432x288 with 1 Axes>"
      ]
     },
     "metadata": {
      "needs_background": "light"
     },
     "output_type": "display_data"
    },
    {
     "name": "stdout",
     "output_type": "stream",
     "text": [
      "Variance: 0.031022560000000005\n"
     ]
    },
    {
     "data": {
      "image/png": "[encoded data removed]",
      "text/plain": [
       "<Figure size 432x288 with 1 Axes>"
      ]
     },
     "metadata": {
      "needs_background": "light"
     },
     "output_type": "display_data"
    },
    {
     "name": "stdout",
     "output_type": "stream",
     "text": [
      "Variance: 0.002921374400000001\n"
     ]
    },
    {
     "data": {
      "image/png": "[encoded data removed]",
      "text/plain": [
       "<Figure size 432x288 with 1 Axes>"
      ]
     },
     "metadata": {
      "needs_background": "light"
     },
     "output_type": "display_data"
    },
    {
     "name": "stdout",
     "output_type": "stream",
     "text": [
      "Variance: 0.0002798138239999998\n"
     ]
    },
    {
     "data": {
      "image/png": "[encoded data removed]",
      "text/plain": [
       "<Figure size 432x288 with 1 Axes>"
      ]
     },
     "metadata": {
      "needs_background": "light"
     },
     "output_type": "display_data"
    },
    {
     "name": "stdout",
     "output_type": "stream",
     "text": [
      "Variance: 3.058587200000003e-05\n"
     ]
    }
   ],
   "source": [
    "runs = 100\n",
    "diff_Ns = [100, 1000, 10000, 100000]\n",
    "\n",
    "for i in diff_Ns:\n",
    "    print(\"Variance:\", MCstats(i, f, g, 0, 2, 0, 2, runs, True))"
   ]
  },
  {
   "cell_type": "markdown",
   "metadata": {},
   "source": [
    "As we might expect, the variance of the calculated area over multiple runs decreases as $N$ increases, corresponding to an improvement in accuracy."
   ]
  },
  {
   "cell_type": "markdown",
   "metadata": {},
   "source": [
    "## 12.4 Importance Sampling"
   ]
  },
  {
   "cell_type": "markdown",
   "metadata": {},
   "source": [
    "### 1. Example\n",
    "Using the importance sampling method, with $w(x) = x^{-1/2}$ and one million random points, let's calculate a value for the integral\n",
    "\n",
    "$$ I = \\int_0 ^1 \\frac{x^{-1/2}}{e^x + 1} dx \\tag{1}$$"
   ]
  },
  {
   "cell_type": "markdown",
   "metadata": {},
   "source": [
    "First let's plot the integrand $f(x)$ and weighting function $w(x)$."
   ]
  },
  {
   "cell_type": "code",
   "execution_count": 7,
   "metadata": {},
   "outputs": [
    {
     "data": {
      "image/png": "[encoded data removed]",
      "text/plain": [
       "<Figure size 432x288 with 1 Axes>"
      ]
     },
     "metadata": {
      "needs_background": "light"
     },
     "output_type": "display_data"
    }
   ],
   "source": [
    "f = lambda x: 1/np.sqrt(x)/(np.exp(x)+1)\n",
    "w = lambda x: 1/np.sqrt(x)\n",
    "\n",
    "x = np.linspace(0,1,100)\n",
    "plt.plot(x[1:], f(x[1:]), label='$f(x)$') # start w/ 2nd element \n",
    "plt.plot(x[1:], w(x[1:]), label='$w(x)$') # to avoid div. by 0\n",
    "plt.title(\"Comparison of Integrand & Weighting Function\")\n",
    "plt.xlabel(\"$x$\")\n",
    "plt.legend()\n",
    "plt.show()"
   ]
  },
  {
   "cell_type": "markdown",
   "metadata": {},
   "source": [
    "Next, let's determine the probability function, defined as\n",
    "\n",
    "$$\n",
    "\\begin{equation*}\n",
    "    p(x) \\equiv \\frac{w(x)}{\\int_a^b w(x)dx}.\n",
    "    \\tag{2}\n",
    "\\end{equation*}\n",
    "$$\n",
    "\n",
    "With $w(x) = x^{-1/2}$, evaluating the integral in the denominator, on the interval from $a=0$ to $b=1$, yields\n",
    "\n",
    "$$\n",
    "\\begin{align}\n",
    "    \\int_a^b w(x)dx =& \\int_0^1 x^{-1/2}dx \\\\\n",
    "                =& 2x^{1/2} \\big|_0^1 \\\\\n",
    "                =& 2.\n",
    "    \\tag{3}\n",
    "\\end{align}\n",
    "$$\n",
    "\n",
    "Plugging Eq. 3 into 2 yields\n",
    "\n",
    "$$\n",
    "\\begin{align}\n",
    "    p(x) =& \\frac{x^{-1/2}}{2}. \\\\\n",
    "    \\tag{4}\n",
    "\\end{align}\n",
    "$$\n",
    "\n",
    "Now, the cumulative distribution function $F(x)$ of the probability function $p(x)$ becomes\n",
    "\n",
    "$$\n",
    "\\begin{align}\n",
    "    F(x) \\equiv& \\int_0^x p(x)dx \\\\\n",
    "              =& \\int_0^x \\frac{x^{-1/2}}{2} dx\\\\\n",
    "              =& x^{1/2}\\big|_0^x \\\\\n",
    "              =& x^{1/2}.\n",
    "    \\tag{5}\n",
    "\\end{align}\n",
    "$$\n",
    "\n",
    "and its inverse,\n",
    "\n",
    "$$\n",
    "\\begin{align}\n",
    "     F^{-1}(x) =& x^2.        \n",
    "    \\tag{6}\n",
    "\\end{align}\n",
    "$$\n",
    "\n",
    "We finally can calculate the integral in Eq. 1 using the formula\n",
    "\n",
    "$$ I \\approx  \\frac{1}{N} \\sum_{i=1}^{N} \\frac{f(x_i)}{w(x_i)} \\int_a^b w(x)dx \\tag{7},$$\n",
    "\n",
    "by averaging $f(x)/w(x)$ in the points generated from $F^{-1}(x)$."
   ]
  },
  {
   "cell_type": "code",
   "execution_count": 8,
   "metadata": {},
   "outputs": [],
   "source": [
    "from scipy.integrate import quad\n",
    "\n",
    "def IMC(f, w, F_inv, x_start, x_end, N):\n",
    "    \"\"\"\n",
    "    Calculate and return the integral of 'f', on the interval\n",
    "    'x_start' and 'x_end', using the Monte Carlo method with\n",
    "    importance sampling, with weighting function 'w', inverse\n",
    "    transform sampling function 'F_inv', and 'N' random points.\n",
    "    \"\"\"\n",
    "    const = quad(w, x_start, x_end)[0]\n",
    "    width = x_end - x_start\n",
    "    I = 0\n",
    "    \n",
    "    for i in range(N):\n",
    "        x = width*random() + x_start\n",
    "        y = F_inv(x)\n",
    "        I += f(y)/w(y)\n",
    "        \n",
    "    return I/N*const"
   ]
  },
  {
   "cell_type": "code",
   "execution_count": 9,
   "metadata": {},
   "outputs": [
    {
     "name": "stdout",
     "output_type": "stream",
     "text": [
      "I[0, 1] ≈ 0.8387511202359776\n"
     ]
    }
   ],
   "source": [
    "F_inv = lambda x: x**2 # def inv transform sampling\n",
    "\n",
    "print(\"I[0, 1] ≈\", IMC(f, w, F_inv, 0, 1, int(1e6)))"
   ]
  },
  {
   "cell_type": "markdown",
   "metadata": {},
   "source": [
    "For comparison, we can calculate the integral using SciPy."
   ]
  },
  {
   "cell_type": "code",
   "execution_count": 10,
   "metadata": {},
   "outputs": [
    {
     "name": "stdout",
     "output_type": "stream",
     "text": [
      "From SciPy: I = 0.8389329600133838\n"
     ]
    }
   ],
   "source": [
    "print(\"From SciPy: I =\", quad(f, 0, 1)[0])"
   ]
  },
  {
   "cell_type": "markdown",
   "metadata": {},
   "source": [
    "### 2. Harder Example\n",
    "Using importance sampling, with $w(x) = 1/x$ and one million random points, let's calculate a value for the integral\n",
    "\n",
    "$$ I = \\int_0 ^1 \\frac{x^{-1}}{e^x + 1} dx \\tag{8} $$"
   ]
  },
  {
   "cell_type": "code",
   "execution_count": 11,
   "metadata": {},
   "outputs": [
    {
     "data": {
      "image/png": "[encoded data removed]",
      "text/plain": [
       "<Figure size 432x288 with 1 Axes>"
      ]
     },
     "metadata": {
      "needs_background": "light"
     },
     "output_type": "display_data"
    }
   ],
   "source": [
    "f = lambda x: 1/x/(np.exp(x)+1)\n",
    "w = lambda x: 1/x\n",
    "\n",
    "x = np.linspace(0,1,100)\n",
    "plt.plot(x[1:], f(x[1:]), label='$f(x)$') # start w/ 2nd element \n",
    "plt.plot(x[1:], w(x[1:]), label='$w(x)$') # to avoid div. by 0\n",
    "plt.title(\"Comparison of Integrand & Weighting Function\")\n",
    "plt.xlabel(\"$x$\")\n",
    "plt.legend()\n",
    "plt.show()"
   ]
  },
  {
   "cell_type": "markdown",
   "metadata": {},
   "source": [
    "Again, from Eq. 2,\n",
    "\n",
    "$$\n",
    "\\begin{equation*}\n",
    "    p(x) \\equiv \\frac{w(x)}{\\int_a^b w(x)dx}.\n",
    "\\end{equation*}\n",
    "$$\n",
    "\n",
    "But this time, since $w(x) = x^{-1}$, the integral in the denominator is divergent:\n",
    "\n",
    "$$\n",
    "\\begin{align}\n",
    "    \\int_a^b w(x)dx =& \\int_0^1 x^{-1}dx \\\\\n",
    "                =& \\ln x \\big|_0^1 \\textrm{ (undefined)}.\n",
    "    \\tag{9}\n",
    "\\end{align}\n",
    "$$\n",
    "\n",
    "We can try approximating its value by using SciPy, using an initial bound very slightly above zero; e.g., let $a = 5.981 \\times10^{-16}$."
   ]
  },
  {
   "cell_type": "code",
   "execution_count": 12,
   "metadata": {},
   "outputs": [
    {
     "data": {
      "text/plain": [
       "35.052773709842654"
      ]
     },
     "execution_count": 12,
     "metadata": {},
     "output_type": "execute_result"
    }
   ],
   "source": [
    "a = 5.981e-16 # 5.981e-16 is the smallest value allowed by quad() for w\n",
    "c = quad(w, a, 1)[0]\n",
    "c"
   ]
  },
  {
   "cell_type": "markdown",
   "metadata": {},
   "source": [
    "Thus, we'll take\n",
    "\n",
    "$$\n",
    "\\begin{align}\n",
    "    c = \\int_a^1 w(x)dx \\approx 35.052773709842654.\n",
    "    \\tag{10}\n",
    "\\end{align}\n",
    "$$\n",
    "\n",
    "Plugging Eq. 10 into 2 yields\n",
    "\n",
    "$$\n",
    "\\begin{align}\n",
    "    p(x) =& \\frac{x^{-1}}{c}, \\\\\n",
    "    \\tag{11}\n",
    "\\end{align}\n",
    "$$\n",
    "\n",
    "with cumulative distribution function,\n",
    "\n",
    "$$\n",
    "\\begin{align}\n",
    "    F(x) =& \\frac{1}{c}\\int_a^x \\frac{1}{x} dx \\\\\n",
    "         =& \\frac{1}{c} \\ln x \\big|_a^x \\\\\n",
    "         =& \\frac{1}{c}(\\ln x - \\ln a),\n",
    "    \\tag{12}\n",
    "\\end{align}\n",
    "$$\n",
    "\n",
    "and inverse\n",
    "\n",
    "$$\n",
    "\\begin{align}\n",
    "     F^{-1}(x) =& e^{(cx + \\ln a)}.       \n",
    "    \\tag{13}\n",
    "\\end{align}\n",
    "$$"
   ]
  },
  {
   "cell_type": "code",
   "execution_count": 13,
   "metadata": {},
   "outputs": [
    {
     "name": "stdout",
     "output_type": "stream",
     "text": [
      "I[a, 1] ≈ 17.281752337018588\n"
     ]
    }
   ],
   "source": [
    "from math import e, log\n",
    "\n",
    "ln_a = log(a)\n",
    "F_inv = lambda x: pow(e, (c*x+ln_a))\n",
    "\n",
    "print(\"I[a, 1] ≈\", IMC(f, w, F_inv, a, 1, int(1e6)))"
   ]
  },
  {
   "cell_type": "markdown",
   "metadata": {},
   "source": [
    "Comapring with SciPy on the same interval:"
   ]
  },
  {
   "cell_type": "code",
   "execution_count": 14,
   "metadata": {},
   "outputs": [
    {
     "name": "stdout",
     "output_type": "stream",
     "text": [
      "From SciPy: I ≈ 17.282942557131165\n"
     ]
    },
    {
     "name": "stderr",
     "output_type": "stream",
     "text": [
      "/home/stanley/miniconda3/envs/rebound_venv/lib/python3.7/site-packages/ipykernel_launcher.py:1: IntegrationWarning: The maximum number of subdivisions (50) has been achieved.\n",
      "  If increasing the limit yields no improvement it is advised to analyze \n",
      "  the integrand in order to determine the difficulties.  If the position of a \n",
      "  local difficulty can be determined (singularity, discontinuity) one will \n",
      "  probably gain from splitting up the interval and calling the integrator \n",
      "  on the subranges.  Perhaps a special-purpose integrator should be used.\n",
      "  \"\"\"Entry point for launching an IPython kernel.\n"
     ]
    }
   ],
   "source": [
    "print(\"From SciPy: I ≈\", quad(f, a, 1)[0])"
   ]
  },
  {
   "cell_type": "markdown",
   "metadata": {},
   "source": [
    "Even though it returned a value, apparently SciPy had some trouble going as low as our value for $a$. Let's try again with an _ever so slightly_, larger value to avoid any errors this time."
   ]
  },
  {
   "cell_type": "code",
   "execution_count": 15,
   "metadata": {},
   "outputs": [
    {
     "name": "stdout",
     "output_type": "stream",
     "text": [
      "From SciPy: I ≈ 17.282357712883837\n"
     ]
    }
   ],
   "source": [
    "print(\"From SciPy: I ≈\", quad(f, 5.988e-16, 1)[0])"
   ]
  }
 ],
 "metadata": {
  "kernelspec": {
   "display_name": "Python 3",
   "language": "python",
   "name": "python3"
  },
  "language_info": {
   "codemirror_mode": {
    "name": "ipython",
    "version": 3
   },
   "file_extension": ".py",
   "mimetype": "text/x-python",
   "name": "python",
   "nbconvert_exporter": "python",
   "pygments_lexer": "ipython3",
   "version": "3.7.3"
  }
 },
 "nbformat": 4,
 "nbformat_minor": 4
}
