{
 "cells": [
  {
   "cell_type": "code",
   "execution_count": 7,
   "metadata": {},
   "outputs": [
    {
     "name": "stdin",
     "output_type": "stream",
     "text": [
      "Enter the number of oscillators (N) for an Einstein Solid: 2\n"
     ]
    },
    {
     "name": "stdout",
     "output_type": "stream",
     "text": [
      "\n",
      "When the total energy is 0 units, the multiplicity is 1.0\n",
      "When the total energy is 1 units, the multiplicity is 2.0\n",
      "When the total energy is 2 units, the multiplicity is 3.0\n"
     ]
    }
   ],
   "source": [
    "# Author: Stanley A. Baronett\n",
    "# Created on 7/24/19\n",
    "# Last updated on 7/24/19\n",
    "# \n",
    "# Homework: Einstein Model of a Solid\n",
    "def Factorial(N):\n",
    "    '''\n",
    "    Returns the factorial of given N.\n",
    "    '''\n",
    "    if N == 0 or N == 1:\n",
    "        return 1\n",
    "    else:\n",
    "        product = 1\n",
    "        for i in range(2, N+1):\n",
    "            product *= i\n",
    "        return product\n",
    "\n",
    "def EinsteinMultiplicity(N, n):\n",
    "    '''\n",
    "    Return the multiplicity of an Einstein solid with\n",
    "    N oscillators and q units of energy.\n",
    "    '''\n",
    "    return Factorial(q + N - 1)/Factorial(q)/Factorial(N - 1)\n",
    "\n",
    "N = int(input(\"Enter the number of oscillators (N) for an Einstein Solid:\"))\n",
    "print(\"\")\n",
    "\n",
    "for q in range(N+1):\n",
    "    print('When the total energy is', q, 'units, the multiplicity is', EinsteinMultiplicity(N, q))"
   ]
  },
  {
   "cell_type": "code",
   "execution_count": null,
   "metadata": {},
   "outputs": [],
   "source": []
  }
 ],
 "metadata": {
  "kernelspec": {
   "display_name": "Python 3",
   "language": "python",
   "name": "python3"
  },
  "language_info": {
   "codemirror_mode": {
    "name": "ipython",
    "version": 3
   },
   "file_extension": ".py",
   "mimetype": "text/x-python",
   "name": "python",
   "nbconvert_exporter": "python",
   "pygments_lexer": "ipython3",
   "version": "3.7.3"
  }
 },
 "nbformat": 4,
 "nbformat_minor": 4
}
