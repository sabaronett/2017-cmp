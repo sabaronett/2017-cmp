{
 "cells": [
  {
   "cell_type": "markdown",
   "metadata": {},
   "source": [
    "# Homework #10:\n",
    "|Author| Stanley A. Baronett|\n",
    "|--|-------------------------------|\n",
    "|Created | 11/2/2019|\n",
    "|Updated | 11/2/2019|"
   ]
  },
  {
   "cell_type": "markdown",
   "metadata": {},
   "source": [
    "## 15.5 Local Optimization I"
   ]
  },
  {
   "cell_type": "markdown",
   "metadata": {},
   "source": [
    "We wish to find the ground state energy between three neutral atoms or molecules, $N=3$. To simplify the calculation, we'll use the _Lennard-Jones (LJ) potential_:\n",
    "\n",
    "$$ V = 4\\varepsilon \\big[ \\big(\\frac{\\sigma}{r}\\big)^{12} - \\big(\\frac{\\sigma}{r}\\big)^{6} \\big] \\tag{1},$$\n",
    "\n",
    "where $\\varepsilon$ is the depth of the potential well, $\\sigma$ is the finite distance at which the interparticle potential is zero, and $r$ is the distance between the particles. We will also assume $\\varepsilon$ = $\\sigma$ = 1."
   ]
  },
  {
   "cell_type": "code",
   "execution_count": 1,
   "metadata": {},
   "outputs": [],
   "source": [
    "def LJ(r):\n",
    "    \"\"\"\n",
    "    Calculate and return the Lennard-Jones potential between two\n",
    "    atoms as a function of separation distance.\n",
    "    Input:\n",
    "        r: interatomic separation distance.\n",
    "    Output:\n",
    "        Lennard-Jones potential with ε = σ = 1\n",
    "    \"\"\"\n",
    "    r6 = r**6\n",
    "    r12 = r6*r6\n",
    "    return 4*(1/r12 - 1/r6)"
   ]
  },
  {
   "cell_type": "markdown",
   "metadata": {},
   "source": [
    "Since $N=3$, the number of interatomic pairs will be\n",
    "\n",
    "$$ \\frac{N\\times(N-1)}{2} = 3 \\tag{2}.$$\n",
    "\n",
    "Thus, we'll need to calculate the distance $r$ for each pair and evaluate its corresponding LJ$_3$ potential."
   ]
  },
  {
   "cell_type": "code",
   "execution_count": 2,
   "metadata": {},
   "outputs": [],
   "source": [
    "import numpy as np\n",
    "\n",
    "def total_LJ_V(positions):\n",
    "    \"\"\"\n",
    "    Calculate the total potential energy of N number of atoms using\n",
    "    the Lennard-Jones potential.\n",
    "    Input:\n",
    "        positions: 3*N 1-D array which represents the atomic positions\n",
    "                   (e.g., [x0, y0, z0, x1, y2, z1, ..., xn, yn, zn])\n",
    "    Output:\n",
    "        E: the total energy\n",
    "    \"\"\"\n",
    "    E = 0\n",
    "    N_atom = int(len(positions)/3)\n",
    "\n",
    "    for i in range(N_atom - 1):\n",
    "        for j in range(i + 1, N_atom):\n",
    "            pos1 = positions[i*3:(i+1)*3]\n",
    "            pos2 = positions[j*3:(j+1)*3]\n",
    "            #print('pos1:  ', pos1)\n",
    "            #print('pos2:  ', pos2)\n",
    "            dist = np.linalg.norm(pos1 - pos2)\n",
    "            #print(i,j, dist)\n",
    "            E += LJ(dist)\n",
    "    return E"
   ]
  },
  {
   "cell_type": "markdown",
   "metadata": {},
   "source": [
    "Now that we have a way to calculate the total energy of $N$ atoms, using the LJ potential, we now need to randomly generate positions for these $N$ atoms. To do so, we'll generate a random sample for the $x, y,$ and $z$ coordinates of each atom to be within some cubic box with set length $L$."
   ]
  },
  {
   "cell_type": "code",
   "execution_count": 3,
   "metadata": {},
   "outputs": [],
   "source": [
    "def init_pos(N, L=2):\n",
    "    \"\"\"\n",
    "    Randomly initialize the 3-D position of N atoms within a cube\n",
    "    of length L.\n",
    "    Input:\n",
    "        N: the number of atoms\n",
    "        L: 3-D boundary of random sample (e.g., length of cube)\n",
    "    Output:\n",
    "        3*N 1-D array of atomic positions\n",
    "        (e.g., [x0, y0, z0, x1, y2, z1, ..., xn, yn, zn])\n",
    "    \"\"\"\n",
    "    return L*np.random.random_sample((N*3,))"
   ]
  },
  {
   "cell_type": "code",
   "execution_count": 4,
   "metadata": {},
   "outputs": [
    {
     "data": {
      "text/plain": [
       "-12.712062256782637"
      ]
     },
     "execution_count": 4,
     "metadata": {},
     "output_type": "execute_result"
    }
   ],
   "source": [
    "pos = np.array([ 0.7430002202,        0.2647603899,       -0.0468575389,\n",
    "                -0.7430002647,       -0.2647604843,        0.0468569750,\n",
    "                 0.1977276118,       -0.4447220146,        0.6224700350,\n",
    "                -0.1977281310,        0.4447221826,       -0.6224697723,\n",
    "                -0.1822009635,        0.5970484122,        0.4844363476,\n",
    "                 0.1822015272,       -0.5970484858,       -0.4844360463])\n",
    "total_LJ_V(pos)"
   ]
  },
  {
   "cell_type": "code",
   "execution_count": 11,
   "metadata": {},
   "outputs": [
    {
     "data": {
      "text/html": [
       "<html>\n",
       "\n",
       " <head>\n",
       "\n",
       "  <title>ASE atomic visualization</title>\n",
       "\n",
       "  <link rel=\"stylesheet\" type=\"text/css\"\n",
       "\n",
       "   href=\"https://www.x3dom.org/x3dom/release/x3dom.css\">\n",
       "\n",
       "  </link>\n",
       "\n",
       "  <script type=\"text/javascript\"\n",
       "\n",
       "   src=\"https://www.x3dom.org/x3dom/release/x3dom.js\">\n",
       "\n",
       "  </script>\n",
       "\n",
       " </head>\n",
       "\n",
       " <body>\n",
       "\n",
       "  <X3D style=\"margin:0; padding:0; width:100%; height:100%; border:none;\">\n",
       "\n",
       "   <Scene>\n",
       "\n",
       "    <Transform translation=\"1.49 0.53 -0.09\">\n",
       "\n",
       "     <Shape>\n",
       "\n",
       "      <Appearance>\n",
       "\n",
       "       <Material diffuseColor=\"0.188 0.314 0.973\" specularColor=\"0.5 0.5 0.5\">\n",
       "\n",
       "       </Material>\n",
       "\n",
       "      </Appearance>\n",
       "\n",
       "      <Sphere radius=\"0.71\">\n",
       "\n",
       "      </Sphere>\n",
       "\n",
       "     </Shape>\n",
       "\n",
       "    </Transform>\n",
       "\n",
       "    <Transform translation=\"-1.49 -0.53 0.09\">\n",
       "\n",
       "     <Shape>\n",
       "\n",
       "      <Appearance>\n",
       "\n",
       "       <Material diffuseColor=\"0.188 0.314 0.973\" specularColor=\"0.5 0.5 0.5\">\n",
       "\n",
       "       </Material>\n",
       "\n",
       "      </Appearance>\n",
       "\n",
       "      <Sphere radius=\"0.71\">\n",
       "\n",
       "      </Sphere>\n",
       "\n",
       "     </Shape>\n",
       "\n",
       "    </Transform>\n",
       "\n",
       "    <Transform translation=\"0.40 -0.89 1.24\">\n",
       "\n",
       "     <Shape>\n",
       "\n",
       "      <Appearance>\n",
       "\n",
       "       <Material diffuseColor=\"0.188 0.314 0.973\" specularColor=\"0.5 0.5 0.5\">\n",
       "\n",
       "       </Material>\n",
       "\n",
       "      </Appearance>\n",
       "\n",
       "      <Sphere radius=\"0.71\">\n",
       "\n",
       "      </Sphere>\n",
       "\n",
       "     </Shape>\n",
       "\n",
       "    </Transform>\n",
       "\n",
       "    <Transform translation=\"-0.40 0.89 -1.24\">\n",
       "\n",
       "     <Shape>\n",
       "\n",
       "      <Appearance>\n",
       "\n",
       "       <Material diffuseColor=\"0.188 0.314 0.973\" specularColor=\"0.5 0.5 0.5\">\n",
       "\n",
       "       </Material>\n",
       "\n",
       "      </Appearance>\n",
       "\n",
       "      <Sphere radius=\"0.71\">\n",
       "\n",
       "      </Sphere>\n",
       "\n",
       "     </Shape>\n",
       "\n",
       "    </Transform>\n",
       "\n",
       "    <Transform translation=\"-0.36 1.19 0.97\">\n",
       "\n",
       "     <Shape>\n",
       "\n",
       "      <Appearance>\n",
       "\n",
       "       <Material diffuseColor=\"0.188 0.314 0.973\" specularColor=\"0.5 0.5 0.5\">\n",
       "\n",
       "       </Material>\n",
       "\n",
       "      </Appearance>\n",
       "\n",
       "      <Sphere radius=\"0.71\">\n",
       "\n",
       "      </Sphere>\n",
       "\n",
       "     </Shape>\n",
       "\n",
       "    </Transform>\n",
       "\n",
       "    <Transform translation=\"0.36 -1.19 -0.97\">\n",
       "\n",
       "     <Shape>\n",
       "\n",
       "      <Appearance>\n",
       "\n",
       "       <Material diffuseColor=\"0.188 0.314 0.973\" specularColor=\"0.5 0.5 0.5\">\n",
       "\n",
       "       </Material>\n",
       "\n",
       "      </Appearance>\n",
       "\n",
       "      <Sphere radius=\"0.71\">\n",
       "\n",
       "      </Sphere>\n",
       "\n",
       "     </Shape>\n",
       "\n",
       "    </Transform>\n",
       "\n",
       "   </Scene>\n",
       "\n",
       "  </X3D>\n",
       "\n",
       " </body>\n",
       "\n",
       "</html>\n",
       "\n"
      ],
      "text/plain": [
       "<IPython.core.display.HTML object>"
      ]
     },
     "execution_count": 11,
     "metadata": {},
     "output_type": "execute_result"
    }
   ],
   "source": [
    "# Visulization of the LJ clusters\n",
    "from ase.visualize import view\n",
    "from ase import Atoms\n",
    "N = 6\n",
    "cluster = Atoms('N'+str(N), positions=np.reshape(pos*2.0,[N,3]))\n",
    "view(cluster, viewer='x3d')"
   ]
  },
  {
   "cell_type": "code",
   "execution_count": 14,
   "metadata": {},
   "outputs": [
    {
     "data": {
      "application/vnd.jupyter.widget-view+json": {
       "model_id": "a874476d17d942ca80964473f0edf2b7",
       "version_major": 2,
       "version_minor": 0
      },
      "text/plain": [
       "HBox(children=(NGLWidget(), VBox(children=(Dropdown(description='Show', options=('All', 'N'), value='All'), Dr…"
      ]
     },
     "metadata": {},
     "output_type": "display_data"
    }
   ],
   "source": [
    "view(cluster, viewer='ngl')"
   ]
  },
  {
   "cell_type": "code",
   "execution_count": 15,
   "metadata": {},
   "outputs": [
    {
     "name": "stderr",
     "output_type": "stream",
     "text": [
      "WARNING:root:DEPRECATED: Please use 'center' method\n"
     ]
    }
   ],
   "source": [
    "v=_\n",
    "v.custom_colors({'Mn':'green','As':'blue'})\n",
    "v.view._remote_call(\"setSize\", target=\"Widget\", args=[\"400px\", \"400px\"])\n",
    "v.view.center_view()\n",
    "v.view.background='#ffc'\n",
    "v.view.parameters=dict(clipDist=-200)"
   ]
  }
 ],
 "metadata": {
  "kernelspec": {
   "display_name": "Python 3",
   "language": "python",
   "name": "python3"
  },
  "language_info": {
   "codemirror_mode": {
    "name": "ipython",
    "version": 3
   },
   "file_extension": ".py",
   "mimetype": "text/x-python",
   "name": "python",
   "nbconvert_exporter": "python",
   "pygments_lexer": "ipython3",
   "version": "3.7.3"
  }
 },
 "nbformat": 4,
 "nbformat_minor": 4
}
