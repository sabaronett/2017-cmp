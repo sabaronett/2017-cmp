{
 "cells": [
  {
   "cell_type": "markdown",
   "metadata": {},
   "source": [
    "# Homework #4:\n",
    "## 5.5 Integration & 6.4.2 Heat Capacity of a Solid\n",
    "|Author| Stanley A. Baronett|\n",
    "|--|-------------------------------|\n",
    "|Created | 9/14/19|\n",
    "|Updated|9/14/19|"
   ]
  },
  {
   "cell_type": "markdown",
   "metadata": {},
   "source": [
    "## 5.5 Integration\n",
    "Calculate the following integrals based on three different rules:\n",
    "\n",
    "\\begin{equation*}\n",
    "\\int_0^3 (x^2-x+1) dx\n",
    "\\tag{1}\n",
    "\\end{equation*}\n",
    "\\begin{equation*}\n",
    "\\int_0^3 (x^4-x+1) dx\n",
    "\\tag{2}\n",
    "\\end{equation*}\n",
    "\\begin{equation*}\n",
    "\\int_0^3 \\text{exp}(-x^2) dx\n",
    "\\tag{3}\n",
    "\\end{equation*}\n",
    "\n",
    "For Eq. 1, how many sampling points are needed for Simpson's rule?"
   ]
  },
  {
   "cell_type": "code",
   "execution_count": 96,
   "metadata": {},
   "outputs": [],
   "source": [
    "import numpy as np\n",
    "\n",
    "class Integrate:\n",
    "    def Rectangle(f, start, end, parts):\n",
    "        \"\"\"\n",
    "        Integrate by a Riemann sum of rectangles over the \n",
    "        function 'f', between 'start' and 'end', over an\n",
    "        even number of 'parts'.\n",
    "        \"\"\"\n",
    "\n",
    "        # define the X,Y points\n",
    "        deltax = (end - start) / parts\n",
    "        resultsx = np.linspace(start, end, parts)\n",
    "        resultsy = f(resultsx)\n",
    "\n",
    "        # calculate the area\n",
    "        area = np.empty([parts], float)\n",
    "        for i in range(parts):\n",
    "            area[i] = resultsy[i]*deltax\n",
    "\n",
    "        return sum(area)\n",
    "\n",
    "    def Trapezoid(f, start, end, parts):\n",
    "        \"\"\"\n",
    "        Integrate by a Riemann sum of trapezoids over the \n",
    "        function 'f', between 'start' and 'end', over an \n",
    "        even number of 'parts'.\n",
    "        \"\"\"\n",
    "\n",
    "        # define the X,Y points\n",
    "        deltax = (end - start) / parts\n",
    "        resultsx = np.linspace(start, end, parts+1)\n",
    "        resultsy = f(resultsx)\n",
    "\n",
    "        # calculate the area\n",
    "        area = np.empty([parts], float)\n",
    "        for i in range(parts):\n",
    "            area[i] = (resultsy[i]+resultsy[i+1]) * deltax/2\n",
    "\n",
    "        return sum(area)\n",
    "\n",
    "    def Simpson(f, start, end, parts):\n",
    "        \"\"\"\n",
    "        Integrate by Simpson's rule over the function 'f',\n",
    "        between 'start' and 'end', over an even number of\n",
    "        'parts'.\n",
    "        \"\"\"\n",
    "\n",
    "        # define the X,Y points\n",
    "        deltax = (end - start) / parts\n",
    "        resultsx = np.linspace(start, end, parts+1)\n",
    "        resultsy = f(resultsx)\n",
    "\n",
    "        # calculate the area\n",
    "        area = np.empty([parts+1], float)\n",
    "        for i in range(parts+1):\n",
    "            if i == 0 or i == parts:\n",
    "                coef = 1/3\n",
    "            elif i%2 == 1:\n",
    "                coef = 4/3\n",
    "            else: \n",
    "                coef = 2/3\n",
    "            area[i] = coef*resultsy[i]*deltax\n",
    "\n",
    "        return sum(area)"
   ]
  },
  {
   "cell_type": "markdown",
   "metadata": {},
   "source": [
    "\\begin{equation*}\n",
    "\\int_0^3 (x^2-x+1) dx = \\frac{15}{2} = 7.5\n",
    "\\tag{1}\n",
    "\\end{equation*}"
   ]
  },
  {
   "cell_type": "code",
   "execution_count": 92,
   "metadata": {},
   "outputs": [
    {
     "name": "stdout",
     "output_type": "stream",
     "text": [
      "Sum of the area using the following rules:\n",
      "Rectangle: 7.999999999999998\n",
      "Trapezoid: 7.544999999999999\n",
      "Simpson's: 7.499999999999998\n"
     ]
    }
   ],
   "source": [
    "#define function (1)\n",
    "f1 = lambda x: x**2 - x + 1\n",
    "\n",
    "print(\"Sum of the area using the following rules:\")\n",
    "print(\"Rectangle:\", Integrate.Rectangle(f1, 0, 3, 10))\n",
    "print(\"Trapezoid:\", Integrate.Trapezoid(f1, 0, 3, 10))\n",
    "print(\"Simpson's:\", Integrate.Simpson(f1, 0, 3, 10))"
   ]
  },
  {
   "cell_type": "markdown",
   "metadata": {},
   "source": [
    "\\begin{equation*}\n",
    "\\int_0^3 (x^4-x+1) dx = \\frac{471}{10} = 47.1\n",
    "\\tag{2}\n",
    "\\end{equation*}"
   ]
  },
  {
   "cell_type": "code",
   "execution_count": 93,
   "metadata": {},
   "outputs": [
    {
     "name": "stdout",
     "output_type": "stream",
     "text": [
      "Sum of the area using the following rules:\n",
      "Rectangle: 55.28888888888888\n",
      "Trapezoid: 47.909189999999995\n",
      "Simpson's: 47.103239999999985\n"
     ]
    }
   ],
   "source": [
    "#define function (2)\n",
    "f2 = lambda x: x**4 - x + 1\n",
    "\n",
    "print(\"Sum of the area using the following rules:\")\n",
    "print(\"Rectangle:\", Integrate.Rectangle(f2, 0, 3, 10))\n",
    "print(\"Trapezoid:\", Integrate.Trapezoid(f2, 0, 3, 10))\n",
    "print(\"Simpson's:\", Integrate.Simpson(f2, 0, 3, 10))"
   ]
  },
  {
   "cell_type": "markdown",
   "metadata": {},
   "source": [
    "\\begin{equation*}\n",
    "\\int_0^3 \\text{exp}(-x^2) dx = \\frac{\\sqrt{\\pi}\\operatorname{erf}(3)}{2} \\approx{0.8862073482595212}\n",
    "\\tag{3}\n",
    "\\end{equation*}"
   ]
  },
  {
   "cell_type": "code",
   "execution_count": 113,
   "metadata": {},
   "outputs": [
    {
     "name": "stdout",
     "output_type": "stream",
     "text": [
      "Sum of the area using the following rules:\n",
      "Rectangle: 0.9475992785537808\n",
      "Trapezoid: 0.8862020336373999\n",
      "Simpson's: 0.8862065522460074\n"
     ]
    }
   ],
   "source": [
    "#define function (3)\n",
    "f3 = lambda x: np.exp(-x**2) \n",
    "\n",
    "print(\"Sum of the area using the following rules:\")\n",
    "print(\"Rectangle:\", Integrate.Rectangle(f3, 0, 3, 10))\n",
    "print(\"Trapezoid:\", Integrate.Trapezoid(f3, 0, 3, 10))\n",
    "print(\"Simpson's:\", Integrate.Simpson(f3, 0, 3, 10))"
   ]
  },
  {
   "cell_type": "markdown",
   "metadata": {},
   "source": [
    "For the first integral, Eq. 1, at least three sampling points are needed for Simpson's rule (minimum number of points to define a unique quadratic curve)."
   ]
  },
  {
   "cell_type": "markdown",
   "metadata": {},
   "source": [
    "## 6.4.2 Heat Capacity of a Solid"
   ]
  },
  {
   "cell_type": "markdown",
   "metadata": {},
   "source": [
    "Debye's thory of solids gives the heat capacity of a solid at temperature $T$ to be\n",
    "\n",
    "\\begin{equation*}\n",
    "C_V = 9V\\rho k_B (\\frac{T}{\\theta_D})^3 \\int_0^{\\theta_D/T} \\frac{x^4e^x}{(e^x-1)^2}dx,\n",
    "\\tag{4}\n",
    "\\end{equation*}\n",
    "\n",
    "where $V$ is the volume of the solid, $\\rho$ is the density of atoms, $k_B$ is Boltzmann constant, and $\\theta$ is the Debye temperature.\n",
    "\n",
    "1. Write a program to calculate $C_V$ for a given value of $T$ for a sample of 1000 $cm^3$ of aluminum (Al), in which the density $\\rho$ is 6.022 $\\times 10^{28} m^3$ and $\\theta_D$ = 428 K. \n",
    "\n",
    "2. Choose at least one way to evaluate the integral from the following:\n",
    "     - Simpson's or composite trapezoid rule\n",
    "     - Built-in function from scipy library\n",
    "\n",
    "3. Plot $C_V$ as a function of temperature from $T$ = 5 K to $T$ = 500 K."
   ]
  },
  {
   "cell_type": "code",
   "execution_count": 155,
   "metadata": {},
   "outputs": [],
   "source": [
    "from scipy import integrate\n",
    "\n",
    "def CalcC_V(V, rho, theta, T):\n",
    "    \"\"\"\n",
    "    Calculate the heat capacity of a solid at temperature 'T',\n",
    "    with volume 'V', density 'rho', and Debye temperature 'theta'.\n",
    "    \"\"\"\n",
    "    # define Botlzmann's constant as 1.38064852 × 10^-23 J/K\n",
    "    k = 1.38064852e-23\n",
    "    # define integrand of heat capacity formula, Eq. 4\n",
    "    integrand = lambda x: ((x**4)*np.exp(x)) / (np.exp(x)-1)**2\n",
    "    # Calculate and return C_V using Debye theory of solids\n",
    "    #return ((((T/theta)**3)*9*V*rho*k)*(integrate.quad(integrand, 0, (theta/T))[0])) # [0] since SciPy integrate returns a tuple\n",
    "    return (((T/theta)**3)*9*V*rho*k)*(integrate.quad(f,0,theta/T))[0]"
   ]
  },
  {
   "cell_type": "code",
   "execution_count": 184,
   "metadata": {},
   "outputs": [
    {
     "data": {
      "image/png": "[encoded data removed]",
      "text/plain": [
       "<Figure size 792x432 with 1 Axes>"
      ]
     },
     "metadata": {
      "needs_background": "light"
     },
     "output_type": "display_data"
    }
   ],
   "source": [
    "import matplotlib.pyplot as plt\n",
    "\n",
    "# constants for sample solid of aluminum (Al)\n",
    "V = 0.001      # 1000 cm^3 in m^3\n",
    "rho = 6.022e28 # m^3\n",
    "theta = 428    # K\n",
    "\n",
    "# plot C_V as a function of temperature from T = 5 K to 500 K\n",
    "temps = np.linspace(5, 500, 100)\n",
    "C_V_arr = np.empty([temps.size])\n",
    "\n",
    "for t in temps:\n",
    "    np.append(C_V_arr, CalcC_V(V, rho, theta, t))\n",
    "\n",
    "plt.figure(figsize=(11, 6))\n",
    "plt.title('Heat Capacity of Sample Aluminum as a function of Temperature')\n",
    "plt.xlabel('$T$ (K)')\n",
    "plt.ylabel('$C_V$ (J/K)')\n",
    "plt.plot(temps, C_Vs)\n",
    "plt.show()"
   ]
  }
 ],
 "metadata": {
  "kernelspec": {
   "display_name": "Python 3",
   "language": "python",
   "name": "python3"
  },
  "language_info": {
   "codemirror_mode": {
    "name": "ipython",
    "version": 3
   },
   "file_extension": ".py",
   "mimetype": "text/x-python",
   "name": "python",
   "nbconvert_exporter": "python",
   "pygments_lexer": "ipython3",
   "version": "3.7.3"
  }
 },
 "nbformat": 4,
 "nbformat_minor": 4
}
