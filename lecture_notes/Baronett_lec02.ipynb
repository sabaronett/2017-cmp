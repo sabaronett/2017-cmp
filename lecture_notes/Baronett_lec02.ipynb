{
 "cells": [
  {
   "cell_type": "code",
   "execution_count": 1,
   "metadata": {},
   "outputs": [
    {
     "name": "stdin",
     "output_type": "stream",
     "text": [
      "Type a value for x:  1\n",
      "Type a value for y:  2\n"
     ]
    }
   ],
   "source": [
    "x = input(\"Type a value for x: \")\n",
    "y = input(\"Type a value for y: \")"
   ]
  },
  {
   "cell_type": "code",
   "execution_count": 2,
   "metadata": {},
   "outputs": [
    {
     "name": "stdout",
     "output_type": "stream",
     "text": [
      "13\n",
      "49\n"
     ]
    }
   ],
   "source": [
    "print(4+9)\n",
    "print('4'+'9')"
   ]
  },
  {
   "cell_type": "code",
   "execution_count": 4,
   "metadata": {},
   "outputs": [
    {
     "name": "stdin",
     "output_type": "stream",
     "text": [
      "Type a value for x:  7\n",
      "Type a value for y:  8\n"
     ]
    },
    {
     "name": "stdout",
     "output_type": "stream",
     "text": [
      "x + y = 15\n"
     ]
    }
   ],
   "source": [
    "x = int(input(\"Type a value for x: \"))\n",
    "y = int(input(\"Type a value for y: \"))\n",
    "print('x + y =', x + y)"
   ]
  },
  {
   "cell_type": "code",
   "execution_count": 2,
   "metadata": {},
   "outputs": [
    {
     "name": "stdin",
     "output_type": "stream",
     "text": [
      "Type a value for m:  2\n",
      "Type a value for n:  3\n"
     ]
    },
    {
     "name": "stdout",
     "output_type": "stream",
     "text": [
      "m =  2 , n =  3 , wavelength is 656.3354603463993 nm\n"
     ]
    }
   ],
   "source": [
    "R = 1.097e-2\n",
    "m = int(input(\"Type a value for m: \"))\n",
    "n = int(input(\"Type a value for n: \"))\n",
    "\n",
    "if n > m:\n",
    "    invLambda = R * (1.0/m**2 - 1/n**2)\n",
    "    print(\"m = \", m, \", n = \", n, \n",
    "          ', wavelength is', 1/invLambda,\n",
    "          \"nm\")\n",
    "else:\n",
    "    print('n has to be greater than m. Try again.')"
   ]
  },
  {
   "cell_type": "code",
   "execution_count": 8,
   "metadata": {},
   "outputs": [
    {
     "name": "stdin",
     "output_type": "stream",
     "text": [
      "Enter a positive integer value for m:  5\n",
      "Enter a positive integer value, greater than m, for n:  3\n"
     ]
    },
    {
     "name": "stdout",
     "output_type": "stream",
     "text": [
      "n must be greater than  5 . Please try again.\n"
     ]
    },
    {
     "name": "stdin",
     "output_type": "stream",
     "text": [
      "Enter a positive integer value, greater than m, for n:  5\n"
     ]
    },
    {
     "name": "stdout",
     "output_type": "stream",
     "text": [
      "n must be greater than  5 . Please try again.\n"
     ]
    },
    {
     "name": "stdin",
     "output_type": "stream",
     "text": [
      "Enter a positive integer value, greater than m, for n:  8\n"
     ]
    },
    {
     "name": "stdout",
     "output_type": "stream",
     "text": [
      "m = 5 , n = 8 , wavelength is 3739.8031928569753 nm\n"
     ]
    }
   ],
   "source": [
    "R = 1.097e-2\n",
    "good_m = False\n",
    "while good_m is False:\n",
    "    m = int(input(\"Enter a positive integer value for m: \"))\n",
    "    if m <= 0:\n",
    "        print(\"m must be a positive integer. Please try again.\")\n",
    "    else:\n",
    "        good_m = True\n",
    "\n",
    "good_n = False\n",
    "while good_n is False:        \n",
    "    n = int(input(\"Enter a positive integer value, greater than m, for n: \"))\n",
    "    if n <= m:\n",
    "        print(\"n must be greater than \", m, \". Please try again.\")\n",
    "    else:\n",
    "        good_n = True\n",
    "invlambda = R * (1.0/m**2 - 1/n**2)\n",
    "print(\"m =\", m, \", n =\", n, ', wavelength is', 1/invlambda, \"nm\")"
   ]
  },
  {
   "cell_type": "code",
   "execution_count": 24,
   "metadata": {},
   "outputs": [
    {
     "name": "stdout",
     "output_type": "stream",
     "text": [
      "1\n",
      "[5, 5]\n",
      "[1, 2, 4, 5, 5, 6, 8]\n"
     ]
    }
   ],
   "source": [
    "a = [1, 2, 4, 5, 5, 6, 8]\n",
    "print(a[0])\n",
    "print(a[3:-2])\n",
    "print(a[0:7])"
   ]
  },
  {
   "cell_type": "code",
   "execution_count": 26,
   "metadata": {},
   "outputs": [
    {
     "name": "stdout",
     "output_type": "stream",
     "text": [
      "[1, 2, 4, 5, 5, 6, 8]\n",
      "8\n"
     ]
    }
   ],
   "source": [
    "def my_max(lists):\n",
    "    \"Calculate the maximum element from the given list\"\n",
    "    max = lists[0]\n",
    "    for i in lists:\n",
    "        if max < i:\n",
    "            max = i\n",
    "    return max\n",
    "print(a)\n",
    "print(my_max(a))"
   ]
  },
  {
   "cell_type": "code",
   "execution_count": 29,
   "metadata": {},
   "outputs": [
    {
     "name": "stdin",
     "output_type": "stream",
     "text": [
      "Enter a value for m:  3\n",
      "Enter a value for n: 4\n"
     ]
    },
    {
     "name": "stdout",
     "output_type": "stream",
     "text": [
      "m = 3 n = 4 wavelength is 1875.2441724182836 nm\n"
     ]
    }
   ],
   "source": [
    "R = 1.097e-2\n",
    "\n",
    "def calc_lambda(m, n):\n",
    "    '''This is a function to calculate lambda based on m and n'''\n",
    "    return 1/(R*(1.0/m**2 - 1/n**2))\n",
    "\n",
    "good_m = False\n",
    "while good_m is False:\n",
    "    m = int(input(\"Enter a value for m: \"))\n",
    "    if m <= 0:\n",
    "        print(\"m must be a positive integer. Please try again.\")\n",
    "    else:\n",
    "        good_m = True\n",
    "        \n",
    "good_n = False\n",
    "while good_n is False:\n",
    "    n = int(input(\"Enter a value for n:\"))\n",
    "    if n <= m:\n",
    "        print(\"n must be greater than\", m, \". Please try again.\")\n",
    "    else:\n",
    "        good_n = True\n",
    "\n",
    "lambda_w = calc_lambda(m,n)\n",
    "print(\"m =\", m, \"n =\", n, \"wavelength is\", lambda_w, \"nm\")"
   ]
  },
  {
   "cell_type": "code",
   "execution_count": 30,
   "metadata": {},
   "outputs": [
    {
     "name": "stdout",
     "output_type": "stream",
     "text": [
      "[1, 2, 4, 5, 5, 6, 8]\n"
     ]
    },
    {
     "data": {
      "text/plain": [
       "7"
      ]
     },
     "execution_count": 30,
     "metadata": {},
     "output_type": "execute_result"
    }
   ],
   "source": [
    "print(a)\n",
    "len(a)"
   ]
  },
  {
   "cell_type": "code",
   "execution_count": 31,
   "metadata": {},
   "outputs": [
    {
     "name": "stdout",
     "output_type": "stream",
     "text": [
      "[]\n",
      "[1]\n",
      "[1, 1]\n",
      "[1, 1, 2]\n",
      "[1, 1, 2, 3]\n",
      "[1, 1, 2, 3, 5, 8, 13, 21, 34, 55, 89, 144, 233, 377, 610, 987, 1597, 2584, 4181, 6765]\n"
     ]
    }
   ],
   "source": [
    "def FibonacciSeries(n):\n",
    "    '''\n",
    "    This function calculates the first\n",
    "    Fibonacci numbers up to the given Nth number.\n",
    "    Input: N (must be a positive integer).\n",
    "    Output: Fibonacci sequence up to the Nth number\n",
    "    '''\n",
    "    \n",
    "    fib_series = []\n",
    "    \n",
    "    for i in range(1, N+1):\n",
    "        if len(fib_series) <= 1:\n",
    "            fib_series.append(1)\n",
    "        else:\n",
    "            fib_series.append(fib_series[-1] + fib_series[-2])\n",
    "    return fib_series\n",
    "\n",
    "print(FibonacciSeries(-1))\n",
    "print(FibonacciSeries(1))\n",
    "print(FibonacciSeries(2))\n",
    "print(FibonacciSeries(3))\n",
    "print(FibonacciSeries(4))\n",
    "print(FibonacciSeries(20))\n",
    "#print(FibonacciSeries(200)) #Trippy output--looks like waves\n",
    "\n",
    "        "
   ]
  },
  {
   "cell_type": "code",
   "execution_count": 3,
   "metadata": {},
   "outputs": [
    {
     "name": "stdin",
     "output_type": "stream",
     "text": [
      "Enter the nth Fibonacci number to find: 20\n"
     ]
    },
    {
     "name": "stdout",
     "output_type": "stream",
     "text": [
      "The 20 th Fibonacci number is 6765\n"
     ]
    }
   ],
   "source": [
    "def RecFibonacciNum(n):\n",
    "    '''\n",
    "    This recursive function calculates and returns\n",
    "    the value of the nth Fibonacci number.\n",
    "    Input: n (must be a positive integer).\n",
    "    Output: nth Fibonacci number\n",
    "    '''\n",
    "    if n == 1:\n",
    "        return 1\n",
    "    elif n == 2:\n",
    "        return 1\n",
    "    else:\n",
    "        return (RecFibonacciNum(n - 1) + RecFibonacciNum(n - 2))\n",
    "\n",
    "valid_x = False\n",
    "while valid_x is False:\n",
    "    x = int(input(\"Enter the nth Fibonacci number to find:\"))\n",
    "    if x <= 0:\n",
    "        print(\"It must be a positive integer. Please try again.\")\n",
    "    else:\n",
    "        valid_x = True\n",
    "\n",
    "print(\"The\", x, \"th Fibonacci number is\", RecFibonacciNum(x))"
   ]
  },
  {
   "cell_type": "code",
   "execution_count": 47,
   "metadata": {},
   "outputs": [],
   "source": [
    "# Similar to an inline function.\n",
    "z = lambda x: x * x"
   ]
  },
  {
   "cell_type": "code",
   "execution_count": 48,
   "metadata": {},
   "outputs": [
    {
     "data": {
      "text/plain": [
       "64"
      ]
     },
     "execution_count": 48,
     "metadata": {},
     "output_type": "execute_result"
    }
   ],
   "source": [
    "z(8)"
   ]
  },
  {
   "cell_type": "code",
   "execution_count": 1,
   "metadata": {},
   "outputs": [
    {
     "name": "stdin",
     "output_type": "stream",
     "text": [
      "Enter a value for N:  5\n"
     ]
    },
    {
     "name": "stdout",
     "output_type": "stream",
     "text": [
      "For n = 0 , the multiplicity is 1.0\n",
      "For n = 1 , the multiplicity is 5.0\n",
      "For n = 2 , the multiplicity is 10.0\n",
      "For n = 3 , the multiplicity is 10.0\n",
      "For n = 4 , the multiplicity is 5.0\n",
      "For n = 5 , the multiplicity is 1.0\n"
     ]
    }
   ],
   "source": [
    "# Multiplicity calculation\n",
    "def Factorial(N):\n",
    "    '''\n",
    "    Returns the factorial of given N.\n",
    "    '''\n",
    "    if N == 0 or N == 1:\n",
    "        return 1\n",
    "    else:\n",
    "        product = 1\n",
    "        for i in range(2, N+1):\n",
    "            product *= i\n",
    "        return product\n",
    "\n",
    "def Multiplicity(N, n):\n",
    "    '''\n",
    "    Return the multiplicity/binomial expansion of (N, n)\n",
    "    '''\n",
    "    return Factorial(N)/Factorial(n)/Factorial(N - n)\n",
    "\n",
    "N = int(input(\"Enter a value for N: \"))\n",
    "\n",
    "for n in range(N+1):\n",
    "    print('For n =', n, ', the multiplicity is', Multiplicity(N, n))"
   ]
  },
  {
   "cell_type": "code",
   "execution_count": 5,
   "metadata": {},
   "outputs": [
    {
     "name": "stdout",
     "output_type": "stream",
     "text": [
      "6765\n"
     ]
    }
   ],
   "source": [
    "def FibonacciReturn(N):\n",
    "    '''\n",
    "    This function calculates the Fibonacci number using the\n",
    "    return function\n",
    "    '''\n",
    "    \n",
    "    fibo_series = []\n",
    "    for i in range(1, N+1):\n",
    "        if len(fibo_series) <= 1:\n",
    "            fibo_series.append(1)\n",
    "        else:\n",
    "            fibo_series.append(fibo_series[-1] + fibo_series[-2])\n",
    "    return fibo_series[-1]\n",
    "\n",
    "print(FibonacciReturn(20))"
   ]
  },
  {
   "cell_type": "code",
   "execution_count": 10,
   "metadata": {},
   "outputs": [
    {
     "name": "stdout",
     "output_type": "stream",
     "text": [
      "1.09 µs ± 231 ns per loop (mean ± std. dev. of 7 runs, 1000000 loops each)\n"
     ]
    }
   ],
   "source": [
    "timeit(FibonacciReturn(3))"
   ]
  },
  {
   "cell_type": "code",
   "execution_count": 11,
   "metadata": {},
   "outputs": [
    {
     "name": "stdout",
     "output_type": "stream",
     "text": [
      "342 ns ± 71.3 ns per loop (mean ± std. dev. of 7 runs, 1000000 loops each)\n"
     ]
    }
   ],
   "source": [
    "timeit(RecFibonacciNum(3))"
   ]
  },
  {
   "cell_type": "code",
   "execution_count": 20,
   "metadata": {},
   "outputs": [
    {
     "name": "stdout",
     "output_type": "stream",
     "text": [
      "1\n",
      "1\n",
      "2\n",
      "3\n",
      "5\n",
      "8\n",
      "13\n",
      "21\n",
      "34\n",
      "55\n",
      "89\n",
      "144\n",
      "233\n",
      "377\n",
      "610\n",
      "987\n",
      "1597\n",
      "2584\n",
      "4181\n",
      "6765\n"
     ]
    }
   ],
   "source": [
    "def FibonacciYield():\n",
    "    '''\n",
    "    This function calculates the Fibonacci series using the\n",
    "    yield function\n",
    "    '''\n",
    "    \n",
    "    a = b = 1\n",
    "    while True:\n",
    "        yield a\n",
    "        a, b = b, a + b\n",
    "            \n",
    "for num in FibonacciYield():\n",
    "    if num > 6765:\n",
    "        break\n",
    "    print(num)"
   ]
  },
  {
   "cell_type": "code",
   "execution_count": null,
   "metadata": {},
   "outputs": [],
   "source": []
  }
 ],
 "metadata": {
  "kernelspec": {
   "display_name": "Python 3",
   "language": "python",
   "name": "python3"
  },
  "language_info": {
   "codemirror_mode": {
    "name": "ipython",
    "version": 3
   },
   "file_extension": ".py",
   "mimetype": "text/x-python",
   "name": "python",
   "nbconvert_exporter": "python",
   "pygments_lexer": "ipython3",
   "version": "3.7.3"
  }
 },
 "nbformat": 4,
 "nbformat_minor": 4
}
