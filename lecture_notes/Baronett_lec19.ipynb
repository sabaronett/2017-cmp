{
 "cells": [
  {
   "cell_type": "code",
   "execution_count": 3,
   "metadata": {},
   "outputs": [],
   "source": [
    "import numpy as np\n",
    "\n",
    "def LJ(r):\n",
    "    r6 = r**6\n",
    "    r12 = r6*r6\n",
    "    return 4*(1/r12 - 1/r6)\n",
    "\n",
    "def total_energy(positions):\n",
    "    \"\"\"\n",
    "    Calculate the total energy\n",
    "    input:\n",
    "    positions: 3*N array which represents the atomic positions\n",
    "    output\n",
    "    E: the total energy\n",
    "    \"\"\"\n",
    "    E = 0\n",
    "    N_atom = int(len(positions)/3)\n",
    "\n",
    "    #positions = [x0, y0, z0, x1, y1, z1, .....  , xn, yn, zn]\n",
    "    for i in range(N_atom-1):\n",
    "        for j in range(i+1, N_atom):\n",
    "            pos1 = positions[i*3:(i+1)*3]\n",
    "            pos2 = positions[j*3:(j+1)*3]\n",
    "            #print('pos1:  ', pos1)\n",
    "            #print('pos2:  ', pos2)\n",
    "            dist = np.linalg.norm(pos1-pos2)\n",
    "            #print(i,j, dist)\n",
    "            E += LJ(dist)\n",
    "    return E\n",
    "            \n",
    "def init_pos(N, L=5):\n",
    "    return L*np.random.random_sample((N*3,))\n"
   ]
  },
  {
   "cell_type": "code",
   "execution_count": 5,
   "metadata": {},
   "outputs": [
    {
     "name": "stdout",
     "output_type": "stream",
     "text": [
      "warning: basinhopping: local minimization failure\n",
      "basinhopping step 0: f -36.1779\n",
      "warning: basinhopping: local minimization failure\n",
      "basinhopping step 1: f -37.9676 trial_f -37.9676 accepted 1  lowest_f -37.9676\n",
      "found new global minimum on step 1 with function value -37.9676\n",
      "warning: basinhopping: local minimization failure\n",
      "basinhopping step 2: f -37.9676 trial_f -33.0202 accepted 0  lowest_f -37.9676\n",
      "warning: basinhopping: local minimization failure\n",
      "basinhopping step 3: f -37.9676 trial_f -34.9517 accepted 0  lowest_f -37.9676\n",
      "warning: basinhopping: local minimization failure\n",
      "basinhopping step 4: f -37.9676 trial_f -35.3704 accepted 0  lowest_f -37.9676\n",
      "basinhopping step 5: f -37.9676 trial_f -36.1516 accepted 0  lowest_f -37.9676\n",
      "warning: basinhopping: local minimization failure\n",
      "basinhopping step 6: f -33.9588 trial_f -33.9588 accepted 1  lowest_f -37.9676\n",
      "warning: basinhopping: local minimization failure\n",
      "basinhopping step 7: f -33.9588 trial_f -30.4143 accepted 0  lowest_f -37.9676\n",
      "warning: basinhopping: local minimization failure\n",
      "basinhopping step 8: f -36.2532 trial_f -36.2532 accepted 1  lowest_f -37.9676\n",
      "warning: basinhopping: local minimization failure\n",
      "basinhopping step 9: f -34.8905 trial_f -34.8905 accepted 1  lowest_f -37.9676\n",
      "warning: basinhopping: local minimization failure\n",
      "basinhopping step 10: f -35.7842 trial_f -35.7842 accepted 1  lowest_f -37.9676\n"
     ]
    }
   ],
   "source": [
    "from scipy.optimize import basinhopping\n",
    "\n",
    "N_atom = 12\n",
    "pos = init_pos(N_atom)\n",
    "res = basinhopping(total_energy, pos, niter=10, T=2.0, stepsize=3.0, disp=True)"
   ]
  },
  {
   "cell_type": "code",
   "execution_count": 6,
   "metadata": {},
   "outputs": [
    {
     "data": {
      "text/plain": [
       "-37.96759956235501"
      ]
     },
     "execution_count": 6,
     "metadata": {},
     "output_type": "execute_result"
    }
   ],
   "source": [
    "res.fun"
   ]
  }
 ],
 "metadata": {
  "kernelspec": {
   "display_name": "Python 3",
   "language": "python",
   "name": "python3"
  },
  "language_info": {
   "codemirror_mode": {
    "name": "ipython",
    "version": 3
   },
   "file_extension": ".py",
   "mimetype": "text/x-python",
   "name": "python",
   "nbconvert_exporter": "python",
   "pygments_lexer": "ipython3",
   "version": "3.7.3"
  }
 },
 "nbformat": 4,
 "nbformat_minor": 4
}
