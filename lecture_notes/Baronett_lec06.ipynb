{
 "cells": [
  {
   "cell_type": "code",
   "execution_count": 2,
   "metadata": {},
   "outputs": [
    {
     "name": "stdout",
     "output_type": "stream",
     "text": [
      "3.999911513119514e-08\n"
     ]
    }
   ],
   "source": [
    "f = lambda x: -x**4 + 4*x**3 + 2\n",
    "h = 1e-4\n",
    "df0 = (f(0+h) - f(0))/h\n",
    "print(df0)"
   ]
  },
  {
   "cell_type": "code",
   "execution_count": 4,
   "metadata": {},
   "outputs": [
    {
     "name": "stdout",
     "output_type": "stream",
     "text": [
      "3.999911513119514e-08\n"
     ]
    }
   ],
   "source": [
    "def df(f, x, h=1e-4):\n",
    "    return (f(x+h) - f(x))/h\n",
    "\n",
    "f = lambda x: -x**4 + 4*x**3 + 2\n",
    "print(df(f, 0))"
   ]
  },
  {
   "cell_type": "code",
   "execution_count": 18,
   "metadata": {},
   "outputs": [
    {
     "name": "stdout",
     "output_type": "stream",
     "text": [
      "Differences from forward : 15.999999547489097\n",
      "Differences from backward : 15.999999902760464\n",
      "Differences from central : 15.999999902760464\n",
      "random not supported\n",
      "Differences from random : None\n"
     ]
    }
   ],
   "source": [
    "def df(f, x, h=1e-8, method='forward'):\n",
    "    \"\"\"\n",
    "    Calculate the derivatives from three different methods.\n",
    "    \"\"\"\n",
    "    if method == 'backward':\n",
    "        return (f(x) - f(x-h))/h\n",
    "    elif method == 'central':\n",
    "        return (f(x+h/2) - f(x-h/2))/h\n",
    "    elif method == 'forward':\n",
    "        return (f(x+h) - f(x))/h\n",
    "    else:\n",
    "        print(method, \"not supported\")\n",
    "        return None\n",
    "\n",
    "for method in ['forward', 'backward', 'central', 'random']:\n",
    "    print('Differences from', method, ':', df(f, x=2, method=method))"
   ]
  },
  {
   "cell_type": "code",
   "execution_count": 23,
   "metadata": {},
   "outputs": [
    {
     "name": "stdout",
     "output_type": "stream",
     "text": [
      "2nd order derivative at 0 : -2.220446049250313e-08\n",
      "2nd order derivative at 1 : 11.999999927070348\n",
      "2nd order derivative at 2 : 7.105427357601002e-07\n",
      "2nd order derivative at 3 : -36.00000013648241\n",
      "2nd order derivative at 4 : -95.9999937322209\n",
      "2nd order derivative at 5 : -180.00000068241206\n",
      "2nd order derivative at 6 : -288.0000010918593\n",
      "2nd order derivative at 7 : -420.0000148557592\n",
      "2nd order derivative at 8 : -576.0000249210862\n",
      "2nd order derivative at 9 : -756.0000085504726\n"
     ]
    }
   ],
   "source": [
    "# Short code to calculate 2nd order derivatives\n",
    "f = lambda x: -x**4 + 4*x**3 + 2\n",
    "\n",
    "def d2f(f, x, h=1e-4):\n",
    "    \"\"\"\n",
    "    Calculate the second derivative.\n",
    "    \"\"\"\n",
    "    return (f(x+h) - 2*f(x) + f(x-h)) / h**2\n",
    "\n",
    "for x in range(10):\n",
    "    print('2nd order derivative at', x, ':', d2f(f, x))"
   ]
  },
  {
   "cell_type": "code",
   "execution_count": 24,
   "metadata": {},
   "outputs": [
    {
     "name": "stdout",
     "output_type": "stream",
     "text": [
      "2nd order derivative at 0 : 0.0011999290450148692\n",
      "2nd order derivative at 1 : 11.999999927070348\n",
      "2nd order derivative at 2 : -0.0011997514093309292\n",
      "2nd order derivative at 3 : -36.00239892875834\n",
      "2nd order derivative at 4 : -96.00360044714762\n",
      "2nd order derivative at 5 : -180.00478689828014\n",
      "2nd order derivative at 6 : -288.00598101952346\n",
      "2nd order derivative at 7 : -420.00722260127077\n",
      "2nd order derivative at 8 : -576.0083467976074\n",
      "2nd order derivative at 9 : -756.0095127701061\n"
     ]
    }
   ],
   "source": [
    "# Short code to calculate 2nd order derivatives\n",
    "f = lambda x: -x**4 + 4*x**3 + 2\n",
    "\n",
    "def df(f, x, h=1e-4, method='forward'):\n",
    "    \"\"\"\n",
    "    Calculate the derivatives from three different methods.\n",
    "    \"\"\"\n",
    "    if method == 'backward':\n",
    "        return (f(x) - f(x-h))/h\n",
    "    elif method == 'central':\n",
    "        return (f(x+h/2) - f(x-h/2))/h\n",
    "    elif method == 'forward':\n",
    "        return (f(x+h) - f(x))/h\n",
    "    else:\n",
    "        print(method, \"not supported\")\n",
    "        return None\n",
    "\n",
    "def d2f(f, x, h=1e-4):\n",
    "    \"\"\"\n",
    "    Calculate the second derivative.\n",
    "    \"\"\"\n",
    "    df_1 = df(f, x+h/2)\n",
    "    df_2 = df(f, x-h/2)\n",
    "    return (df_1 - df_2) / h\n",
    "\n",
    "for x in range(10):\n",
    "    print('2nd order derivative at', x, ':', d2f(f, x))"
   ]
  },
  {
   "cell_type": "code",
   "execution_count": null,
   "metadata": {},
   "outputs": [],
   "source": []
  }
 ],
 "metadata": {
  "kernelspec": {
   "display_name": "Python 3",
   "language": "python",
   "name": "python3"
  },
  "language_info": {
   "codemirror_mode": {
    "name": "ipython",
    "version": 3
   },
   "file_extension": ".py",
   "mimetype": "text/x-python",
   "name": "python",
   "nbconvert_exporter": "python",
   "pygments_lexer": "ipython3",
   "version": "3.7.3"
  }
 },
 "nbformat": 4,
 "nbformat_minor": 4
}
