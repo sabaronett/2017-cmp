{
 "cells": [
  {
   "cell_type": "code",
   "execution_count": 28,
   "metadata": {},
   "outputs": [],
   "source": [
    "def factor(N):\n",
    "    if N == 0 or N == 1:\n",
    "        return 1\n",
    "    else:\n",
    "        total = 1\n",
    "        for i in range(2, N+1):\n",
    "            total *= i\n",
    "        return total"
   ]
  },
  {
   "cell_type": "code",
   "execution_count": 29,
   "metadata": {},
   "outputs": [
    {
     "data": {
      "text/plain": [
       "1"
      ]
     },
     "execution_count": 29,
     "metadata": {},
     "output_type": "execute_result"
    }
   ],
   "source": [
    "factor(1)"
   ]
  },
  {
   "cell_type": "code",
   "execution_count": 30,
   "metadata": {},
   "outputs": [
    {
     "data": {
      "text/plain": [
       "2"
      ]
     },
     "execution_count": 30,
     "metadata": {},
     "output_type": "execute_result"
    }
   ],
   "source": [
    "factor(2)"
   ]
  },
  {
   "cell_type": "code",
   "execution_count": 31,
   "metadata": {},
   "outputs": [
    {
     "data": {
      "text/plain": [
       "6"
      ]
     },
     "execution_count": 31,
     "metadata": {},
     "output_type": "execute_result"
    }
   ],
   "source": [
    "factor(3)"
   ]
  },
  {
   "cell_type": "code",
   "execution_count": 32,
   "metadata": {},
   "outputs": [
    {
     "data": {
      "text/plain": [
       "6"
      ]
     },
     "execution_count": 32,
     "metadata": {},
     "output_type": "execute_result"
    }
   ],
   "source": [
    "3*2*1"
   ]
  },
  {
   "cell_type": "code",
   "execution_count": 33,
   "metadata": {},
   "outputs": [
    {
     "data": {
      "text/latex": [
       "$\\displaystyle 6$"
      ],
      "text/plain": [
       "6"
      ]
     },
     "execution_count": 33,
     "metadata": {},
     "output_type": "execute_result"
    }
   ],
   "source": [
    "from sympy import factorial\n",
    "factorial(3)"
   ]
  },
  {
   "cell_type": "code",
   "execution_count": 34,
   "metadata": {},
   "outputs": [
    {
     "data": {
      "text/plain": [
       "3628800"
      ]
     },
     "execution_count": 34,
     "metadata": {},
     "output_type": "execute_result"
    }
   ],
   "source": [
    "factor(10)"
   ]
  },
  {
   "cell_type": "code",
   "execution_count": 35,
   "metadata": {},
   "outputs": [
    {
     "data": {
      "text/latex": [
       "$\\displaystyle 3628800$"
      ],
      "text/plain": [
       "3628800"
      ]
     },
     "execution_count": 35,
     "metadata": {},
     "output_type": "execute_result"
    }
   ],
   "source": [
    "factorial(10)"
   ]
  },
  {
   "cell_type": "code",
   "execution_count": 37,
   "metadata": {},
   "outputs": [
    {
     "data": {
      "text/plain": [
       "'3.628800E+06'"
      ]
     },
     "execution_count": 37,
     "metadata": {},
     "output_type": "execute_result"
    }
   ],
   "source": [
    "from decimal import Decimal\n",
    "'%E' % Decimal(factor(10))"
   ]
  },
  {
   "cell_type": "code",
   "execution_count": 36,
   "metadata": {},
   "outputs": [
    {
     "data": {
      "text/plain": [
       "'3.628800E+06'"
      ]
     },
     "execution_count": 36,
     "metadata": {},
     "output_type": "execute_result"
    }
   ],
   "source": [
    "'%E' % Decimal(int(factorial(10)))"
   ]
  },
  {
   "cell_type": "code",
   "execution_count": 39,
   "metadata": {},
   "outputs": [
    {
     "data": {
      "text/plain": [
       "0.8414709848078965"
      ]
     },
     "execution_count": 39,
     "metadata": {},
     "output_type": "execute_result"
    }
   ],
   "source": [
    "import numpy as np\n",
    "from numpy import *\n",
    "sin(1)"
   ]
  },
  {
   "cell_type": "code",
   "execution_count": 41,
   "metadata": {},
   "outputs": [
    {
     "data": {
      "text/plain": [
       "0.5403023058681398"
      ]
     },
     "execution_count": 41,
     "metadata": {},
     "output_type": "execute_result"
    }
   ],
   "source": [
    "cos(1)"
   ]
  },
  {
   "cell_type": "code",
   "execution_count": 42,
   "metadata": {},
   "outputs": [
    {
     "data": {
      "text/plain": [
       "1.0"
      ]
     },
     "execution_count": 42,
     "metadata": {},
     "output_type": "execute_result"
    }
   ],
   "source": [
    "linalg.norm(eye(1))"
   ]
  },
  {
   "cell_type": "code",
   "execution_count": 44,
   "metadata": {},
   "outputs": [
    {
     "data": {
      "text/plain": [
       "0.8414709848078965"
      ]
     },
     "execution_count": 44,
     "metadata": {},
     "output_type": "execute_result"
    }
   ],
   "source": [
    "np.sin(1)"
   ]
  },
  {
   "cell_type": "code",
   "execution_count": 45,
   "metadata": {},
   "outputs": [
    {
     "name": "stdout",
     "output_type": "stream",
     "text": [
      "[[1. 0. 0. 0. 0.]\n",
      " [0. 1. 0. 0. 0.]\n",
      " [0. 0. 1. 0. 0.]\n",
      " [0. 0. 0. 1. 0.]\n",
      " [0. 0. 0. 0. 1.]]\n"
     ]
    }
   ],
   "source": [
    "import numpy as np\n",
    "array = np.eye(5)\n",
    "print(array)"
   ]
  },
  {
   "cell_type": "code",
   "execution_count": 46,
   "metadata": {},
   "outputs": [],
   "source": [
    "import urllib.request\n",
    "\n",
    "req = urllib.request.Request('http://www.physics.unlv.edu/~qzhu')\n",
    "response = urllib.request.urlopen(req)\n",
    "the_page = response.read().decode()"
   ]
  },
  {
   "cell_type": "code",
   "execution_count": 49,
   "metadata": {},
   "outputs": [
    {
     "name": "stdout",
     "output_type": "stream",
     "text": [
      "10\n"
     ]
    }
   ],
   "source": [
    "#print(dir(the_page))\n",
    "#print(the_page)\n",
    "print(the_page.count('Qiang Zhu'))"
   ]
  },
  {
   "cell_type": "code",
   "execution_count": 73,
   "metadata": {},
   "outputs": [
    {
     "name": "stdin",
     "output_type": "stream",
     "text": [
      "Guess a number between 1 and 10: 10\n"
     ]
    },
    {
     "name": "stdout",
     "output_type": "stream",
     "text": [
      "     WOW! You got it in ONE try!\n"
     ]
    }
   ],
   "source": [
    "import random as rand\n",
    "import numpy as np\n",
    "\n",
    "try_count = np.zeros(100)\n",
    "\n",
    "rand.seed()\n",
    "win = False\n",
    "count = 1\n",
    "while win == False:\n",
    "    guess = int(input(\"Guess a number between 1 and 10:\"))\n",
    "    if int(guess) > 0 and int(guess) < 11:\n",
    "        num = rand.randrange(1, 11, 1)\n",
    "        if guess == num:\n",
    "            if count == 1:\n",
    "                print(\"     WOW! You got it in ONE try!\")\n",
    "                try_count[1] += 1\n",
    "            else:\n",
    "                print(\"     You got it in\", count, \"tries!\")\n",
    "                try_count[count] += 1\n",
    "            win = True\n",
    "        else:\n",
    "            print(\"     Nope, it was\", num, \". Try again.\")\n",
    "            count += 1\n",
    "    else:\n",
    "        print(\"     That wasn't between 1 and 10. Try again.\")\n",
    "        \n",
    "np.savetxt('lec03/try_counts', try_count, fmt='%.i')"
   ]
  },
  {
   "cell_type": "code",
   "execution_count": 142,
   "metadata": {},
   "outputs": [
    {
     "name": "stdin",
     "output_type": "stream",
     "text": [
      "Enter number of games to play: 100000\n"
     ]
    },
    {
     "name": "stdout",
     "output_type": "stream",
     "text": [
      "Done.\n"
     ]
    }
   ],
   "source": [
    "import random as rand\n",
    "import numpy as np\n",
    "\n",
    "try_count = np.zeros(150)\n",
    "\n",
    "rand.seed()\n",
    "win = False\n",
    "count = 1\n",
    "games = int(input(\"Enter number of games to play:\"))\n",
    "for i in range(1, games+1):\n",
    "    while win == False:\n",
    "        num = rand.randrange(1, 11, 1)\n",
    "        if 5 == num:\n",
    "            if count == 1:\n",
    "                #print(\"Game #\", i, \": GUESSED IN ONE TRY!\")\n",
    "                try_count[1] += 1\n",
    "            else:\n",
    "                #print(\"Game #\", i, \": Guessed in\", count, \"tries.\")\n",
    "                try_count[count] += 1\n",
    "            win = True\n",
    "        else:\n",
    "            count += 1\n",
    "    win = False\n",
    "    count = 1\n",
    "print(\"Done.\")"
   ]
  },
  {
   "cell_type": "code",
   "execution_count": 143,
   "metadata": {},
   "outputs": [
    {
     "data": {
      "image/png": "[encoded data removed]",
      "text/plain": [
       "<Figure size 576x324 with 1 Axes>"
      ]
     },
     "metadata": {
      "needs_background": "light"
     },
     "output_type": "display_data"
    }
   ],
   "source": [
    "from matplotlib import pyplot as plt\n",
    "\n",
    "fig, ax = plt.subplots(figsize=(8, 4.5))\n",
    "plt.xlim(0, 11)\n",
    "plt.xticks(np.arange(1, 11, 1))\n",
    "plt.title('Frequency vs. No. of Guesses')\n",
    "plt.xlabel('# Guesses')\n",
    "plt.ylabel('Frequency')\n",
    "ax.bar(np.arange(0, 150, 1), try_count)\n",
    "plt.savefig('lec03/graph.png', dpi=400)"
   ]
  },
  {
   "cell_type": "code",
   "execution_count": 156,
   "metadata": {},
   "outputs": [
    {
     "name": "stdout",
     "output_type": "stream",
     "text": [
      "Maximum at 1\n"
     ]
    }
   ],
   "source": [
    "print(\"Maximum at\", np.argmax(try_count))"
   ]
  },
  {
   "cell_type": "code",
   "execution_count": 171,
   "metadata": {},
   "outputs": [
    {
     "data": {
      "text/plain": [
       "(array([  0,  28,  29,  30,  31,  32,  33,  34,  35,  36,  37,  38,  39,\n",
       "         40,  41,  42,  43,  44,  45,  46,  47,  48,  49,  50,  51,  52,\n",
       "         53,  54,  55,  56,  57,  58,  59,  60,  61,  62,  63,  64,  65,\n",
       "         66,  67,  68,  69,  70,  71,  72,  73,  74,  75,  76,  77,  78,\n",
       "         79,  80,  81,  82,  83,  84,  85,  86,  87,  88,  89,  90,  91,\n",
       "         92,  93,  94,  95,  96,  97,  98,  99, 100, 101, 102, 103, 104,\n",
       "        105, 106, 107, 108, 109, 110, 111, 112, 113, 114, 115, 116, 117,\n",
       "        118, 119, 120, 121, 122, 123, 124, 125, 126, 127, 128, 129, 130,\n",
       "        131, 132, 133, 134, 135, 136, 137, 138, 139, 140, 141, 142, 143,\n",
       "        144, 145, 146, 147, 148, 149]),)"
      ]
     },
     "execution_count": 171,
     "metadata": {},
     "output_type": "execute_result"
    }
   ],
   "source": [
    "avg_val = np.average(try_count)\n",
    "np.where(try_count < avg_val)"
   ]
  },
  {
   "cell_type": "code",
   "execution_count": 173,
   "metadata": {},
   "outputs": [
    {
     "data": {
      "text/plain": [
       "(array([ 1,  2,  3,  4,  5,  6,  7,  8,  9, 10, 11, 12, 13, 14, 15, 16, 17,\n",
       "        18, 19, 20, 21, 22, 23, 24, 25, 26, 27]),)"
      ]
     },
     "execution_count": 173,
     "metadata": {},
     "output_type": "execute_result"
    }
   ],
   "source": [
    "np.where(try_count > avg_val)"
   ]
  },
  {
   "cell_type": "code",
   "execution_count": 177,
   "metadata": {},
   "outputs": [
    {
     "data": {
      "image/png": "[encoded data removed]",
      "text/plain": [
       "<Figure size 432x288 with 1 Axes>"
      ]
     },
     "metadata": {
      "needs_background": "light"
     },
     "output_type": "display_data"
    }
   ],
   "source": [
    "import numpy as np\n",
    "import matplotlib.pyplot as plt\n",
    "\n",
    "x = np.arange(0, 2*np.pi, 0.1)\n",
    "y = np.sin(x)\n",
    "plt.plot(x, y)\n",
    "plt.show()"
   ]
  },
  {
   "cell_type": "code",
   "execution_count": 182,
   "metadata": {},
   "outputs": [
    {
     "data": {
      "text/plain": [
       "array([0. , 0.1, 0.2, 0.3, 0.4, 0.5, 0.6, 0.7, 0.8, 0.9, 1. ])"
      ]
     },
     "execution_count": 182,
     "metadata": {},
     "output_type": "execute_result"
    }
   ],
   "source": [
    "import numpy as np\n",
    "np.linspace(0, 1, 11)"
   ]
  },
  {
   "cell_type": "code",
   "execution_count": 183,
   "metadata": {},
   "outputs": [
    {
     "data": {
      "text/plain": [
       "array([0. , 0.1, 0.2, 0.3, 0.4, 0.5, 0.6, 0.7, 0.8, 0.9])"
      ]
     },
     "execution_count": 183,
     "metadata": {},
     "output_type": "execute_result"
    }
   ],
   "source": [
    "np.arange(0, 1, 0.1)"
   ]
  },
  {
   "cell_type": "code",
   "execution_count": 184,
   "metadata": {},
   "outputs": [
    {
     "data": {
      "text/plain": [
       "array([1, 2, 3, 4, 5])"
      ]
     },
     "execution_count": 184,
     "metadata": {},
     "output_type": "execute_result"
    }
   ],
   "source": [
    "np.array([1, 2, 3, 4, 5])"
   ]
  },
  {
   "cell_type": "code",
   "execution_count": 185,
   "metadata": {},
   "outputs": [
    {
     "data": {
      "text/plain": [
       "array([[0., 0., 0.],\n",
       "       [0., 0., 0.],\n",
       "       [0., 0., 0.]])"
      ]
     },
     "execution_count": 185,
     "metadata": {},
     "output_type": "execute_result"
    }
   ],
   "source": [
    "np.zeros([3, 3])"
   ]
  },
  {
   "cell_type": "code",
   "execution_count": 186,
   "metadata": {},
   "outputs": [
    {
     "data": {
      "text/plain": [
       "array([[1., 1., 1., 1.],\n",
       "       [1., 1., 1., 1.],\n",
       "       [1., 1., 1., 1.]])"
      ]
     },
     "execution_count": 186,
     "metadata": {},
     "output_type": "execute_result"
    }
   ],
   "source": [
    "np.ones([3, 4])"
   ]
  },
  {
   "cell_type": "code",
   "execution_count": 187,
   "metadata": {},
   "outputs": [
    {
     "data": {
      "text/plain": [
       "array([[1., 0., 0., 0., 0.],\n",
       "       [0., 1., 0., 0., 0.],\n",
       "       [0., 0., 1., 0., 0.],\n",
       "       [0., 0., 0., 1., 0.],\n",
       "       [0., 0., 0., 0., 1.]])"
      ]
     },
     "execution_count": 187,
     "metadata": {},
     "output_type": "execute_result"
    }
   ],
   "source": [
    "np.eye(5)"
   ]
  },
  {
   "cell_type": "code",
   "execution_count": 189,
   "metadata": {},
   "outputs": [
    {
     "data": {
      "text/plain": [
       "array([0.        , 0.11111111, 0.22222222, 0.33333333, 0.44444444,\n",
       "       0.55555556, 0.66666667, 0.77777778, 0.88888889, 1.        ])"
      ]
     },
     "execution_count": 189,
     "metadata": {},
     "output_type": "execute_result"
    }
   ],
   "source": [
    "a = np.linspace(0, 1, 10)\n",
    "b = np.linspace(0, 2, 10)\n",
    "a"
   ]
  },
  {
   "cell_type": "code",
   "execution_count": 190,
   "metadata": {},
   "outputs": [
    {
     "data": {
      "text/plain": [
       "array([0.        , 0.22222222, 0.44444444, 0.66666667, 0.88888889,\n",
       "       1.11111111, 1.33333333, 1.55555556, 1.77777778, 2.        ])"
      ]
     },
     "execution_count": 190,
     "metadata": {},
     "output_type": "execute_result"
    }
   ],
   "source": [
    "b"
   ]
  },
  {
   "cell_type": "code",
   "execution_count": 191,
   "metadata": {},
   "outputs": [
    {
     "data": {
      "text/plain": [
       "array([ 0.        , -0.11111111, -0.22222222, -0.33333333, -0.44444444,\n",
       "       -0.55555556, -0.66666667, -0.77777778, -0.88888889, -1.        ])"
      ]
     },
     "execution_count": 191,
     "metadata": {},
     "output_type": "execute_result"
    }
   ],
   "source": [
    "a - b"
   ]
  },
  {
   "cell_type": "code",
   "execution_count": 192,
   "metadata": {},
   "outputs": [
    {
     "data": {
      "text/plain": [
       "1.0"
      ]
     },
     "execution_count": 192,
     "metadata": {},
     "output_type": "execute_result"
    }
   ],
   "source": [
    "np.max(a)"
   ]
  },
  {
   "cell_type": "code",
   "execution_count": 193,
   "metadata": {},
   "outputs": [
    {
     "data": {
      "text/plain": [
       "array([1.        , 1.11111111, 1.22222222, 1.33333333, 1.44444444,\n",
       "       1.55555556, 1.66666667, 1.77777778, 1.88888889, 2.        ])"
      ]
     },
     "execution_count": 193,
     "metadata": {},
     "output_type": "execute_result"
    }
   ],
   "source": [
    "a + 1.0"
   ]
  },
  {
   "cell_type": "code",
   "execution_count": 194,
   "metadata": {},
   "outputs": [
    {
     "data": {
      "text/plain": [
       "array([0.        , 0.02469136, 0.09876543, 0.22222222, 0.39506173,\n",
       "       0.61728395, 0.88888889, 1.20987654, 1.58024691, 2.        ])"
      ]
     },
     "execution_count": 194,
     "metadata": {},
     "output_type": "execute_result"
    }
   ],
   "source": [
    "a * b"
   ]
  },
  {
   "cell_type": "code",
   "execution_count": 195,
   "metadata": {},
   "outputs": [],
   "source": [
    "a_trans = a.transpose()"
   ]
  },
  {
   "cell_type": "code",
   "execution_count": 196,
   "metadata": {},
   "outputs": [
    {
     "data": {
      "text/plain": [
       "array([0.        , 0.11111111, 0.22222222, 0.33333333, 0.44444444,\n",
       "       0.55555556, 0.66666667, 0.77777778, 0.88888889, 1.        ])"
      ]
     },
     "execution_count": 196,
     "metadata": {},
     "output_type": "execute_result"
    }
   ],
   "source": [
    "a_trans"
   ]
  },
  {
   "cell_type": "code",
   "execution_count": 198,
   "metadata": {},
   "outputs": [],
   "source": [
    "c = np.array([[1, 2], [3, 4]])"
   ]
  },
  {
   "cell_type": "code",
   "execution_count": 199,
   "metadata": {},
   "outputs": [
    {
     "data": {
      "text/plain": [
       "array([[1, 2],\n",
       "       [3, 4]])"
      ]
     },
     "execution_count": 199,
     "metadata": {},
     "output_type": "execute_result"
    }
   ],
   "source": [
    "c"
   ]
  },
  {
   "cell_type": "code",
   "execution_count": 200,
   "metadata": {},
   "outputs": [],
   "source": [
    "c_trans = c.transpose()"
   ]
  },
  {
   "cell_type": "code",
   "execution_count": 201,
   "metadata": {},
   "outputs": [
    {
     "data": {
      "text/plain": [
       "array([[1, 3],\n",
       "       [2, 4]])"
      ]
     },
     "execution_count": 201,
     "metadata": {},
     "output_type": "execute_result"
    }
   ],
   "source": [
    "c_trans"
   ]
  },
  {
   "cell_type": "code",
   "execution_count": 202,
   "metadata": {},
   "outputs": [
    {
     "data": {
      "text/plain": [
       "7.037037037037036"
      ]
     },
     "execution_count": 202,
     "metadata": {},
     "output_type": "execute_result"
    }
   ],
   "source": [
    "np.dot(a_trans, b)"
   ]
  },
  {
   "cell_type": "code",
   "execution_count": 203,
   "metadata": {
    "scrolled": true
   },
   "outputs": [
    {
     "data": {
      "text/plain": [
       "['LinAlgError',\n",
       " '__builtins__',\n",
       " '__cached__',\n",
       " '__doc__',\n",
       " '__file__',\n",
       " '__loader__',\n",
       " '__name__',\n",
       " '__package__',\n",
       " '__path__',\n",
       " '__spec__',\n",
       " '_umath_linalg',\n",
       " 'absolute_import',\n",
       " 'cholesky',\n",
       " 'cond',\n",
       " 'det',\n",
       " 'division',\n",
       " 'eig',\n",
       " 'eigh',\n",
       " 'eigvals',\n",
       " 'eigvalsh',\n",
       " 'info',\n",
       " 'inv',\n",
       " 'lapack_lite',\n",
       " 'linalg',\n",
       " 'lstsq',\n",
       " 'matrix_power',\n",
       " 'matrix_rank',\n",
       " 'multi_dot',\n",
       " 'norm',\n",
       " 'pinv',\n",
       " 'print_function',\n",
       " 'qr',\n",
       " 'slogdet',\n",
       " 'solve',\n",
       " 'svd',\n",
       " 'tensorinv',\n",
       " 'tensorsolve',\n",
       " 'test']"
      ]
     },
     "execution_count": 203,
     "metadata": {},
     "output_type": "execute_result"
    }
   ],
   "source": [
    "dir(np.linalg)"
   ]
  },
  {
   "cell_type": "code",
   "execution_count": 214,
   "metadata": {},
   "outputs": [
    {
     "data": {
      "image/png": "[encoded data removed]",
      "text/plain": [
       "<Figure size 432x288 with 1 Axes>"
      ]
     },
     "metadata": {
      "needs_background": "light"
     },
     "output_type": "display_data"
    }
   ],
   "source": [
    "%matplotlib inline\n",
    "\n",
    "import matplotlib.pyplot as plt\n",
    "\n",
    "pi = 3.1415926\n",
    "x = np.linspace(0, pi, 20)\n",
    "y = np.sin(x)\n",
    "#plt.semilogx(x, y, 'dr')\n",
    "plt.plot(x, y, 'dg', label = \"y = sin(x)\")\n",
    "plt.plot(y, x, 'dy', label = \"x = sin(y)\")\n",
    "plt.xlabel('x')\n",
    "plt.ylabel('y')\n",
    "plt.xlim([0, pi/2])\n",
    "plt.ylim([0, 2])\n",
    "plt.title(\"Title\")\n",
    "plt.legend()\n",
    "plt.show()"
   ]
  },
  {
   "cell_type": "code",
   "execution_count": 216,
   "metadata": {
    "scrolled": true
   },
   "outputs": [
    {
     "name": "stdout",
     "output_type": "stream",
     "text": [
      "Help on function loglog in module matplotlib.pyplot:\n",
      "\n",
      "loglog(*args, **kwargs)\n",
      "    Make a plot with log scaling on both the x and y axis.\n",
      "    \n",
      "    Call signatures::\n",
      "    \n",
      "        loglog([x], y, [fmt], data=None, **kwargs)\n",
      "        loglog([x], y, [fmt], [x2], y2, [fmt2], ..., **kwargs)\n",
      "    \n",
      "    This is just a thin wrapper around `.plot` which additionally changes\n",
      "    both the x-axis and the y-axis to log scaling. All of the concepts and\n",
      "    parameters of plot can be used here as well.\n",
      "    \n",
      "    The additional parameters *basex/y*, *subsx/y* and *nonposx/y* control\n",
      "    the x/y-axis properties. They are just forwarded to `.Axes.set_xscale`\n",
      "    and `.Axes.set_yscale`.\n",
      "    \n",
      "    Parameters\n",
      "    ----------\n",
      "    basex, basey : scalar, optional, default 10\n",
      "        Base of the x/y logarithm.\n",
      "    \n",
      "    subsx, subsy : sequence, optional\n",
      "        The location of the minor x/y ticks. If *None*, reasonable\n",
      "        locations are automatically chosen depending on the number of\n",
      "        decades in the plot.\n",
      "        See `.Axes.set_xscale` / `.Axes.set_yscale` for details.\n",
      "    \n",
      "    nonposx, nonposy : {'mask', 'clip'}, optional, default 'mask'\n",
      "        Non-positive values in x or y can be masked as invalid, or clipped\n",
      "        to a very small positive number.\n",
      "    \n",
      "    Returns\n",
      "    -------\n",
      "    lines\n",
      "        A list of `~.Line2D` objects representing the plotted data.\n",
      "    \n",
      "    Other Parameters\n",
      "    ----------------\n",
      "    **kwargs\n",
      "        All parameters supported by `.plot`.\n",
      "\n"
     ]
    }
   ],
   "source": [
    "help(plt.loglog)"
   ]
  },
  {
   "cell_type": "code",
   "execution_count": 224,
   "metadata": {},
   "outputs": [
    {
     "name": "stdin",
     "output_type": "stream",
     "text": [
      "Enter a positive integer for N: 100\n"
     ]
    },
    {
     "data": {
      "image/png": "[encoded data removed]",
      "text/plain": [
       "<Figure size 432x288 with 1 Axes>"
      ]
     },
     "metadata": {
      "needs_background": "light"
     },
     "output_type": "display_data"
    }
   ],
   "source": [
    "import matplotlib.ticker as mtick\n",
    "import matplotlib.pyplot as plt\n",
    "\n",
    "def factor(N):\n",
    "    if N == 0 or N == 1:\n",
    "        return 1\n",
    "    else:\n",
    "        total = 1\n",
    "        for i in range(2, N+1):\n",
    "            total *= i\n",
    "        return total\n",
    "\n",
    "def Multiplicity(N, n):\n",
    "    return factor(N)/factor(n)/factor(N-n)\n",
    "\n",
    "N = int(input(\"Enter a positive integer for N:\"))\n",
    "N_series = range(N+1)\n",
    "Omega = []\n",
    "\n",
    "for n in N_series:\n",
    "    Omega.append(Multiplicity(N,n))\n",
    "    \n",
    "plt.plot(N_series, Omega)\n",
    "plt.title('N = ' + str(N))\n",
    "plt.xlabel('n')\n",
    "plt.ylabel('$\\Omega(n)$')\n",
    "plt.show()"
   ]
  },
  {
   "cell_type": "code",
   "execution_count": 2,
   "metadata": {},
   "outputs": [],
   "source": [
    "import matplotlib.ticker as mtick\n",
    "import matplotlib.pyplot as plt\n",
    "\n",
    "def factor(N):\n",
    "    \"\"\"\n",
    "    Calculate and return the factorial of N.\n",
    "    \"\"\"\n",
    "    N = int(N)\n",
    "    total = 1\n",
    "    if N < 0:\n",
    "        print(\"Error: N must be greater than 0\")\n",
    "    elif N > 1:\n",
    "        for i in range(2, N+1):\n",
    "            total *= i\n",
    "    return total\n",
    "    \n",
    "def Multiplicity(N, n):\n",
    "    \"\"\"\n",
    "    Calculate and return the multiplicity of N number\n",
    "    of coins and n heads.\n",
    "    \"\"\"\n",
    "    return factor(N)/factor(n)/factor(N-n)\n",
    "\n",
    "def Plot_Omega(N):\n",
    "    \"\"\"\n",
    "    Plot the multiplicities of N coins\n",
    "    \"\"\"\n",
    "    N_series = range(N+1)\n",
    "    Omega = []\n",
    "    \n",
    "    for n in N_series:\n",
    "        Omega.append(Multiplicity(N, n))\n",
    "        \n",
    "    plt.plot(N_series, Omega)\n",
    "    plt.title('N =' + str(N))\n",
    "    plt.xlabel('n')\n",
    "    plt.ylabel('$\\Omega(n)$')\n",
    "    plt.show()"
   ]
  },
  {
   "cell_type": "code",
   "execution_count": 5,
   "metadata": {},
   "outputs": [
    {
     "data": {
      "image/png": "[encoded data removed]",
      "text/plain": [
       "<Figure size 432x288 with 1 Axes>"
      ]
     },
     "metadata": {
      "needs_background": "light"
     },
     "output_type": "display_data"
    }
   ],
   "source": [
    "Plot_Omega(100)"
   ]
  },
  {
   "cell_type": "code",
   "execution_count": 236,
   "metadata": {},
   "outputs": [],
   "source": [
    "import matplotlib.pyplot as plt\n",
    "from math import log, exp\n",
    "\n",
    "def factor(N):\n",
    "    N = int(N)\n",
    "    total = 1\n",
    "    if N < 0:\n",
    "        print(\"Error: N must be greater than 0\")\n",
    "    elif N > 1:\n",
    "        for i in range(2, N+1):\n",
    "            total *= i\n",
    "    return total\n",
    "\n",
    "def Multiplicity(N, n):\n",
    "    return exp(log(factor(N)) - log(factor(n)) - log(factor(N - n)))\n",
    "\n",
    "def Plot_Omega2(N):\n",
    "    N_series = range(N + 1)\n",
    "    Omega = []\n",
    "    \n",
    "    for n in N_series:\n",
    "        Omega.append(Multiplicity(N, n))\n",
    "        \n",
    "    plt.plot(N_series, Omega)\n",
    "    plt.title('N = ' + str(N))\n",
    "    plt.xlabel('n')\n",
    "    plt.ylabel('$\\Omega(n)$')\n",
    "    plt.show()"
   ]
  },
  {
   "cell_type": "code",
   "execution_count": 237,
   "metadata": {},
   "outputs": [
    {
     "data": {
      "image/png": "[encoded data removed]",
      "text/plain": [
       "<Figure size 432x288 with 1 Axes>"
      ]
     },
     "metadata": {
      "needs_background": "light"
     },
     "output_type": "display_data"
    }
   ],
   "source": [
    "Plot_Omega2(10)"
   ]
  },
  {
   "cell_type": "code",
   "execution_count": 238,
   "metadata": {},
   "outputs": [
    {
     "data": {
      "image/png": "[encoded data removed]",
      "text/plain": [
       "<Figure size 432x288 with 1 Axes>"
      ]
     },
     "metadata": {
      "needs_background": "light"
     },
     "output_type": "display_data"
    }
   ],
   "source": [
    "Plot_Omega2(100)"
   ]
  },
  {
   "cell_type": "code",
   "execution_count": 239,
   "metadata": {},
   "outputs": [
    {
     "data": {
      "image/png": "[encoded data removed]",
      "text/plain": [
       "<Figure size 432x288 with 1 Axes>"
      ]
     },
     "metadata": {
      "needs_background": "light"
     },
     "output_type": "display_data"
    }
   ],
   "source": [
    "Plot_Omega2(500)"
   ]
  },
  {
   "cell_type": "code",
   "execution_count": 240,
   "metadata": {},
   "outputs": [
    {
     "data": {
      "image/png": "[encoded data removed]",
      "text/plain": [
       "<Figure size 432x288 with 1 Axes>"
      ]
     },
     "metadata": {
      "needs_background": "light"
     },
     "output_type": "display_data"
    }
   ],
   "source": [
    "Plot_Omega2(1000)"
   ]
  },
  {
   "cell_type": "code",
   "execution_count": 254,
   "metadata": {},
   "outputs": [
    {
     "data": {
      "image/png": "[encoded data removed]",
      "text/plain": [
       "<Figure size 432x288 with 1 Axes>"
      ]
     },
     "metadata": {
      "needs_background": "light"
     },
     "output_type": "display_data"
    }
   ],
   "source": [
    "Plot_Omega2(1028)"
   ]
  },
  {
   "cell_type": "code",
   "execution_count": 7,
   "metadata": {},
   "outputs": [
    {
     "data": {
      "image/png": "[encoded data removed]",
      "text/plain": [
       "<Figure size 432x288 with 1 Axes>"
      ]
     },
     "metadata": {
      "needs_background": "light"
     },
     "output_type": "display_data"
    }
   ],
   "source": [
    "qa = [0, 1, 2]\n",
    "Omega = [3, 9, 3]\n",
    "plt.plot(qa, Omega, '.')\n",
    "plt.xlabel('$q_A$')\n",
    "plt.ylabel('$\\Omega$')\n",
    "plt.show()"
   ]
  },
  {
   "cell_type": "code",
   "execution_count": 10,
   "metadata": {},
   "outputs": [],
   "source": [
    "import numpy as np\n",
    "import matplotlib.pyplot as plt\n",
    "from math import log, exp\n",
    "\n",
    "def Factor(N):\n",
    "    \"\"\"\n",
    "    Calculate and return the factorial of N.\n",
    "    \"\"\"\n",
    "    N = int(N)\n",
    "    total = 1\n",
    "    if N < 0:\n",
    "        print(\"Error: N must be greater than 0\")\n",
    "    elif N > 1:\n",
    "        for i in range(2, N+1):\n",
    "            total *= i\n",
    "    return total\n",
    "\n",
    "def Multiplicity(N, q):\n",
    "    \"\"\"\n",
    "    Calculate and return the multiplicity of N number\n",
    "    of harmonic oscillators and q units of energy.\n",
    "    \"\"\"\n",
    "    return exp(log(Factor(q + N - 1)) - log(Factor(q)) - log(Factor(N - 1)))\n",
    "\n",
    "def Plot_Omega3(Na, Nb, q):\n",
    "    \"\"\"\n",
    "    Plot the multiplicities, as a function of qa,\n",
    "    of Na and Nb harmonic oscillators and q units\n",
    "    of energy.\n",
    "    \"\"\"\n",
    "    qa_series = range(q + 1)\n",
    "    Omega_A = []\n",
    "    Omega_B = []\n",
    "    Omega_tot = np.empty(1)\n",
    "    \n",
    "    for qa in qa_series:\n",
    "        Omega_A.append(Multiplicity(Na, qa))\n",
    "        Omega_B.append(Multiplicity(Nb, (q - qa)))\n",
    "    \n",
    "    Omega_A = np.asarray(Omega_A)\n",
    "    Omega_B = np.asarray(Omega_B)\n",
    "    Omega_tot = Omega_A * Omega_B\n",
    "    \n",
    "    plt.plot(qa_series, Omega_A, '.', label='$\\Omega(A)$')\n",
    "    plt.plot(qa_series, Omega_B, '.', label='$\\Omega(B)$')\n",
    "    plt.plot(qa_series, Omega_tot, '.', label='$\\Omega(total)$')\n",
    "    plt.title('$N_A =$' + str(Na) + ', $N_B =$' + str(Nb) + ', $q =$' + str(q))\n",
    "    plt.xlabel('$q_A$')\n",
    "    plt.ylabel('$\\Omega$')\n",
    "    plt.legend(loc='best')\n",
    "    plt.grid(color='black', alpha=0.2, linestyle='dashed', linewidth=0.5)\n",
    "    plt.show()    "
   ]
  },
  {
   "cell_type": "code",
   "execution_count": 11,
   "metadata": {},
   "outputs": [
    {
     "data": {
      "image/png": "[encoded data removed]",
      "text/plain": [
       "<Figure size 432x288 with 1 Axes>"
      ]
     },
     "metadata": {
      "needs_background": "light"
     },
     "output_type": "display_data"
    }
   ],
   "source": [
    "Plot_Omega3(300, 200, 100)"
   ]
  },
  {
   "cell_type": "code",
   "execution_count": 365,
   "metadata": {},
   "outputs": [
    {
     "data": {
      "image/png": "[encoded data removed]",
      "text/plain": [
       "<Figure size 432x288 with 1 Axes>"
      ]
     },
     "metadata": {
      "needs_background": "light"
     },
     "output_type": "display_data"
    }
   ],
   "source": [
    "Plot_Omega3(3000, 2000, 100)"
   ]
  },
  {
   "cell_type": "code",
   "execution_count": null,
   "metadata": {},
   "outputs": [],
   "source": []
  }
 ],
 "metadata": {
  "kernelspec": {
   "display_name": "Python 3",
   "language": "python",
   "name": "python3"
  },
  "language_info": {
   "codemirror_mode": {
    "name": "ipython",
    "version": 3
   },
   "file_extension": ".py",
   "mimetype": "text/x-python",
   "name": "python",
   "nbconvert_exporter": "python",
   "pygments_lexer": "ipython3",
   "version": "3.7.3"
  },
  "toc-autonumbering": false,
  "toc-showcode": false,
  "toc-showmarkdowntxt": false
 },
 "nbformat": 4,
 "nbformat_minor": 4
}
