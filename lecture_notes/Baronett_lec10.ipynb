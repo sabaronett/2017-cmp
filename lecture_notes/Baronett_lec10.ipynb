{
 "cells": [
  {
   "cell_type": "code",
   "execution_count": 3,
   "metadata": {},
   "outputs": [],
   "source": [
    "from numba import jit\n",
    "import numpy as np\n",
    "\n",
    "@jit\n",
    "def dftJIT(y):\n",
    "    '''\n",
    "    This is a code to do discrete Fourier transform\n",
    "    '''    \n",
    "    N = len(y)\n",
    "    c = np.zeros(N, complex)\n",
    "    for k in range(N):\n",
    "        for n in range(N):\n",
    "            c[k] += y[n]*np.exp(-2j*np.pi*k*n/N)\n",
    "    return c"
   ]
  },
  {
   "cell_type": "code",
   "execution_count": 4,
   "metadata": {
    "scrolled": true
   },
   "outputs": [
    {
     "name": "stderr",
     "output_type": "stream",
     "text": [
      "<ipython-input-3-8ca1affba080>:4: NumbaWarning: \n",
      "Compilation is falling back to object mode WITH looplifting enabled because Function \"dftJIT\" failed type inference due to: Invalid use of Function(<built-in function zeros>) with argument(s) of type(s): (int64, Function(<class 'complex'>))\n",
      " * parameterized\n",
      "In definition 0:\n",
      "    All templates rejected with literals.\n",
      "In definition 1:\n",
      "    All templates rejected without literals.\n",
      "This error is usually caused by passing an argument of a type that is unsupported by the named function.\n",
      "[1] During: resolving callee type: Function(<built-in function zeros>)\n",
      "[2] During: typing of call at <ipython-input-3-8ca1affba080> (10)\n",
      "\n",
      "\n",
      "File \"<ipython-input-3-8ca1affba080>\", line 10:\n",
      "def dftJIT(y):\n",
      "    <source elided>\n",
      "    N = len(y)\n",
      "    c = np.zeros(N, complex)\n",
      "    ^\n",
      "\n",
      "  @jit\n",
      "<ipython-input-3-8ca1affba080>:4: NumbaWarning: \n",
      "Compilation is falling back to object mode WITHOUT looplifting enabled because Function \"dftJIT\" failed type inference due to: cannot determine Numba type of <class 'numba.dispatcher.LiftedLoop'>\n",
      "\n",
      "File \"<ipython-input-3-8ca1affba080>\", line 11:\n",
      "def dftJIT(y):\n",
      "    <source elided>\n",
      "    c = np.zeros(N, complex)\n",
      "    for k in range(N):\n",
      "    ^\n",
      "\n",
      "  @jit\n",
      "/home/stanley/miniconda3/envs/rebound_venv/lib/python3.7/site-packages/numba/compiler.py:742: NumbaWarning: Function \"dftJIT\" was compiled in object mode without forceobj=True, but has lifted loops.\n",
      "\n",
      "File \"<ipython-input-3-8ca1affba080>\", line 5:\n",
      "@jit\n",
      "def dftJIT(y):\n",
      "^\n",
      "\n",
      "  self.func_ir.loc))\n",
      "/home/stanley/miniconda3/envs/rebound_venv/lib/python3.7/site-packages/numba/compiler.py:751: NumbaDeprecationWarning: \n",
      "Fall-back from the nopython compilation path to the object mode compilation path has been detected, this is deprecated behaviour.\n",
      "\n",
      "For more information visit http://numba.pydata.org/numba-doc/latest/reference/deprecation.html#deprecation-of-object-mode-fall-back-behaviour-when-using-jit\n",
      "\n",
      "File \"<ipython-input-3-8ca1affba080>\", line 5:\n",
      "@jit\n",
      "def dftJIT(y):\n",
      "^\n",
      "\n",
      "  warnings.warn(errors.NumbaDeprecationWarning(msg, self.func_ir.loc))\n"
     ]
    },
    {
     "name": "stdout",
     "output_type": "stream",
     "text": [
      "51.4 µs ± 28.2 µs per loop (mean ± std. dev. of 7 runs, 1 loop each)\n",
      "1.98 ms ± 37.6 µs per loop (mean ± std. dev. of 7 runs, 100 loops each)\n",
      "7.24 ms ± 52.7 µs per loop (mean ± std. dev. of 7 runs, 100 loops each)\n",
      "35 ms ± 295 µs per loop (mean ± std. dev. of 7 runs, 10 loops each)\n",
      "135 ms ± 435 µs per loop (mean ± std. dev. of 7 runs, 10 loops each)\n",
      "515 ms ± 16.7 ms per loop (mean ± std. dev. of 7 runs, 1 loop each)\n"
     ]
    }
   ],
   "source": [
    "%timeit dftJIT(np.random.random(10))\n",
    "%timeit dftJIT(np.random.random(100))\n",
    "%timeit dftJIT(np.random.random(200))\n",
    "%timeit dftJIT(np.random.random(500))\n",
    "%timeit dftJIT(np.random.random(1000))\n",
    "%timeit dftJIT(np.random.random(2000))"
   ]
  }
 ],
 "metadata": {
  "kernelspec": {
   "display_name": "Python 3",
   "language": "python",
   "name": "python3"
  },
  "language_info": {
   "codemirror_mode": {
    "name": "ipython",
    "version": 3
   },
   "file_extension": ".py",
   "mimetype": "text/x-python",
   "name": "python",
   "nbconvert_exporter": "python",
   "pygments_lexer": "ipython3",
   "version": "3.7.3"
  }
 },
 "nbformat": 4,
 "nbformat_minor": 4
}
